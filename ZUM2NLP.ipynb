{
  "cells": [
    {
      "cell_type": "markdown",
      "metadata": {
        "id": "view-in-github",
        "colab_type": "text"
      },
      "source": [
        "<a href=\"https://colab.research.google.com/github/marcinmichalsmolen/zum_nlp/blob/main/ZUM2NLP.ipynb\" target=\"_parent\"><img src=\"https://colab.research.google.com/assets/colab-badge.svg\" alt=\"Open In Colab\"/></a>"
      ]
    },
    {
      "cell_type": "markdown",
      "metadata": {
        "id": "3K65N56cyr21"
      },
      "source": [
        "ZUM_NLP Marcin Smoleń s23429"
      ]
    },
    {
      "cell_type": "code",
      "execution_count": null,
      "metadata": {
        "id": "goy-iNWae57e"
      },
      "outputs": [],
      "source": [
        "from google.colab import drive\n",
        "drive.mount('/content/drive/')\n",
        "\n",
        "!python -m pip install spacy==3.2.0 -q\n",
        "!python -m spacy download pl_core_news_md"
      ]
    },
    {
      "cell_type": "markdown",
      "metadata": {
        "id": "WZzyZxdGAlIP"
      },
      "source": [
        "Import bibliotek i wczytanie zbioru tweetów z mojego serwera"
      ]
    },
    {
      "cell_type": "code",
      "execution_count": 3,
      "metadata": {
        "id": "8AJ12CSRttnB",
        "colab": {
          "base_uri": "https://localhost:8080/"
        },
        "outputId": "89323973-d9b9-4de9-adcb-f0ff61b6072e"
      },
      "outputs": [
        {
          "output_type": "execute_result",
          "data": {
            "text/plain": [
              "2012-03-04 10:17:01.616861185    [VIDEO] Premier: Przedstawiamy kompleksowy pla...\n",
              "2011-10-23 17:01:55.487666178                                                     \n",
              "2015-01-17 05:04:47.280467978       Nie no to jest Złoto 🤣 https://t.co/Rxrlckriug\n",
              "2012-07-29 04:00:49.879867394    Czekam, kiedy Polski Związek Hodowców Gołębi P...\n",
              "2013-02-08 14:30:29.840453643    Eksperci przewidują, że szczepionki przeciwko ...\n",
              "                                                       ...                        \n",
              "2009-10-18 20:27:38.570440704    Coraz więcej osób z personelu medycznego pisze...\n",
              "2015-12-22 03:44:55.948939266    Najwyższa od marca liczba nowych zgonów na Cov...\n",
              "2014-01-13 00:03:49.843283971                Czechs' loss. https://t.co/MdZP4V1B0k\n",
              "2012-01-06 11:20:47.311114241    Kilka lat temy Pfizer zapłacił kilkadziesiat m...\n",
              "2011-11-26 01:37:09.843283997                                                     \n",
              "Length: 462124, dtype: object"
            ]
          },
          "metadata": {},
          "execution_count": 3
        }
      ],
      "source": [
        "import numpy as np\n",
        "import pandas as pd\n",
        "import string\n",
        "import json\n",
        "import re\n",
        "\n",
        "DATASET_COLUMNS=['Id', 'text',]\n",
        "DATASET_ENCODING = \"UTF-8\"\n",
        "from pandas.core import frame\n",
        "df=pd.read_json(path_or_buf='http://77.55.209.58/zum2/tweets.json',encoding=DATASET_ENCODING,typ=frame)\n",
        "df"
      ]
    },
    {
      "cell_type": "code",
      "execution_count": 4,
      "metadata": {
        "id": "NGaAYtAbyX_1",
        "colab": {
          "base_uri": "https://localhost:8080/",
          "height": 423
        },
        "outputId": "454d6494-d850-4662-cb18-95a574c9de2b"
      },
      "outputs": [
        {
          "output_type": "execute_result",
          "data": {
            "text/html": [
              "\n",
              "  <div id=\"df-3e3323a6-b4af-4565-9db7-89c03a380c1e\">\n",
              "    <div class=\"colab-df-container\">\n",
              "      <div>\n",
              "<style scoped>\n",
              "    .dataframe tbody tr th:only-of-type {\n",
              "        vertical-align: middle;\n",
              "    }\n",
              "\n",
              "    .dataframe tbody tr th {\n",
              "        vertical-align: top;\n",
              "    }\n",
              "\n",
              "    .dataframe thead th {\n",
              "        text-align: right;\n",
              "    }\n",
              "</style>\n",
              "<table border=\"1\" class=\"dataframe\">\n",
              "  <thead>\n",
              "    <tr style=\"text-align: right;\">\n",
              "      <th></th>\n",
              "      <th>text</th>\n",
              "      <th>label</th>\n",
              "    </tr>\n",
              "  </thead>\n",
              "  <tbody>\n",
              "    <tr>\n",
              "      <th>1330856221616861185</th>\n",
              "      <td>[VIDEO] Premier: Przedstawiamy kompleksowy pla...</td>\n",
              "      <td>None</td>\n",
              "    </tr>\n",
              "    <tr>\n",
              "      <th>1319389315487666178</th>\n",
              "      <td></td>\n",
              "      <td>None</td>\n",
              "    </tr>\n",
              "    <tr>\n",
              "      <th>1421471087280467978</th>\n",
              "      <td>Nie no to jest Złoto 🤣 https://t.co/Rxrlckriug</td>\n",
              "      <td>None</td>\n",
              "    </tr>\n",
              "    <tr>\n",
              "      <th>1343534449879867394</th>\n",
              "      <td>Czekam, kiedy Polski Związek Hodowców Gołębi P...</td>\n",
              "      <td>None</td>\n",
              "    </tr>\n",
              "    <tr>\n",
              "      <th>1360333829840453643</th>\n",
              "      <td>Eksperci przewidują, że szczepionki przeciwko ...</td>\n",
              "      <td>None</td>\n",
              "    </tr>\n",
              "    <tr>\n",
              "      <th>...</th>\n",
              "      <td>...</td>\n",
              "      <td>...</td>\n",
              "    </tr>\n",
              "    <tr>\n",
              "      <th>1255897658570440704</th>\n",
              "      <td>Coraz więcej osób z personelu medycznego pisze...</td>\n",
              "      <td>None</td>\n",
              "    </tr>\n",
              "    <tr>\n",
              "      <th>1450755895948939266</th>\n",
              "      <td>Najwyższa od marca liczba nowych zgonów na Cov...</td>\n",
              "      <td>None</td>\n",
              "    </tr>\n",
              "    <tr>\n",
              "      <th>1389571429843283971</th>\n",
              "      <td>Czechs' loss. https://t.co/MdZP4V1B0k</td>\n",
              "      <td>None</td>\n",
              "    </tr>\n",
              "    <tr>\n",
              "      <th>1325848847311114241</th>\n",
              "      <td>Kilka lat temy Pfizer zapłacił kilkadziesiat m...</td>\n",
              "      <td>None</td>\n",
              "    </tr>\n",
              "    <tr>\n",
              "      <th>1322271429843283997</th>\n",
              "      <td></td>\n",
              "      <td>None</td>\n",
              "    </tr>\n",
              "  </tbody>\n",
              "</table>\n",
              "<p>462124 rows × 2 columns</p>\n",
              "</div>\n",
              "      <button class=\"colab-df-convert\" onclick=\"convertToInteractive('df-3e3323a6-b4af-4565-9db7-89c03a380c1e')\"\n",
              "              title=\"Convert this dataframe to an interactive table.\"\n",
              "              style=\"display:none;\">\n",
              "        \n",
              "  <svg xmlns=\"http://www.w3.org/2000/svg\" height=\"24px\"viewBox=\"0 0 24 24\"\n",
              "       width=\"24px\">\n",
              "    <path d=\"M0 0h24v24H0V0z\" fill=\"none\"/>\n",
              "    <path d=\"M18.56 5.44l.94 2.06.94-2.06 2.06-.94-2.06-.94-.94-2.06-.94 2.06-2.06.94zm-11 1L8.5 8.5l.94-2.06 2.06-.94-2.06-.94L8.5 2.5l-.94 2.06-2.06.94zm10 10l.94 2.06.94-2.06 2.06-.94-2.06-.94-.94-2.06-.94 2.06-2.06.94z\"/><path d=\"M17.41 7.96l-1.37-1.37c-.4-.4-.92-.59-1.43-.59-.52 0-1.04.2-1.43.59L10.3 9.45l-7.72 7.72c-.78.78-.78 2.05 0 2.83L4 21.41c.39.39.9.59 1.41.59.51 0 1.02-.2 1.41-.59l7.78-7.78 2.81-2.81c.8-.78.8-2.07 0-2.86zM5.41 20L4 18.59l7.72-7.72 1.47 1.35L5.41 20z\"/>\n",
              "  </svg>\n",
              "      </button>\n",
              "      \n",
              "  <style>\n",
              "    .colab-df-container {\n",
              "      display:flex;\n",
              "      flex-wrap:wrap;\n",
              "      gap: 12px;\n",
              "    }\n",
              "\n",
              "    .colab-df-convert {\n",
              "      background-color: #E8F0FE;\n",
              "      border: none;\n",
              "      border-radius: 50%;\n",
              "      cursor: pointer;\n",
              "      display: none;\n",
              "      fill: #1967D2;\n",
              "      height: 32px;\n",
              "      padding: 0 0 0 0;\n",
              "      width: 32px;\n",
              "    }\n",
              "\n",
              "    .colab-df-convert:hover {\n",
              "      background-color: #E2EBFA;\n",
              "      box-shadow: 0px 1px 2px rgba(60, 64, 67, 0.3), 0px 1px 3px 1px rgba(60, 64, 67, 0.15);\n",
              "      fill: #174EA6;\n",
              "    }\n",
              "\n",
              "    [theme=dark] .colab-df-convert {\n",
              "      background-color: #3B4455;\n",
              "      fill: #D2E3FC;\n",
              "    }\n",
              "\n",
              "    [theme=dark] .colab-df-convert:hover {\n",
              "      background-color: #434B5C;\n",
              "      box-shadow: 0px 1px 3px 1px rgba(0, 0, 0, 0.15);\n",
              "      filter: drop-shadow(0px 1px 2px rgba(0, 0, 0, 0.3));\n",
              "      fill: #FFFFFF;\n",
              "    }\n",
              "  </style>\n",
              "\n",
              "      <script>\n",
              "        const buttonEl =\n",
              "          document.querySelector('#df-3e3323a6-b4af-4565-9db7-89c03a380c1e button.colab-df-convert');\n",
              "        buttonEl.style.display =\n",
              "          google.colab.kernel.accessAllowed ? 'block' : 'none';\n",
              "\n",
              "        async function convertToInteractive(key) {\n",
              "          const element = document.querySelector('#df-3e3323a6-b4af-4565-9db7-89c03a380c1e');\n",
              "          const dataTable =\n",
              "            await google.colab.kernel.invokeFunction('convertToInteractive',\n",
              "                                                     [key], {});\n",
              "          if (!dataTable) return;\n",
              "\n",
              "          const docLinkHtml = 'Like what you see? Visit the ' +\n",
              "            '<a target=\"_blank\" href=https://colab.research.google.com/notebooks/data_table.ipynb>data table notebook</a>'\n",
              "            + ' to learn more about interactive tables.';\n",
              "          element.innerHTML = '';\n",
              "          dataTable['output_type'] = 'display_data';\n",
              "          await google.colab.output.renderOutput(dataTable, element);\n",
              "          const docLink = document.createElement('div');\n",
              "          docLink.innerHTML = docLinkHtml;\n",
              "          element.appendChild(docLink);\n",
              "        }\n",
              "      </script>\n",
              "    </div>\n",
              "  </div>\n",
              "  "
            ],
            "text/plain": [
              "                                                                  text label\n",
              "1330856221616861185  [VIDEO] Premier: Przedstawiamy kompleksowy pla...  None\n",
              "1319389315487666178                                                     None\n",
              "1421471087280467978     Nie no to jest Złoto 🤣 https://t.co/Rxrlckriug  None\n",
              "1343534449879867394  Czekam, kiedy Polski Związek Hodowców Gołębi P...  None\n",
              "1360333829840453643  Eksperci przewidują, że szczepionki przeciwko ...  None\n",
              "...                                                                ...   ...\n",
              "1255897658570440704  Coraz więcej osób z personelu medycznego pisze...  None\n",
              "1450755895948939266  Najwyższa od marca liczba nowych zgonów na Cov...  None\n",
              "1389571429843283971              Czechs' loss. https://t.co/MdZP4V1B0k  None\n",
              "1325848847311114241  Kilka lat temy Pfizer zapłacił kilkadziesiat m...  None\n",
              "1322271429843283997                                                     None\n",
              "\n",
              "[462124 rows x 2 columns]"
            ]
          },
          "metadata": {},
          "execution_count": 4
        }
      ],
      "source": [
        "from pandas.io.formats.info import DataFrameInfo\n",
        "N = 10\n",
        "df.sample(N) \n",
        "# Konwertuje dane do formatu Dataframe\n",
        "data=pd.DataFrame(data=df)\n",
        "data.index=pd.to_numeric(data.index)\n",
        "data['label'] = None\n",
        "data.columns=['text','label']\n",
        "data.index.unique()\n",
        "data"
      ]
    },
    {
      "cell_type": "markdown",
      "source": [
        "Import bibliotek"
      ],
      "metadata": {
        "id": "J5vhnMUcjNPE"
      }
    },
    {
      "cell_type": "code",
      "execution_count": 5,
      "metadata": {
        "id": "mio4QG2Z-Wl5"
      },
      "outputs": [],
      "source": [
        "import seaborn as sns\n",
        "from wordcloud import WordCloud\n",
        "import matplotlib.pyplot as plt\n",
        "import nltk\n",
        "from nltk.stem import WordNetLemmatizer\n",
        "import spacy\n",
        "from sklearn.svm import LinearSVC\n",
        "from sklearn.naive_bayes import BernoulliNB\n",
        "from sklearn.linear_model import LogisticRegression\n",
        "from sklearn.model_selection import train_test_split\n",
        "from sklearn.feature_extraction.text import TfidfVectorizer\n",
        "from sklearn.metrics import confusion_matrix, classification_report\n",
        "\n",
        "from textblob import TextBlob"
      ]
    },
    {
      "cell_type": "code",
      "execution_count": 6,
      "metadata": {
        "id": "r9kL1PwR_Ako"
      },
      "outputs": [],
      "source": [
        "def get_tweet_sentiment(tweet):\n",
        "        '''\n",
        "        Utility function to classify sentiment of passed tweet\n",
        "        using textblob's sentiment method\n",
        "        '''\n",
        "        # create TextBlob object of passed tweet text\n",
        "        analysis = TextBlob(tweet)\n",
        "        # Ustawienie sentymentu\n",
        "        if analysis.sentiment.polarity > 0:\n",
        "            return 'pozytywny'\n",
        "        else:\n",
        "            return 'negatywny'"
      ]
    },
    {
      "cell_type": "code",
      "execution_count": null,
      "metadata": {
        "colab": {
          "background_save": true
        },
        "id": "TBUsmaCT_BB3"
      },
      "outputs": [],
      "source": [
        "for ind in data.index:\n",
        "     data['label'][ind] = get_tweet_sentiment(data['text'][ind])"
      ]
    },
    {
      "cell_type": "code",
      "execution_count": null,
      "metadata": {
        "id": "DFbV1IoaHKnN"
      },
      "outputs": [],
      "source": [
        "ax.set_xticklabels(['pozytywny','negatywny'], rotation=0)\n",
        "sns.countplot(x='label', data=df)"
      ]
    },
    {
      "cell_type": "code",
      "execution_count": null,
      "metadata": {
        "id": "1Z-Gb8QoJndl"
      },
      "outputs": [],
      "source": [
        "data=data[['text','label']] \n",
        "pd.options.mode.chained_assignment = None\n",
        "data_pos = df[df['label'].isin(['pozytywny'])]\n",
        "data_neg = df[df['label'].isin(['negatywny'])]\n",
        "print(data_neg)\n",
        "print(data_pos)\n",
        "dataset = pd.concat([data_pos, data_neg])\n",
        "dataset= dataset.applymap(lambda s:s.lower() if type(s) == str else s)\n",
        "dataset.sample(100)"
      ]
    },
    {
      "cell_type": "markdown",
      "metadata": {
        "id": "p16Rs36aIzFC"
      },
      "source": [
        "Wczytywanie zbioru stopwords do odszumienia danych i wyświetlenie jego zawartości"
      ]
    },
    {
      "cell_type": "code",
      "execution_count": null,
      "metadata": {
        "id": "hRR7qSrrIfwD"
      },
      "outputs": [],
      "source": [
        "nlp = spacy.load('pl_core_news_md')\n",
        "stopwordlist = nlp.Defaults.stop_words\n",
        "print(stopwordlist)"
      ]
    },
    {
      "cell_type": "code",
      "execution_count": null,
      "metadata": {
        "id": "7SAJfJhaKC1z"
      },
      "outputs": [],
      "source": [
        "def cleaning_stopwords(text):\n",
        "    return \" \".join([word for word in str(text).split() if word not in stopwordlist])\n",
        "for ind in dataset.index:\n",
        "     dataset['text'][ind] = cleaning_stopwords(dataset['text'][ind])\n",
        "dataset.sample(10)\n",
        "  "
      ]
    },
    {
      "cell_type": "code",
      "execution_count": null,
      "metadata": {
        "id": "9Pu49AU0KOk7"
      },
      "outputs": [],
      "source": [
        "dataset['text'].head()\n"
      ]
    },
    {
      "cell_type": "code",
      "execution_count": null,
      "metadata": {
        "id": "HNHYJlxNKPvz"
      },
      "outputs": [],
      "source": [
        "punctuations_list = string.punctuation\n",
        "def cleaning_punctuations(text):\n",
        "    translator = str.maketrans('', '', punctuations_list)\n",
        "    return text.translate(translator)\n",
        "\n",
        "for ind in dataset.index:\n",
        "     dataset['text'][ind] = cleaning_punctuations(dataset['text'][ind])\n",
        "\n",
        "dataset.sample(10)"
      ]
    },
    {
      "cell_type": "code",
      "execution_count": null,
      "metadata": {
        "id": "SUKWEanLKZ5K"
      },
      "outputs": [],
      "source": [
        "def cleaning_repeating_char(text):\n",
        "    return re.sub(r'(.)1+', r'1', text)\n",
        "for ind in dataset.index:\n",
        "     dataset['text'][ind] = cleaning_repeating_char(dataset['text'][ind])\n",
        "dataset.sample(10)"
      ]
    },
    {
      "cell_type": "code",
      "execution_count": null,
      "metadata": {
        "id": "IdnqzxizKf-C"
      },
      "outputs": [],
      "source": [
        "def cleaning_URLs(data):\n",
        "    return re.sub('((www.[^s]+)|(https[^s]+))',' ',data)\n",
        "\n",
        "for ind in dataset.index:\n",
        "     dataset['text'][ind] = cleaning_URLs(dataset['text'][ind])\n",
        "\n",
        "dataset.sample(10)"
      ]
    },
    {
      "cell_type": "code",
      "execution_count": null,
      "metadata": {
        "id": "di9-il1YKkCh"
      },
      "outputs": [],
      "source": [
        "def cleaning_numbers(data):\n",
        "    return re.sub('[0-9]+', '', data)\n",
        "    \n",
        "for ind in dataset.index:\n",
        "     dataset['text'][ind] = cleaning_numbers(dataset['text'][ind])\n",
        "\n",
        "dataset.sample(10)"
      ]
    },
    {
      "cell_type": "markdown",
      "metadata": {
        "id": "Pu7URp5DKpzT"
      },
      "source": [
        "Tokenizacja"
      ]
    },
    {
      "cell_type": "code",
      "execution_count": null,
      "metadata": {
        "id": "oTZwOBaCKrch"
      },
      "outputs": [],
      "source": [
        "from nltk.tokenize import RegexpTokenizer\n",
        "tokenizer = RegexpTokenizer(r'w+')\n",
        "dataset['text'] = dataset['text'].apply(tokenizer.tokenize)\n",
        "dataset['text'].head()"
      ]
    },
    {
      "cell_type": "code",
      "execution_count": null,
      "metadata": {
        "id": "cq_ftSBIKx-J"
      },
      "outputs": [],
      "source": [
        "X_train, X_test, y_train, y_test = train_test_split(X,y,test_size = 0.05, random_state =42)"
      ]
    },
    {
      "cell_type": "code",
      "execution_count": null,
      "metadata": {
        "id": "VvgzvSzOK3Ea"
      },
      "outputs": [],
      "source": [
        "vectorizer = TfidfVectorizer(ngram_range=(1,2), max_features=500000)\n",
        "vectorizer.fit(X_train)\n",
        "print('No. of feature_words: ', len(vectorizer.get_feature_names()))"
      ]
    },
    {
      "cell_type": "code",
      "execution_count": null,
      "metadata": {
        "id": "ueOS5jwbK67p"
      },
      "outputs": [],
      "source": [
        "X_train = vectorizer.transform(X_train)\n",
        "X_test  = vectorizer.transform(X_test)\n"
      ]
    },
    {
      "cell_type": "code",
      "execution_count": null,
      "metadata": {
        "id": "AJhe2RisK8yy"
      },
      "outputs": [],
      "source": [
        "def model_Evaluate(model):\n",
        "  # Predykcja danych na danych testowych\n",
        "  y_pred = model.predict(X_test)\n",
        "\n",
        "  # Wyświetlenie metryk ewaluacji na podstawie predykcji i ground truth (faktycznych etykiet)\n",
        "  print(classification_report(y_test, y_pred))\n",
        "\n",
        "  # Obliczamy i wyświetlamy confusion matrix\n",
        "  cf_matrix = confusion_matrix(y_test, y_pred)\n",
        "  categories = ['negatywny','pozytywny']\n",
        "  group_names n= ['True Neg','False Pos', 'False Neg','True Pos']\n",
        "  group_percentages = ['{0:.2%}'.format(value) for value in cf_matrix.flatten() / np.sum(cf_matrix)]\n",
        "  labels = [f'{v1}n{v2}' for v1, v2 in zip(group_names, group_percentages)]\n",
        "  labels = np.asarray(labels).reshape(2,2)\n",
        "  sns.heatmap(cf_matrix, annot = labels, cmap = 'Blues',fmt = '',\n",
        "  xticklabels = categories, yticklabels = categories)\n",
        "  plt.xlabel(\"Predicted values\", fontdict = {'size':14}, labelpad = 10)\n",
        "  plt.ylabel(\"Actual values\" , fontdict = {'size':14}, labelpad = 10)\n",
        "  plt.title (\"Confusion Matrix\", fontdict = {'size':18}, pad = 20)\n",
        "  return y_pred"
      ]
    },
    {
      "cell_type": "code",
      "execution_count": null,
      "metadata": {
        "id": "e44vuO_0K-Kj"
      },
      "outputs": [],
      "source": [
        "BNBmodel = BernoulliNB()\n",
        "BNBmodel.fit(X_train, y_train)\n",
        "y_pred1 = BNBmodel.predict(X_test)\n",
        "print(y_pred1)"
      ]
    },
    {
      "cell_type": "code",
      "execution_count": null,
      "metadata": {
        "id": "5KFyAyQ8LCXa"
      },
      "outputs": [],
      "source": [
        "from sklearn.metrics import roc_curve, auc\n",
        "\n",
        "fpr, tpr, thresholds = roc_curve(y_test, y_pred1)\n",
        "roc_auc = auc(fpr, tpr)\n",
        "plt.figure()\n",
        "plt.plot(fpr, tpr, color='darkorange', lw=1, label='ROC curve (area = %0.2f)' % roc_auc)\n",
        "plt.xlim([0.0, 1.0])\n",
        "plt.ylim([0.0, 1.05])\n",
        "plt.xlabel('False Positive Rate')\n",
        "plt.ylabel('True Positive Rate')\n",
        "plt.title('ROC CURVE')\n",
        "plt.legend(loc=\"lower right\")\n",
        "plt.show()"
      ]
    },
    {
      "cell_type": "code",
      "execution_count": null,
      "metadata": {
        "id": "Y75k6hmULDy5"
      },
      "outputs": [],
      "source": [
        "SVCmodel = LinearSVC()\n",
        "SVCmodel.fit(X_train, y_train)\n",
        "model_Evaluate(SVCmodel)\n",
        "y_pred2 = SVCmodel.predict(X_test)"
      ]
    },
    {
      "cell_type": "code",
      "execution_count": null,
      "metadata": {
        "id": "2Pv0YbwQLFjy"
      },
      "outputs": [],
      "source": [
        "fpr, tpr, thresholds = roc_curve(y_test, y_pred2)\n",
        "roc_auc = auc(fpr, tpr)\n",
        "plt.figure()\n",
        "plt.plot(fpr, tpr, color='darkorange', lw=1, label='ROC curve (area = %0.2f)' % roc_auc)\n",
        "plt.xlim([0.0, 1.0])\n",
        "plt.ylim([0.0, 1.05])\n",
        "plt.xlabel('False Positive Rate')\n",
        "plt.ylabel('True Positive Rate')\n",
        "plt.title('ROC CURVE')\n",
        "plt.legend(loc=\"lower right\")\n",
        "plt.show()"
      ]
    },
    {
      "cell_type": "code",
      "execution_count": null,
      "metadata": {
        "id": "9fb-6ILBLGry"
      },
      "outputs": [],
      "source": [
        "LRmodel = LogisticRegression(max_iter = 1000)\n",
        "LRmodel.fit(X_train, y_train)\n",
        "model_Evaluate(LRmodel)\n",
        "y_pred3 = LRmodel.predict(X_test)"
      ]
    },
    {
      "cell_type": "code",
      "execution_count": null,
      "metadata": {
        "id": "M3h_BIbELIR6"
      },
      "outputs": [],
      "source": [
        "fpr, tpr, thresholds = roc_curve(y_test, y_pred3)\n",
        "roc_auc = auc(fpr, tpr)\n",
        "plt.figure()\n",
        "plt.plot(fpr, tpr, color='darkorange', lw=1, label='ROC curve (area = %0.2f)' % roc_auc)\n",
        "plt.xlim([0.0, 1.0])\n",
        "plt.ylim([0.0, 1.05])\n",
        "plt.xlabel('False Positive Rate')\n",
        "plt.ylabel('True Positive Rate')\n",
        "plt.title('ROC CURVE')\n",
        "plt.legend(loc=\"lower right\")\n",
        "plt.show()"
      ]
    }
  ],
  "metadata": {
    "colab": {
      "collapsed_sections": [],
      "name": "ZUM2NLP.ipynb",
      "provenance": [],
      "authorship_tag": "ABX9TyPevXnJg1x5rVs5wWVp9dDZ",
      "include_colab_link": true
    },
    "kernelspec": {
      "display_name": "Python 3",
      "name": "python3"
    },
    "language_info": {
      "name": "python"
    }
  },
  "nbformat": 4,
  "nbformat_minor": 0
}