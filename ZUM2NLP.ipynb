{
  "nbformat": 4,
  "nbformat_minor": 0,
  "metadata": {
    "colab": {
      "name": "ZUM2NLP.ipynb",
      "provenance": [],
      "collapsed_sections": [],
      "authorship_tag": "ABX9TyN2TS/HJdkcsDrBv9iXVsQX",
      "include_colab_link": true
    },
    "kernelspec": {
      "name": "python3",
      "display_name": "Python 3"
    },
    "language_info": {
      "name": "python"
    }
  },
  "cells": [
    {
      "cell_type": "markdown",
      "metadata": {
        "id": "view-in-github",
        "colab_type": "text"
      },
      "source": [
        "<a href=\"https://colab.research.google.com/github/marcinmichalsmolen/zum_nlp/blob/main/ZUM2NLP.ipynb\" target=\"_parent\"><img src=\"https://colab.research.google.com/assets/colab-badge.svg\" alt=\"Open In Colab\"/></a>"
      ]
    },
    {
      "cell_type": "markdown",
      "source": [
        "ZUM_NLP Marcin Smoleń s23429"
      ],
      "metadata": {
        "id": "3K65N56cyr21"
      }
    },
    {
      "cell_type": "code",
      "execution_count": 69,
      "metadata": {
        "colab": {
          "base_uri": "https://localhost:8080/"
        },
        "id": "goy-iNWae57e",
        "outputId": "bd56d973-aeb9-4170-f7ec-4ec69919e9d4"
      },
      "outputs": [
        {
          "output_type": "stream",
          "name": "stdout",
          "text": [
            "Drive already mounted at /content/drive/; to attempt to forcibly remount, call drive.mount(\"/content/drive/\", force_remount=True).\n",
            "\u001b[K     |████████████████████████████████| 6.0 MB 5.5 MB/s \n",
            "\u001b[K     |████████████████████████████████| 10.1 MB 41.4 MB/s \n",
            "\u001b[K     |████████████████████████████████| 42 kB 1.0 MB/s \n",
            "\u001b[K     |████████████████████████████████| 181 kB 56.8 MB/s \n",
            "\u001b[K     |████████████████████████████████| 451 kB 51.9 MB/s \n",
            "\u001b[K     |████████████████████████████████| 628 kB 47.4 MB/s \n",
            "\u001b[?25hCollecting pl-core-news-md==3.2.0\n",
            "  Downloading https://github.com/explosion/spacy-models/releases/download/pl_core_news_md-3.2.0/pl_core_news_md-3.2.0-py3-none-any.whl (87.9 MB)\n",
            "\u001b[K     |████████████████████████████████| 87.9 MB 31 kB/s \n",
            "\u001b[?25hRequirement already satisfied: spacy<3.3.0,>=3.2.0 in /usr/local/lib/python3.7/dist-packages (from pl-core-news-md==3.2.0) (3.2.0)\n",
            "Requirement already satisfied: catalogue<2.1.0,>=2.0.6 in /usr/local/lib/python3.7/dist-packages (from spacy<3.3.0,>=3.2.0->pl-core-news-md==3.2.0) (2.0.6)\n",
            "Requirement already satisfied: wasabi<1.1.0,>=0.8.1 in /usr/local/lib/python3.7/dist-packages (from spacy<3.3.0,>=3.2.0->pl-core-news-md==3.2.0) (0.9.0)\n",
            "Requirement already satisfied: setuptools in /usr/local/lib/python3.7/dist-packages (from spacy<3.3.0,>=3.2.0->pl-core-news-md==3.2.0) (57.4.0)\n",
            "Requirement already satisfied: blis<0.8.0,>=0.4.0 in /usr/local/lib/python3.7/dist-packages (from spacy<3.3.0,>=3.2.0->pl-core-news-md==3.2.0) (0.4.1)\n",
            "Requirement already satisfied: srsly<3.0.0,>=2.4.1 in /usr/local/lib/python3.7/dist-packages (from spacy<3.3.0,>=3.2.0->pl-core-news-md==3.2.0) (2.4.2)\n",
            "Requirement already satisfied: pydantic!=1.8,!=1.8.1,<1.9.0,>=1.7.4 in /usr/local/lib/python3.7/dist-packages (from spacy<3.3.0,>=3.2.0->pl-core-news-md==3.2.0) (1.8.2)\n",
            "Requirement already satisfied: preshed<3.1.0,>=3.0.2 in /usr/local/lib/python3.7/dist-packages (from spacy<3.3.0,>=3.2.0->pl-core-news-md==3.2.0) (3.0.6)\n",
            "Requirement already satisfied: tqdm<5.0.0,>=4.38.0 in /usr/local/lib/python3.7/dist-packages (from spacy<3.3.0,>=3.2.0->pl-core-news-md==3.2.0) (4.62.3)\n",
            "Requirement already satisfied: spacy-legacy<3.1.0,>=3.0.8 in /usr/local/lib/python3.7/dist-packages (from spacy<3.3.0,>=3.2.0->pl-core-news-md==3.2.0) (3.0.8)\n",
            "Requirement already satisfied: packaging>=20.0 in /usr/local/lib/python3.7/dist-packages (from spacy<3.3.0,>=3.2.0->pl-core-news-md==3.2.0) (21.3)\n",
            "Requirement already satisfied: typer<0.5.0,>=0.3.0 in /usr/local/lib/python3.7/dist-packages (from spacy<3.3.0,>=3.2.0->pl-core-news-md==3.2.0) (0.4.0)\n",
            "Requirement already satisfied: numpy>=1.15.0 in /usr/local/lib/python3.7/dist-packages (from spacy<3.3.0,>=3.2.0->pl-core-news-md==3.2.0) (1.19.5)\n",
            "Requirement already satisfied: spacy-loggers<2.0.0,>=1.0.0 in /usr/local/lib/python3.7/dist-packages (from spacy<3.3.0,>=3.2.0->pl-core-news-md==3.2.0) (1.0.1)\n",
            "Requirement already satisfied: cymem<2.1.0,>=2.0.2 in /usr/local/lib/python3.7/dist-packages (from spacy<3.3.0,>=3.2.0->pl-core-news-md==3.2.0) (2.0.6)\n",
            "Requirement already satisfied: requests<3.0.0,>=2.13.0 in /usr/local/lib/python3.7/dist-packages (from spacy<3.3.0,>=3.2.0->pl-core-news-md==3.2.0) (2.23.0)\n",
            "Requirement already satisfied: jinja2 in /usr/local/lib/python3.7/dist-packages (from spacy<3.3.0,>=3.2.0->pl-core-news-md==3.2.0) (2.11.3)\n",
            "Requirement already satisfied: typing-extensions<4.0.0.0,>=3.7.4 in /usr/local/lib/python3.7/dist-packages (from spacy<3.3.0,>=3.2.0->pl-core-news-md==3.2.0) (3.10.0.2)\n",
            "Requirement already satisfied: thinc<8.1.0,>=8.0.12 in /usr/local/lib/python3.7/dist-packages (from spacy<3.3.0,>=3.2.0->pl-core-news-md==3.2.0) (8.0.13)\n",
            "Requirement already satisfied: pathy>=0.3.5 in /usr/local/lib/python3.7/dist-packages (from spacy<3.3.0,>=3.2.0->pl-core-news-md==3.2.0) (0.6.1)\n",
            "Requirement already satisfied: murmurhash<1.1.0,>=0.28.0 in /usr/local/lib/python3.7/dist-packages (from spacy<3.3.0,>=3.2.0->pl-core-news-md==3.2.0) (1.0.6)\n",
            "Requirement already satisfied: langcodes<4.0.0,>=3.2.0 in /usr/local/lib/python3.7/dist-packages (from spacy<3.3.0,>=3.2.0->pl-core-news-md==3.2.0) (3.3.0)\n",
            "Requirement already satisfied: zipp>=0.5 in /usr/local/lib/python3.7/dist-packages (from catalogue<2.1.0,>=2.0.6->spacy<3.3.0,>=3.2.0->pl-core-news-md==3.2.0) (3.7.0)\n",
            "Requirement already satisfied: pyparsing!=3.0.5,>=2.0.2 in /usr/local/lib/python3.7/dist-packages (from packaging>=20.0->spacy<3.3.0,>=3.2.0->pl-core-news-md==3.2.0) (3.0.7)\n",
            "Requirement already satisfied: smart-open<6.0.0,>=5.0.0 in /usr/local/lib/python3.7/dist-packages (from pathy>=0.3.5->spacy<3.3.0,>=3.2.0->pl-core-news-md==3.2.0) (5.2.1)\n",
            "Requirement already satisfied: urllib3!=1.25.0,!=1.25.1,<1.26,>=1.21.1 in /usr/local/lib/python3.7/dist-packages (from requests<3.0.0,>=2.13.0->spacy<3.3.0,>=3.2.0->pl-core-news-md==3.2.0) (1.24.3)\n",
            "Requirement already satisfied: certifi>=2017.4.17 in /usr/local/lib/python3.7/dist-packages (from requests<3.0.0,>=2.13.0->spacy<3.3.0,>=3.2.0->pl-core-news-md==3.2.0) (2021.10.8)\n",
            "Requirement already satisfied: idna<3,>=2.5 in /usr/local/lib/python3.7/dist-packages (from requests<3.0.0,>=2.13.0->spacy<3.3.0,>=3.2.0->pl-core-news-md==3.2.0) (2.10)\n",
            "Requirement already satisfied: chardet<4,>=3.0.2 in /usr/local/lib/python3.7/dist-packages (from requests<3.0.0,>=2.13.0->spacy<3.3.0,>=3.2.0->pl-core-news-md==3.2.0) (3.0.4)\n",
            "Requirement already satisfied: click<9.0.0,>=7.1.1 in /usr/local/lib/python3.7/dist-packages (from typer<0.5.0,>=0.3.0->spacy<3.3.0,>=3.2.0->pl-core-news-md==3.2.0) (7.1.2)\n",
            "Requirement already satisfied: MarkupSafe>=0.23 in /usr/local/lib/python3.7/dist-packages (from jinja2->spacy<3.3.0,>=3.2.0->pl-core-news-md==3.2.0) (2.0.1)\n",
            "Installing collected packages: pl-core-news-md\n",
            "Successfully installed pl-core-news-md-3.2.0\n",
            "\u001b[38;5;2m✔ Download and installation successful\u001b[0m\n",
            "You can now load the package via spacy.load('pl_core_news_md')\n"
          ]
        }
      ],
      "source": [
        "from google.colab import drive\n",
        "drive.mount('/content/drive/')\n",
        "\n",
        "!python -m pip install spacy==3.2.0 -q\n",
        "!python -m spacy download pl_core_news_md\n"
      ]
    },
    {
      "cell_type": "markdown",
      "source": [
        "Import bibliotek i wczytanie zbioru tweetów z mojego serwera"
      ],
      "metadata": {
        "id": "WZzyZxdGAlIP"
      }
    },
    {
      "cell_type": "code",
      "source": [
        "import numpy as np\n",
        "import pandas as pd\n",
        "import string\n",
        "import json\n",
        "import re\n",
        "\n",
        "DATASET_COLUMNS=['Id', 'text',]\n",
        "DATASET_ENCODING = \"UTF-8\"\n",
        "from pandas.core import frame\n",
        "df=pd.read_json(path_or_buf='http://77.55.209.58/zum2/tweets.json',encoding=DATASET_ENCODING,typ=frame)"
      ],
      "metadata": {
        "id": "8AJ12CSRttnB"
      },
      "execution_count": 62,
      "outputs": []
    },
    {
      "cell_type": "code",
      "source": [
        "from pandas.io.formats.info import DataFrameInfo\n",
        "N = 10\n",
        "df.sample(N) \n",
        "# Konwertuje dane do formatu Dataframe\n",
        "data=pd.DataFrame(data=df)\n",
        "DataFrameInfo"
      ],
      "metadata": {
        "colab": {
          "base_uri": "https://localhost:8080/"
        },
        "id": "NGaAYtAbyX_1",
        "outputId": "c33ec41c-23d6-44a4-f040-8392f5c60930"
      },
      "execution_count": 71,
      "outputs": [
        {
          "output_type": "execute_result",
          "data": {
            "text/plain": [
              "pandas.io.formats.info.DataFrameInfo"
            ]
          },
          "metadata": {},
          "execution_count": 71
        }
      ]
    },
    {
      "cell_type": "code",
      "source": [
        "data.shape\n",
        "data"
      ],
      "metadata": {
        "colab": {
          "base_uri": "https://localhost:8080/",
          "height": 460
        },
        "id": "u_xCWBhXBF5g",
        "outputId": "ba912424-6acd-4136-8f72-23d9a2d5d7e6"
      },
      "execution_count": 74,
      "outputs": [
        {
          "output_type": "execute_result",
          "data": {
            "text/html": [
              "\n",
              "  <div id=\"df-e08a4cc7-e388-4206-9ea0-4eaa1912c1cf\">\n",
              "    <div class=\"colab-df-container\">\n",
              "      <div>\n",
              "<style scoped>\n",
              "    .dataframe tbody tr th:only-of-type {\n",
              "        vertical-align: middle;\n",
              "    }\n",
              "\n",
              "    .dataframe tbody tr th {\n",
              "        vertical-align: top;\n",
              "    }\n",
              "\n",
              "    .dataframe thead th {\n",
              "        text-align: right;\n",
              "    }\n",
              "</style>\n",
              "<table border=\"1\" class=\"dataframe\">\n",
              "  <thead>\n",
              "    <tr style=\"text-align: right;\">\n",
              "      <th></th>\n",
              "      <th>0</th>\n",
              "    </tr>\n",
              "  </thead>\n",
              "  <tbody>\n",
              "    <tr>\n",
              "      <th>2012-03-04 10:17:01.616861185</th>\n",
              "      <td>[VIDEO] Premier: Przedstawiamy kompleksowy pla...</td>\n",
              "    </tr>\n",
              "    <tr>\n",
              "      <th>2011-10-23 17:01:55.487666178</th>\n",
              "      <td></td>\n",
              "    </tr>\n",
              "    <tr>\n",
              "      <th>2015-01-17 05:04:47.280467978</th>\n",
              "      <td>Nie no to jest Złoto 🤣 https://t.co/Rxrlckriug</td>\n",
              "    </tr>\n",
              "    <tr>\n",
              "      <th>2012-07-29 04:00:49.879867394</th>\n",
              "      <td>Czekam, kiedy Polski Związek Hodowców Gołębi P...</td>\n",
              "    </tr>\n",
              "    <tr>\n",
              "      <th>2013-02-08 14:30:29.840453643</th>\n",
              "      <td>Eksperci przewidują, że szczepionki przeciwko ...</td>\n",
              "    </tr>\n",
              "    <tr>\n",
              "      <th>...</th>\n",
              "      <td>...</td>\n",
              "    </tr>\n",
              "    <tr>\n",
              "      <th>2009-10-18 20:27:38.570440704</th>\n",
              "      <td>Coraz więcej osób z personelu medycznego pisze...</td>\n",
              "    </tr>\n",
              "    <tr>\n",
              "      <th>2015-12-22 03:44:55.948939266</th>\n",
              "      <td>Najwyższa od marca liczba nowych zgonów na Cov...</td>\n",
              "    </tr>\n",
              "    <tr>\n",
              "      <th>2014-01-13 00:03:49.843283971</th>\n",
              "      <td>Czechs' loss. https://t.co/MdZP4V1B0k</td>\n",
              "    </tr>\n",
              "    <tr>\n",
              "      <th>2012-01-06 11:20:47.311114241</th>\n",
              "      <td>Kilka lat temy Pfizer zapłacił kilkadziesiat m...</td>\n",
              "    </tr>\n",
              "    <tr>\n",
              "      <th>2011-11-26 01:37:09.843283997</th>\n",
              "      <td></td>\n",
              "    </tr>\n",
              "  </tbody>\n",
              "</table>\n",
              "<p>462124 rows × 1 columns</p>\n",
              "</div>\n",
              "      <button class=\"colab-df-convert\" onclick=\"convertToInteractive('df-e08a4cc7-e388-4206-9ea0-4eaa1912c1cf')\"\n",
              "              title=\"Convert this dataframe to an interactive table.\"\n",
              "              style=\"display:none;\">\n",
              "        \n",
              "  <svg xmlns=\"http://www.w3.org/2000/svg\" height=\"24px\"viewBox=\"0 0 24 24\"\n",
              "       width=\"24px\">\n",
              "    <path d=\"M0 0h24v24H0V0z\" fill=\"none\"/>\n",
              "    <path d=\"M18.56 5.44l.94 2.06.94-2.06 2.06-.94-2.06-.94-.94-2.06-.94 2.06-2.06.94zm-11 1L8.5 8.5l.94-2.06 2.06-.94-2.06-.94L8.5 2.5l-.94 2.06-2.06.94zm10 10l.94 2.06.94-2.06 2.06-.94-2.06-.94-.94-2.06-.94 2.06-2.06.94z\"/><path d=\"M17.41 7.96l-1.37-1.37c-.4-.4-.92-.59-1.43-.59-.52 0-1.04.2-1.43.59L10.3 9.45l-7.72 7.72c-.78.78-.78 2.05 0 2.83L4 21.41c.39.39.9.59 1.41.59.51 0 1.02-.2 1.41-.59l7.78-7.78 2.81-2.81c.8-.78.8-2.07 0-2.86zM5.41 20L4 18.59l7.72-7.72 1.47 1.35L5.41 20z\"/>\n",
              "  </svg>\n",
              "      </button>\n",
              "      \n",
              "  <style>\n",
              "    .colab-df-container {\n",
              "      display:flex;\n",
              "      flex-wrap:wrap;\n",
              "      gap: 12px;\n",
              "    }\n",
              "\n",
              "    .colab-df-convert {\n",
              "      background-color: #E8F0FE;\n",
              "      border: none;\n",
              "      border-radius: 50%;\n",
              "      cursor: pointer;\n",
              "      display: none;\n",
              "      fill: #1967D2;\n",
              "      height: 32px;\n",
              "      padding: 0 0 0 0;\n",
              "      width: 32px;\n",
              "    }\n",
              "\n",
              "    .colab-df-convert:hover {\n",
              "      background-color: #E2EBFA;\n",
              "      box-shadow: 0px 1px 2px rgba(60, 64, 67, 0.3), 0px 1px 3px 1px rgba(60, 64, 67, 0.15);\n",
              "      fill: #174EA6;\n",
              "    }\n",
              "\n",
              "    [theme=dark] .colab-df-convert {\n",
              "      background-color: #3B4455;\n",
              "      fill: #D2E3FC;\n",
              "    }\n",
              "\n",
              "    [theme=dark] .colab-df-convert:hover {\n",
              "      background-color: #434B5C;\n",
              "      box-shadow: 0px 1px 3px 1px rgba(0, 0, 0, 0.15);\n",
              "      filter: drop-shadow(0px 1px 2px rgba(0, 0, 0, 0.3));\n",
              "      fill: #FFFFFF;\n",
              "    }\n",
              "  </style>\n",
              "\n",
              "      <script>\n",
              "        const buttonEl =\n",
              "          document.querySelector('#df-e08a4cc7-e388-4206-9ea0-4eaa1912c1cf button.colab-df-convert');\n",
              "        buttonEl.style.display =\n",
              "          google.colab.kernel.accessAllowed ? 'block' : 'none';\n",
              "\n",
              "        async function convertToInteractive(key) {\n",
              "          const element = document.querySelector('#df-e08a4cc7-e388-4206-9ea0-4eaa1912c1cf');\n",
              "          const dataTable =\n",
              "            await google.colab.kernel.invokeFunction('convertToInteractive',\n",
              "                                                     [key], {});\n",
              "          if (!dataTable) return;\n",
              "\n",
              "          const docLinkHtml = 'Like what you see? Visit the ' +\n",
              "            '<a target=\"_blank\" href=https://colab.research.google.com/notebooks/data_table.ipynb>data table notebook</a>'\n",
              "            + ' to learn more about interactive tables.';\n",
              "          element.innerHTML = '';\n",
              "          dataTable['output_type'] = 'display_data';\n",
              "          await google.colab.output.renderOutput(dataTable, element);\n",
              "          const docLink = document.createElement('div');\n",
              "          docLink.innerHTML = docLinkHtml;\n",
              "          element.appendChild(docLink);\n",
              "        }\n",
              "      </script>\n",
              "    </div>\n",
              "  </div>\n",
              "  "
            ],
            "text/plain": [
              "                                                                               0\n",
              "2012-03-04 10:17:01.616861185  [VIDEO] Premier: Przedstawiamy kompleksowy pla...\n",
              "2011-10-23 17:01:55.487666178                                                   \n",
              "2015-01-17 05:04:47.280467978     Nie no to jest Złoto 🤣 https://t.co/Rxrlckriug\n",
              "2012-07-29 04:00:49.879867394  Czekam, kiedy Polski Związek Hodowców Gołębi P...\n",
              "2013-02-08 14:30:29.840453643  Eksperci przewidują, że szczepionki przeciwko ...\n",
              "...                                                                          ...\n",
              "2009-10-18 20:27:38.570440704  Coraz więcej osób z personelu medycznego pisze...\n",
              "2015-12-22 03:44:55.948939266  Najwyższa od marca liczba nowych zgonów na Cov...\n",
              "2014-01-13 00:03:49.843283971              Czechs' loss. https://t.co/MdZP4V1B0k\n",
              "2012-01-06 11:20:47.311114241  Kilka lat temy Pfizer zapłacił kilkadziesiat m...\n",
              "2011-11-26 01:37:09.843283997                                                   \n",
              "\n",
              "[462124 rows x 1 columns]"
            ]
          },
          "metadata": {},
          "execution_count": 74
        },
        {
          "output_type": "stream",
          "name": "stdout",
          "text": [
            "Warning: total number of rows (462124) exceeds max_rows (20000). Limiting to first (20000) rows.\n",
            "Warning: total number of rows (462124) exceeds max_rows (20000). Limiting to first (20000) rows.\n"
          ]
        }
      ]
    },
    {
      "cell_type": "code",
      "source": [
        "# wizualizacja\n",
        "import seaborn as sns\n",
        "from wordcloud import WordCloud\n",
        "import matplotlib.pyplot as plt\n",
        "# nltk - do preprocessingu\n",
        "import nltk\n",
        "from nltk.stem import WordNetLemmatizer\n",
        "import spacy\n",
        "# sklearn - modele do ML\n",
        "from sklearn.svm import LinearSVC\n",
        "from sklearn.naive_bayes import BernoulliNB\n",
        "from sklearn.linear_model import LogisticRegression\n",
        "from sklearn.model_selection import train_test_split\n",
        "from sklearn.feature_extraction.text import TfidfVectorizer\n",
        "from sklearn.metrics import confusion_matrix, classification_report\n",
        "\n",
        "# do polaryzacji\n",
        "from textblob import TextBlob"
      ],
      "metadata": {
        "id": "mio4QG2Z-Wl5"
      },
      "execution_count": null,
      "outputs": []
    },
    {
      "cell_type": "code",
      "source": [
        "def get_tweet_sentiment(tweet):\n",
        "        '''\n",
        "        Utility function to classify sentiment of passed tweet\n",
        "        using textblob's sentiment method\n",
        "        '''\n",
        "        # create TextBlob object of passed tweet text\n",
        "        analysis = TextBlob(tweet)\n",
        "        # set sentiment\n",
        "        if analysis.sentiment.polarity > 0:\n",
        "            return 'positive'\n",
        "        else:\n",
        "            return 'negative'"
      ],
      "metadata": {
        "id": "r9kL1PwR_Ako"
      },
      "execution_count": null,
      "outputs": []
    },
    {
      "cell_type": "code",
      "source": [
        ""
      ],
      "metadata": {
        "id": "TBUsmaCT_BB3"
      },
      "execution_count": null,
      "outputs": []
    }
  ]
}