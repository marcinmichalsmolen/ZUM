{
  "nbformat": 4,
  "nbformat_minor": 0,
  "metadata": {
    "colab": {
      "provenance": [],
      "include_colab_link": true
    },
    "kernelspec": {
      "name": "python3",
      "display_name": "Python 3"
    }
  },
  "cells": [
    {
      "cell_type": "markdown",
      "metadata": {
        "id": "view-in-github",
        "colab_type": "text"
      },
      "source": [
        "<a href=\"https://colab.research.google.com/github/marcinmichalsmolen/ZUM/blob/main/INL_MARCIN_SMOLEN_TASK_Poleval2019_Task6.ipynb\" target=\"_parent\"><img src=\"https://colab.research.google.com/assets/colab-badge.svg\" alt=\"Open In Colab\"/></a>"
      ]
    },
    {
      "cell_type": "markdown",
      "source": [
        "# INL PROJEKT Marcin Smoleń s23429 Poleval 2019 Task Automatic cyberbullying detection"
      ],
      "metadata": {
        "id": "QtHHZzSk8-bH"
      }
    },
    {
      "cell_type": "markdown",
      "source": [
        "POLEVAL 2019 wzor Task 6: Automatic cyberbullying detection http://2019.poleval.pl/index.php/tasks/task6 - Subtask 6.1\n"
      ],
      "metadata": {
        "id": "Nt9SyF77mHPu"
      }
    },
    {
      "cell_type": "markdown",
      "source": [
        "Import potrzebnych biliotek\n"
      ],
      "metadata": {
        "id": "JBHw05VInoft"
      }
    },
    {
      "cell_type": "code",
      "metadata": {
        "id": "rbdm6cPoFYDe",
        "colab": {
          "base_uri": "https://localhost:8080/"
        },
        "outputId": "53496a24-096f-48f1-f5ad-8eeb217c35f4"
      },
      "source": [
        "import numpy as np\n",
        "import pandas as pd\n",
        "import matplotlib\n",
        "from matplotlib import pyplot as plt\n",
        "import ipykernel\n",
        "'exec(%matplotlib inline)'\n",
        "from IPython.display import set_matplotlib_formats\n",
        "set_matplotlib_formats('retina')\n",
        "\n",
        "import nltk\n",
        "from nltk.corpus import stopwords\n",
        "from nltk.stem.snowball import SnowballStemmer\n",
        "nltk.download(\"popular\")\n",
        "\n",
        "\n",
        "from sklearn import preprocessing\n",
        "from sklearn.feature_extraction.text import CountVectorizer, TfidfVectorizer, TfidfTransformer\n",
        "from sklearn.model_selection import train_test_split, KFold\n",
        "from sklearn.metrics import (accuracy_score, confusion_matrix, f1_score, precision_score, recall_score)\n",
        "from sklearn.naive_bayes import GaussianNB, BernoulliNB, MultinomialNB, ComplementNB\n",
        "from sklearn.neighbors import KNeighborsClassifier\n",
        "from sklearn.tree import DecisionTreeClassifier\n",
        "from sklearn.model_selection import GridSearchCV\n",
        "import sklearn.naive_bayes\n",
        "\n",
        "!pip install stop_words\n",
        "from stop_words import get_stop_words\n",
        "stopWords = get_stop_words('pl')\n",
        "\n",
        "!pip install pystempel\n",
        "from stempel import StempelStemmer\n",
        "stemmer = StempelStemmer.polimorf()\n",
        "\n",
        "import string\n",
        "from sklearn.utils import shuffle\n",
        "\n"
      ],
      "execution_count": 1,
      "outputs": [
        {
          "output_type": "stream",
          "name": "stderr",
          "text": [
            "[nltk_data] Downloading collection 'popular'\n",
            "[nltk_data]    | \n",
            "[nltk_data]    | Downloading package cmudict to /root/nltk_data...\n",
            "[nltk_data]    |   Unzipping corpora/cmudict.zip.\n",
            "[nltk_data]    | Downloading package gazetteers to /root/nltk_data...\n",
            "[nltk_data]    |   Unzipping corpora/gazetteers.zip.\n",
            "[nltk_data]    | Downloading package genesis to /root/nltk_data...\n",
            "[nltk_data]    |   Unzipping corpora/genesis.zip.\n",
            "[nltk_data]    | Downloading package gutenberg to /root/nltk_data...\n",
            "[nltk_data]    |   Unzipping corpora/gutenberg.zip.\n",
            "[nltk_data]    | Downloading package inaugural to /root/nltk_data...\n",
            "[nltk_data]    |   Unzipping corpora/inaugural.zip.\n",
            "[nltk_data]    | Downloading package movie_reviews to\n",
            "[nltk_data]    |     /root/nltk_data...\n",
            "[nltk_data]    |   Unzipping corpora/movie_reviews.zip.\n",
            "[nltk_data]    | Downloading package names to /root/nltk_data...\n",
            "[nltk_data]    |   Unzipping corpora/names.zip.\n",
            "[nltk_data]    | Downloading package shakespeare to /root/nltk_data...\n",
            "[nltk_data]    |   Unzipping corpora/shakespeare.zip.\n",
            "[nltk_data]    | Downloading package stopwords to /root/nltk_data...\n",
            "[nltk_data]    |   Unzipping corpora/stopwords.zip.\n",
            "[nltk_data]    | Downloading package treebank to /root/nltk_data...\n",
            "[nltk_data]    |   Unzipping corpora/treebank.zip.\n",
            "[nltk_data]    | Downloading package twitter_samples to\n",
            "[nltk_data]    |     /root/nltk_data...\n",
            "[nltk_data]    |   Unzipping corpora/twitter_samples.zip.\n",
            "[nltk_data]    | Downloading package omw to /root/nltk_data...\n",
            "[nltk_data]    | Downloading package omw-1.4 to /root/nltk_data...\n",
            "[nltk_data]    | Downloading package wordnet to /root/nltk_data...\n",
            "[nltk_data]    | Downloading package wordnet2021 to /root/nltk_data...\n",
            "[nltk_data]    | Downloading package wordnet31 to /root/nltk_data...\n",
            "[nltk_data]    | Downloading package wordnet_ic to /root/nltk_data...\n",
            "[nltk_data]    |   Unzipping corpora/wordnet_ic.zip.\n",
            "[nltk_data]    | Downloading package words to /root/nltk_data...\n",
            "[nltk_data]    |   Unzipping corpora/words.zip.\n",
            "[nltk_data]    | Downloading package maxent_ne_chunker to\n",
            "[nltk_data]    |     /root/nltk_data...\n",
            "[nltk_data]    |   Unzipping chunkers/maxent_ne_chunker.zip.\n",
            "[nltk_data]    | Downloading package punkt to /root/nltk_data...\n",
            "[nltk_data]    |   Unzipping tokenizers/punkt.zip.\n",
            "[nltk_data]    | Downloading package snowball_data to\n",
            "[nltk_data]    |     /root/nltk_data...\n",
            "[nltk_data]    | Downloading package averaged_perceptron_tagger to\n",
            "[nltk_data]    |     /root/nltk_data...\n",
            "[nltk_data]    |   Unzipping taggers/averaged_perceptron_tagger.zip.\n",
            "[nltk_data]    | \n",
            "[nltk_data]  Done downloading collection popular\n"
          ]
        },
        {
          "output_type": "stream",
          "name": "stdout",
          "text": [
            "Looking in indexes: https://pypi.org/simple, https://us-python.pkg.dev/colab-wheels/public/simple/\n",
            "Collecting stop_words\n",
            "  Downloading stop-words-2018.7.23.tar.gz (31 kB)\n",
            "  Preparing metadata (setup.py) ... \u001b[?25l\u001b[?25hdone\n",
            "Building wheels for collected packages: stop_words\n",
            "  Building wheel for stop_words (setup.py) ... \u001b[?25l\u001b[?25hdone\n",
            "  Created wheel for stop_words: filename=stop_words-2018.7.23-py3-none-any.whl size=32910 sha256=d320ff732c0753950ace67d18da3146aa63a1ae9abeebaac5332929d0743bfca\n",
            "  Stored in directory: /root/.cache/pip/wheels/eb/03/0d/3bd31c983789aeb0b4d5e2ca48590288d9db1586cf5f225062\n",
            "Successfully built stop_words\n",
            "Installing collected packages: stop_words\n",
            "Successfully installed stop_words-2018.7.23\n",
            "Looking in indexes: https://pypi.org/simple, https://us-python.pkg.dev/colab-wheels/public/simple/\n",
            "Collecting pystempel\n",
            "  Downloading pystempel-1.2.0-py3-none-any.whl (2.7 MB)\n",
            "\u001b[2K     \u001b[90m━━━━━━━━━━━━━━━━━━━━━━━━━━━━━━━━━━━━━━━━\u001b[0m \u001b[32m2.7/2.7 MB\u001b[0m \u001b[31m15.8 MB/s\u001b[0m eta \u001b[36m0:00:00\u001b[0m\n",
            "\u001b[?25hRequirement already satisfied: tqdm in /usr/local/lib/python3.8/dist-packages (from pystempel) (4.64.1)\n",
            "Requirement already satisfied: sortedcontainers in /usr/local/lib/python3.8/dist-packages (from pystempel) (2.4.0)\n",
            "Installing collected packages: pystempel\n",
            "Successfully installed pystempel-1.2.0\n"
          ]
        },
        {
          "output_type": "stream",
          "name": "stderr",
          "text": [
            "Loading: 100%|██████████| 11368252/11368252 [00:09<00:00, 1157772.01bytes/s]\n"
          ]
        }
      ]
    },
    {
      "cell_type": "markdown",
      "source": [
        "Zdefinijuje funkcje potrzebne do wyczyszczenia setu danych.\n",
        "\n",
        "W secie mamy ponad 10km tweetow. Wszystkie zaczynaja sie nazwa uzytkownika ktora zostala zanonimizona wiec mozna ja spokojnie usunac.\n",
        "\n",
        "Usuwamy stopwords, czyli slowa ktore nie maja zadnego znaczenia i nie wnoszą nic do tekstu z punktu widzenia logiki i przekazu. np. a, aby, nigdy, wtedy, wy.\n",
        "\n",
        "Usuwamy znaki specjalne, czyli !\"#$%&'()*+,-./:;<=>?@[\\]^_`{|}~\n",
        "\n",
        "gdy juz mamy wyczyszczone dane przeprowadzamy stemming, czyli wydobywamy ze słowa jego podstawę, np. jechac, pojechac, jechalem, pojachalbym\n",
        " =zamienia sie na => \"jecha\""
      ],
      "metadata": {
        "id": "sziz6V4z9Ik9"
      }
    },
    {
      "cell_type": "markdown",
      "source": [],
      "metadata": {
        "id": "rqETiikn9Zo8"
      }
    },
    {
      "cell_type": "code",
      "metadata": {
        "id": "o-FA6bi4FisE"
      },
      "source": [
        "def removeUserNames(text):\n",
        "    text['text'] = text['text'].str.replace('@anonymized_account', '')\n",
        "    return text\n",
        "\n",
        "def removeStopwords(text):\n",
        "    text = [word.lower() for word in text.split() if word.lower() not in stopWords]\n",
        "    return \" \".join(text)\n",
        "\n",
        "def removeSpecialChars(text):\n",
        "    translator = str.maketrans('', '', string.punctuation)\n",
        "    return text.translate(translator)\n",
        "\n",
        "def stem(text):\n",
        "    text = [stemmer.stem(word) for word in text.split()]\n",
        "    a = [i for i in text if i]\n",
        "    return \" \".join(a)"
      ],
      "execution_count": 2,
      "outputs": []
    },
    {
      "cell_type": "code",
      "metadata": {
        "id": "NkJmI88QLQcj"
      },
      "source": [
        "y_train = pd.read_csv('http://77.55.209.58/inl/task1/training_set_clean_only_tags.txt', delimiter='\\t', names=['y'])\n",
        "X_train = pd.read_csv('http://77.55.209.58/inl/task1/training_set_clean_only_text.txt', delimiter='\\t', names=['text'])"
      ],
      "execution_count": 3,
      "outputs": []
    },
    {
      "cell_type": "code",
      "source": [
        "len(y_train)"
      ],
      "metadata": {
        "colab": {
          "base_uri": "https://localhost:8080/"
        },
        "id": "_N38wZNl9V0m",
        "outputId": "782f562b-7e5c-441c-badb-dc7d37658872"
      },
      "execution_count": 4,
      "outputs": [
        {
          "output_type": "execute_result",
          "data": {
            "text/plain": [
              "10041"
            ]
          },
          "metadata": {},
          "execution_count": 4
        }
      ]
    },
    {
      "cell_type": "code",
      "source": [
        "len(X_train)"
      ],
      "metadata": {
        "colab": {
          "base_uri": "https://localhost:8080/"
        },
        "id": "lTungLBO9VtY",
        "outputId": "0717f95f-09c7-4942-899b-9d3bf829a220"
      },
      "execution_count": 5,
      "outputs": [
        {
          "output_type": "execute_result",
          "data": {
            "text/plain": [
              "10041"
            ]
          },
          "metadata": {},
          "execution_count": 5
        }
      ]
    },
    {
      "cell_type": "code",
      "source": [
        "type(X_train)"
      ],
      "metadata": {
        "colab": {
          "base_uri": "https://localhost:8080/"
        },
        "id": "aAILRkZB--gI",
        "outputId": "8611fb17-94b2-4334-d669-fd8a3845a9fc"
      },
      "execution_count": 6,
      "outputs": [
        {
          "output_type": "execute_result",
          "data": {
            "text/plain": [
              "pandas.core.frame.DataFrame"
            ]
          },
          "metadata": {},
          "execution_count": 6
        }
      ]
    },
    {
      "cell_type": "code",
      "metadata": {
        "id": "Ih2ckkfVcJ-S",
        "colab": {
          "base_uri": "https://localhost:8080/",
          "height": 36
        },
        "outputId": "530d04ed-44fc-4340-a6cc-25fba74dfd2d"
      },
      "source": [
        "X_train = removeUserNames(X_train)\n",
        "X_train['text'] = X_train['text'].apply(removeSpecialChars).apply(removeStopwords).apply(stem)\n",
        "X_train = X_train['text'].values.tolist()\n",
        "X_train[64]"
      ],
      "execution_count": 7,
      "outputs": [
        {
          "output_type": "execute_result",
          "data": {
            "text/plain": [
              "'wyspa to sezon raz ezyt puchar 12 meczeć i 1 golmójt dużo strzeliłsorrć patr wyspa statystyka'"
            ],
            "application/vnd.google.colaboratory.intrinsic+json": {
              "type": "string"
            }
          },
          "metadata": {},
          "execution_count": 7
        }
      ]
    },
    {
      "cell_type": "code",
      "metadata": {
        "id": "zJsB-Q-Onjqa"
      },
      "source": [
        "vectorizer = CountVectorizer()\n",
        "X_train = vectorizer.fit_transform(X_train)"
      ],
      "execution_count": 8,
      "outputs": []
    },
    {
      "cell_type": "code",
      "source": [
        "X_train[1]"
      ],
      "metadata": {
        "colab": {
          "base_uri": "https://localhost:8080/"
        },
        "id": "X-Fm_v_CBANj",
        "outputId": "8eff2c7d-9c51-43b1-d361-3361a2054f2a"
      },
      "execution_count": 9,
      "outputs": [
        {
          "output_type": "execute_result",
          "data": {
            "text/plain": [
              "<1x14382 sparse matrix of type '<class 'numpy.int64'>'\n",
              "\twith 5 stored elements in Compressed Sparse Row format>"
            ]
          },
          "metadata": {},
          "execution_count": 9
        }
      ]
    },
    {
      "cell_type": "code",
      "source": [
        "transformer = TfidfTransformer()\n",
        "X_train = transformer.fit_transform(X_train)"
      ],
      "metadata": {
        "id": "lRfZgYkkA_tH"
      },
      "execution_count": 10,
      "outputs": []
    },
    {
      "cell_type": "code",
      "source": [
        "X_train[1]"
      ],
      "metadata": {
        "colab": {
          "base_uri": "https://localhost:8080/"
        },
        "id": "Wobv5YycBCoF",
        "outputId": "b5388093-8788-474e-912b-0200431ebe82"
      },
      "execution_count": 11,
      "outputs": [
        {
          "output_type": "execute_result",
          "data": {
            "text/plain": [
              "<1x14382 sparse matrix of type '<class 'numpy.float64'>'\n",
              "\twith 5 stored elements in Compressed Sparse Row format>"
            ]
          },
          "metadata": {},
          "execution_count": 11
        }
      ]
    },
    {
      "cell_type": "markdown",
      "source": [
        "MultinomialNB"
      ],
      "metadata": {
        "id": "T9HWC-Y4LYRe"
      }
    },
    {
      "cell_type": "code",
      "metadata": {
        "id": "YZXbeEvDpxg9",
        "outputId": "88307640-8570-492c-a17b-e39776a03eab",
        "colab": {
          "base_uri": "https://localhost:8080/"
        }
      },
      "source": [
        "model = MultinomialNB()\n",
        "model.fit(X_train, y_train)\n",
        "\n",
        "y_predict_train = model.predict(X_train)"
      ],
      "execution_count": 12,
      "outputs": [
        {
          "output_type": "stream",
          "name": "stderr",
          "text": [
            "/usr/local/lib/python3.8/dist-packages/sklearn/utils/validation.py:993: DataConversionWarning: A column-vector y was passed when a 1d array was expected. Please change the shape of y to (n_samples, ), for example using ravel().\n",
            "  y = column_or_1d(y, warn=True)\n"
          ]
        }
      ]
    },
    {
      "cell_type": "code",
      "metadata": {
        "id": "3SIKYvC3qEss",
        "outputId": "98f65145-3f27-4970-cddd-d019d0ad69ed",
        "colab": {
          "base_uri": "https://localhost:8080/"
        }
      },
      "source": [
        "print('Acc: ', accuracy_score(y_train,  y_predict_train))"
      ],
      "execution_count": 13,
      "outputs": [
        {
          "output_type": "stream",
          "name": "stdout",
          "text": [
            "Acc:  0.9168409520964047\n"
          ]
        }
      ]
    },
    {
      "cell_type": "code",
      "source": [
        "print('F1:', f1_score(y_train,  y_predict_train, average = 'weighted'))"
      ],
      "metadata": {
        "colab": {
          "base_uri": "https://localhost:8080/"
        },
        "id": "E_8IULPuBJC8",
        "outputId": "9f476b3d-fd53-4565-966a-50d5d7686772"
      },
      "execution_count": 14,
      "outputs": [
        {
          "output_type": "stream",
          "name": "stdout",
          "text": [
            "F1: 0.8786029464134026\n"
          ]
        }
      ]
    },
    {
      "cell_type": "code",
      "source": [
        "y_test = pd.read_csv('http://77.55.209.58/inl/test1/test_set_clean_only_tags.txt', delimiter='\\t', names=['y'])\n",
        "X_test = pd.read_csv('http://77.55.209.58/inl/test1/test_set_clean_only_text.txt', delimiter='\\t', names=['text'])"
      ],
      "metadata": {
        "id": "pwg_EAjP7zDw"
      },
      "execution_count": 15,
      "outputs": []
    },
    {
      "cell_type": "code",
      "source": [
        "len(y_test)"
      ],
      "metadata": {
        "colab": {
          "base_uri": "https://localhost:8080/"
        },
        "id": "XaKYI_c1BTrP",
        "outputId": "51956458-58bd-43df-ef30-99ca66285265"
      },
      "execution_count": 16,
      "outputs": [
        {
          "output_type": "execute_result",
          "data": {
            "text/plain": [
              "1000"
            ]
          },
          "metadata": {},
          "execution_count": 16
        }
      ]
    },
    {
      "cell_type": "code",
      "source": [
        "len(X_test)"
      ],
      "metadata": {
        "colab": {
          "base_uri": "https://localhost:8080/"
        },
        "id": "Sprm08GSBTlH",
        "outputId": "8b198c98-6248-44b3-96ec-19bf0df2d1a8"
      },
      "execution_count": 17,
      "outputs": [
        {
          "output_type": "execute_result",
          "data": {
            "text/plain": [
              "1000"
            ]
          },
          "metadata": {},
          "execution_count": 17
        }
      ]
    },
    {
      "cell_type": "code",
      "metadata": {
        "id": "nduB0UPqH0Tz"
      },
      "source": [
        "X_test = removeUserNames(X_test)\n",
        "X_test['text'] = X_test['text'].apply(removeSpecialChars).apply(removeStopwords).apply(stem)\n",
        "X_test = X_test['text'].values.tolist()"
      ],
      "execution_count": 18,
      "outputs": []
    },
    {
      "cell_type": "code",
      "metadata": {
        "id": "jH9lEzF9H9rC",
        "colab": {
          "base_uri": "https://localhost:8080/",
          "height": 36
        },
        "outputId": "0c0be6c4-db30-4018-a6e1-2d5c7e1ab12e"
      },
      "source": [
        "X_test[1]"
      ],
      "execution_count": 19,
      "outputs": [
        {
          "output_type": "execute_result",
          "data": {
            "text/plain": [
              "'ale mieć szansa zagranie ativus ten proba czysty prowizorka'"
            ],
            "application/vnd.google.colaboratory.intrinsic+json": {
              "type": "string"
            }
          },
          "metadata": {},
          "execution_count": 19
        }
      ]
    },
    {
      "cell_type": "code",
      "metadata": {
        "id": "h1zhilGEH_Zn",
        "colab": {
          "base_uri": "https://localhost:8080/"
        },
        "outputId": "5d1733fb-52df-4c71-b8d9-b8d77815c469"
      },
      "source": [
        "X_test = vectorizer.transform(X_test)\n",
        "X_test[1]"
      ],
      "execution_count": 20,
      "outputs": [
        {
          "output_type": "execute_result",
          "data": {
            "text/plain": [
              "<1x14382 sparse matrix of type '<class 'numpy.int64'>'\n",
              "\twith 7 stored elements in Compressed Sparse Row format>"
            ]
          },
          "metadata": {},
          "execution_count": 20
        }
      ]
    },
    {
      "cell_type": "code",
      "source": [
        "X_test = transformer.transform(X_test)\n",
        "X_test[1]"
      ],
      "metadata": {
        "colab": {
          "base_uri": "https://localhost:8080/"
        },
        "id": "V-1VwGIIBdTn",
        "outputId": "418025ec-5cbf-4727-f8bd-675598da15d8"
      },
      "execution_count": 21,
      "outputs": [
        {
          "output_type": "execute_result",
          "data": {
            "text/plain": [
              "<1x14382 sparse matrix of type '<class 'numpy.float64'>'\n",
              "\twith 7 stored elements in Compressed Sparse Row format>"
            ]
          },
          "metadata": {},
          "execution_count": 21
        }
      ]
    },
    {
      "cell_type": "code",
      "source": [
        "y_predict_test = model.predict(X_test)"
      ],
      "metadata": {
        "id": "FmiK-N4qBfsY"
      },
      "execution_count": 22,
      "outputs": []
    },
    {
      "cell_type": "code",
      "metadata": {
        "id": "Tcld77viHz8l",
        "colab": {
          "base_uri": "https://localhost:8080/"
        },
        "outputId": "671b81f7-af74-40d2-8031-1e07c821205a"
      },
      "source": [
        "print('Acc:', accuracy_score(y_test,  y_predict_test))"
      ],
      "execution_count": 23,
      "outputs": [
        {
          "output_type": "stream",
          "name": "stdout",
          "text": [
            "Acc: 0.866\n"
          ]
        }
      ]
    },
    {
      "cell_type": "code",
      "source": [
        "print('F1:', f1_score(y_test,  y_predict_test, average = 'weighted'))"
      ],
      "metadata": {
        "colab": {
          "base_uri": "https://localhost:8080/"
        },
        "id": "r5FlDEstBi4D",
        "outputId": "aef3b943-a265-4dfe-9fab-6d3da2000a53"
      },
      "execution_count": 24,
      "outputs": [
        {
          "output_type": "stream",
          "name": "stdout",
          "text": [
            "F1: 0.8038113612004287\n"
          ]
        }
      ]
    },
    {
      "cell_type": "markdown",
      "source": [
        "Inny model uczenia"
      ],
      "metadata": {
        "id": "9A56rWgOC4U6"
      }
    },
    {
      "cell_type": "code",
      "source": [
        "model = BernoulliNB()\n",
        "model.fit(X_train, y_train)\n",
        "\n",
        "y_predict_train = model.predict(X_train)"
      ],
      "metadata": {
        "colab": {
          "base_uri": "https://localhost:8080/"
        },
        "id": "KT-jIBeeC4Hp",
        "outputId": "5c778ea2-a331-4147-d778-a0874d761e48"
      },
      "execution_count": 25,
      "outputs": [
        {
          "output_type": "stream",
          "name": "stderr",
          "text": [
            "/usr/local/lib/python3.8/dist-packages/sklearn/utils/validation.py:993: DataConversionWarning: A column-vector y was passed when a 1d array was expected. Please change the shape of y to (n_samples, ), for example using ravel().\n",
            "  y = column_or_1d(y, warn=True)\n"
          ]
        }
      ]
    },
    {
      "cell_type": "code",
      "source": [
        "print('Acc: ', accuracy_score(y_train,  y_predict_train))"
      ],
      "metadata": {
        "colab": {
          "base_uri": "https://localhost:8080/"
        },
        "id": "XlFvY9J9C9c4",
        "outputId": "65f23cf3-7946-462a-88cc-66b703eb275f"
      },
      "execution_count": 26,
      "outputs": [
        {
          "output_type": "stream",
          "name": "stdout",
          "text": [
            "Acc:  0.9242107359824718\n"
          ]
        }
      ]
    },
    {
      "cell_type": "code",
      "source": [
        "print('F1:', f1_score(y_train,  y_predict_train, average = 'weighted'))"
      ],
      "metadata": {
        "colab": {
          "base_uri": "https://localhost:8080/"
        },
        "id": "C9kXbf0aDCcR",
        "outputId": "ba7e9f54-f11f-4353-fa41-1f4066c9ba52"
      },
      "execution_count": 27,
      "outputs": [
        {
          "output_type": "stream",
          "name": "stdout",
          "text": [
            "F1: 0.8954942598431733\n"
          ]
        }
      ]
    },
    {
      "cell_type": "code",
      "source": [
        "y_predict_test = model.predict(X_test)"
      ],
      "metadata": {
        "id": "6g9879sFDFaf"
      },
      "execution_count": 28,
      "outputs": []
    },
    {
      "cell_type": "code",
      "source": [
        "print('Acc:', accuracy_score(y_test,  y_predict_test))"
      ],
      "metadata": {
        "colab": {
          "base_uri": "https://localhost:8080/"
        },
        "id": "SEZOyLCnDL9z",
        "outputId": "0f24d559-072f-44ae-9085-0b1b70a379d3"
      },
      "execution_count": 29,
      "outputs": [
        {
          "output_type": "stream",
          "name": "stdout",
          "text": [
            "Acc: 0.866\n"
          ]
        }
      ]
    },
    {
      "cell_type": "code",
      "source": [
        "print('F1:', f1_score(y_test,  y_predict_test, average = 'weighted'))"
      ],
      "metadata": {
        "colab": {
          "base_uri": "https://localhost:8080/"
        },
        "id": "m99_sshEDOxm",
        "outputId": "5afe8bc7-39c0-49b9-b365-5c4e8f1d8ba1"
      },
      "execution_count": 30,
      "outputs": [
        {
          "output_type": "stream",
          "name": "stdout",
          "text": [
            "F1: 0.8038113612004287\n"
          ]
        }
      ]
    },
    {
      "cell_type": "markdown",
      "source": [
        "\n",
        "POLEVAL 2019 wzor Task 6: Automatic cyberbullying detection http://2019.poleval.pl/index.php/tasks/task6 - Subtask 6.2"
      ],
      "metadata": {
        "id": "JTz4vgl0kC9G"
      }
    },
    {
      "cell_type": "markdown",
      "source": [
        "W tym zadaniu uzyje XGBoostClassifier\n",
        "\n",
        "XGBoost to implementacja algorytmu drzewa gradientowego, który jest powszechnie uznawany ze wzgledu wydajność i dokładność predykcyjną. "
      ],
      "metadata": {
        "id": "xjpKZrH2kV8O"
      }
    },
    {
      "cell_type": "code",
      "source": [
        "!pip install xgboost\n",
        "from xgboost import XGBClassifier"
      ],
      "metadata": {
        "id": "wptvlPVXkO38",
        "colab": {
          "base_uri": "https://localhost:8080/"
        },
        "outputId": "93fc7bcb-7613-45e7-d5bb-3f40bfb91da9"
      },
      "execution_count": 31,
      "outputs": [
        {
          "output_type": "stream",
          "name": "stdout",
          "text": [
            "Looking in indexes: https://pypi.org/simple, https://us-python.pkg.dev/colab-wheels/public/simple/\n",
            "Requirement already satisfied: xgboost in /usr/local/lib/python3.8/dist-packages (0.90)\n",
            "Requirement already satisfied: numpy in /usr/local/lib/python3.8/dist-packages (from xgboost) (1.21.6)\n",
            "Requirement already satisfied: scipy in /usr/local/lib/python3.8/dist-packages (from xgboost) (1.7.3)\n"
          ]
        }
      ]
    },
    {
      "cell_type": "code",
      "source": [
        "y_train = pd.read_csv('http://77.55.209.58/inl/task2/training_set_clean_only_tags.txt', delimiter='\\t', names=['y'])\n",
        "X_train = pd.read_csv('http://77.55.209.58/inl/task2/training_set_clean_only_text.txt', delimiter='\\t', names=['text'])\n",
        "y_test = pd.read_csv('http://77.55.209.58/inl/test2/test_set_only_tags.txt', delimiter='\\t', names=['y'])\n",
        "X_test = pd.read_csv('http://77.55.209.58/inl/test2/test_set_only_text.txt', delimiter='\\t', names=['text'])"
      ],
      "metadata": {
        "id": "OQ-hfdhdkaKm"
      },
      "execution_count": 32,
      "outputs": []
    },
    {
      "cell_type": "code",
      "source": [
        "X_train = removeUserNames(X_train)\n",
        "X_train['text'] = X_train['text'].apply(removeSpecialChars).apply(removeStopwords).apply(stem)\n",
        "X_train = X_train['text'].values.tolist()\n",
        "X_train[64]"
      ],
      "metadata": {
        "id": "RQXmdhfPkcOX",
        "colab": {
          "base_uri": "https://localhost:8080/",
          "height": 36
        },
        "outputId": "de24b43b-d1bf-48c0-c666-dc91fc3bbd86"
      },
      "execution_count": 33,
      "outputs": [
        {
          "output_type": "execute_result",
          "data": {
            "text/plain": [
              "'wyspa to sezon raz ezyt puchar 12 meczeć i 1 golmójt dużo strzeliłsorrć patr wyspa statystyka'"
            ],
            "application/vnd.google.colaboratory.intrinsic+json": {
              "type": "string"
            }
          },
          "metadata": {},
          "execution_count": 33
        }
      ]
    },
    {
      "cell_type": "code",
      "source": [
        "vectorizer = CountVectorizer()\n",
        "transformer = TfidfTransformer()\n",
        "\n",
        "X_train = vectorizer.fit_transform(X_train)\n",
        "X_train = transformer.fit_transform(X_train)"
      ],
      "metadata": {
        "id": "tjTsHq0KkeR2"
      },
      "execution_count": 34,
      "outputs": []
    },
    {
      "cell_type": "code",
      "source": [
        "model = XGBClassifier()\n",
        "model.fit(X_train, y_train)"
      ],
      "metadata": {
        "id": "etDWY2znkf9s",
        "colab": {
          "base_uri": "https://localhost:8080/"
        },
        "outputId": "360b5fff-15ec-4f40-9822-5e90d22f67fb"
      },
      "execution_count": 35,
      "outputs": [
        {
          "output_type": "stream",
          "name": "stderr",
          "text": [
            "/usr/local/lib/python3.8/dist-packages/sklearn/preprocessing/_label.py:98: DataConversionWarning: A column-vector y was passed when a 1d array was expected. Please change the shape of y to (n_samples, ), for example using ravel().\n",
            "  y = column_or_1d(y, warn=True)\n",
            "/usr/local/lib/python3.8/dist-packages/sklearn/preprocessing/_label.py:133: DataConversionWarning: A column-vector y was passed when a 1d array was expected. Please change the shape of y to (n_samples, ), for example using ravel().\n",
            "  y = column_or_1d(y, warn=True)\n"
          ]
        },
        {
          "output_type": "execute_result",
          "data": {
            "text/plain": [
              "XGBClassifier(objective='multi:softprob')"
            ]
          },
          "metadata": {},
          "execution_count": 35
        }
      ]
    },
    {
      "cell_type": "code",
      "source": [
        "y_predict_train = model.predict(X_train)\n",
        "print('Acc:', accuracy_score(y_train,  y_predict_train))"
      ],
      "metadata": {
        "id": "lh7__j3Hkjmk",
        "colab": {
          "base_uri": "https://localhost:8080/"
        },
        "outputId": "75afe0a9-9878-4599-c1d1-03d17c77ef0d"
      },
      "execution_count": 36,
      "outputs": [
        {
          "output_type": "stream",
          "name": "stdout",
          "text": [
            "Acc: 0.9180360521860372\n"
          ]
        }
      ]
    },
    {
      "cell_type": "code",
      "source": [
        "print('F1:', f1_score(y_train,  y_predict_train, average='weighted'))"
      ],
      "metadata": {
        "id": "bfasRC_6kpNn",
        "colab": {
          "base_uri": "https://localhost:8080/"
        },
        "outputId": "52120b09-9594-4242-ddc7-3ecb2da2426a"
      },
      "execution_count": 37,
      "outputs": [
        {
          "output_type": "stream",
          "name": "stdout",
          "text": [
            "F1: 0.8816011287626483\n"
          ]
        }
      ]
    },
    {
      "cell_type": "code",
      "source": [
        "X_test = removeUserNames(X_test)\n",
        "X_test['text'] = X_test['text'].apply(removeSpecialChars).apply(removeStopwords).apply(stem)\n",
        "X_test = X_test['text'].values.tolist()"
      ],
      "metadata": {
        "id": "fhXwYgVGkq6l"
      },
      "execution_count": 38,
      "outputs": []
    },
    {
      "cell_type": "code",
      "source": [
        "X_test = vectorizer.transform(X_test)\n",
        "X_test = transformer.transform(X_test)"
      ],
      "metadata": {
        "id": "TNwZrtCnksYc"
      },
      "execution_count": 39,
      "outputs": []
    },
    {
      "cell_type": "code",
      "source": [
        "y_predict_test = model.predict(X_test)\n",
        "print('Acc:', accuracy_score(y_test,  y_predict_test))"
      ],
      "metadata": {
        "id": "8IWnabIwkuD9",
        "colab": {
          "base_uri": "https://localhost:8080/"
        },
        "outputId": "8e20325d-0e29-4f52-966c-545050988367"
      },
      "execution_count": 40,
      "outputs": [
        {
          "output_type": "stream",
          "name": "stdout",
          "text": [
            "Acc: 0.868\n"
          ]
        }
      ]
    },
    {
      "cell_type": "code",
      "source": [
        "print('F1:', f1_score(y_test, y_predict_test, average='weighted'))"
      ],
      "metadata": {
        "id": "-pc2_vhbkxGc",
        "colab": {
          "base_uri": "https://localhost:8080/"
        },
        "outputId": "356fd836-ba93-4ff3-f19a-162e950e709c"
      },
      "execution_count": 41,
      "outputs": [
        {
          "output_type": "stream",
          "name": "stdout",
          "text": [
            "F1: 0.8086017476704171\n"
          ]
        }
      ]
    }
  ]
}