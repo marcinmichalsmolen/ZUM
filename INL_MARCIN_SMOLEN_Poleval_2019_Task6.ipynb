{
  "cells": [
    {
      "cell_type": "markdown",
      "metadata": {
        "id": "view-in-github",
        "colab_type": "text"
      },
      "source": [
        "<a href=\"https://colab.research.google.com/github/marcinmichalsmolen/ZUM/blob/main/INL_MARCIN_SMOLEN_Poleval_2019_Task6.ipynb\" target=\"_parent\"><img src=\"https://colab.research.google.com/assets/colab-badge.svg\" alt=\"Open In Colab\"/></a>"
      ]
    },
    {
      "cell_type": "markdown",
      "source": [
        "# INL PROJEKT Marcin Smoleń s23429 Poleval 2019 Task 6.1 i 6.2 - Automatic cyberbullying detection"
      ],
      "metadata": {
        "id": "QtHHZzSk8-bH"
      }
    },
    {
      "cell_type": "markdown",
      "source": [
        "W ciagu ostatniej dekady znaczący wzrost popularności serwisów\n",
        "społecznościowych pokazał jak poważnym problemem jest cyberprzemoc.\n",
        "Zbiór danych służący do trenowania i oceny prezentowanych systemów\n",
        "zawiera tweety zebrane z ogólnodostepnych dyskusji na Twitterze z\n",
        "zastosowanyniem anonimizacji postów. W tym zadaniu pilotażowym\n",
        "zawodnicy określa, czy wpis internetowy można zakwalifikować jako część\n",
        "narracji o cyberprzemocy, czy nie. Wpisy beda zawiera ly tweety zebrane z\n",
        "ogólnodostepnych dyskusji na Twitterze. Ponieważ duża część problemu\n",
        "automatycznego wykrywania cyberprzemocy czesto opiera sie na wyborze\n",
        "metody przetwarzania, tweety zostały dostarczone jako takie, z\n",
        "minimalnym przetwarzaniem wstepnym. Cyberprzemoc to działania\n",
        "skierowane do osób prywatnych. Mowa nienawieści skierowana jest do\n",
        "osoby publicznej, podmioty lub dużej grupy ludzi. W obydwóch zadaniach do obliczeń zostały wykorzystane te same tweety. W pierwszym zadaniu podzielone są na 2 kategorie a w drugim na 3."
      ],
      "metadata": {
        "id": "4FyyjAk8FpP9"
      }
    },
    {
      "cell_type": "markdown",
      "source": [
        "**POLEVAL 2019 wzor Task 6: Automatic cyberbullying detection http://2019.poleval.pl/index.php/tasks/task6 - Subtask 6.1**\n"
      ],
      "metadata": {
        "id": "Nt9SyF77mHPu"
      }
    },
    {
      "cell_type": "markdown",
      "source": [
        "Task 6.1 - 10041 tweetów treningowych w 2 kategoriach:\n",
        "nieszkodliwe i szkodliwe, dane testowe 1000 tweetów ze zbiorem tagów\n",
        "do weryfikacji"
      ],
      "metadata": {
        "id": "GmZQvG3zFiVe"
      }
    },
    {
      "cell_type": "markdown",
      "source": [
        "Import potrzebnych biliotek\n"
      ],
      "metadata": {
        "id": "JBHw05VInoft"
      }
    },
    {
      "cell_type": "code",
      "source": [
        "import numpy as np\n",
        "import pandas as pd\n",
        "import matplotlib\n",
        "from matplotlib import pyplot as plt\n",
        "import ipykernel\n",
        "'exec(%matplotlib inline)'\n",
        "from IPython.display import set_matplotlib_formats\n",
        "set_matplotlib_formats('retina')\n",
        "\n",
        "import nltk\n",
        "from nltk.corpus import stopwords\n",
        "from nltk.stem.snowball import SnowballStemmer\n",
        "nltk.download(\"popular\")\n",
        "\n",
        "\n",
        "from sklearn import preprocessing\n",
        "from sklearn.feature_extraction.text import CountVectorizer, TfidfVectorizer, TfidfTransformer\n",
        "from sklearn.model_selection import train_test_split, KFold\n",
        "from sklearn.metrics import (accuracy_score, confusion_matrix, f1_score, precision_score, recall_score)\n",
        "from sklearn.naive_bayes import GaussianNB, BernoulliNB, MultinomialNB, ComplementNB\n",
        "from sklearn.neighbors import KNeighborsClassifier\n",
        "from sklearn.tree import DecisionTreeClassifier\n",
        "from sklearn.model_selection import GridSearchCV\n",
        "import sklearn.naive_bayes\n",
        "\n",
        "!pip install stop_words\n",
        "from stop_words import get_stop_words\n",
        "stopWords = get_stop_words('pl')\n",
        "\n",
        "!pip install pystempel\n",
        "from stempel import StempelStemmer\n",
        "stemmer = StempelStemmer.polimorf()\n",
        "\n",
        "import string\n",
        "from sklearn.utils import shuffle\n",
        "\n"
      ],
      "outputs": [
        {
          "output_type": "stream",
          "name": "stderr",
          "text": [
            "[nltk_data] Downloading collection 'popular'\n",
            "[nltk_data]    | \n",
            "[nltk_data]    | Downloading package cmudict to /root/nltk_data...\n",
            "[nltk_data]    |   Package cmudict is already up-to-date!\n",
            "[nltk_data]    | Downloading package gazetteers to /root/nltk_data...\n",
            "[nltk_data]    |   Package gazetteers is already up-to-date!\n",
            "[nltk_data]    | Downloading package genesis to /root/nltk_data...\n",
            "[nltk_data]    |   Package genesis is already up-to-date!\n",
            "[nltk_data]    | Downloading package gutenberg to /root/nltk_data...\n",
            "[nltk_data]    |   Package gutenberg is already up-to-date!\n",
            "[nltk_data]    | Downloading package inaugural to /root/nltk_data...\n",
            "[nltk_data]    |   Package inaugural is already up-to-date!\n",
            "[nltk_data]    | Downloading package movie_reviews to\n",
            "[nltk_data]    |     /root/nltk_data...\n",
            "[nltk_data]    |   Package movie_reviews is already up-to-date!\n",
            "[nltk_data]    | Downloading package names to /root/nltk_data...\n",
            "[nltk_data]    |   Package names is already up-to-date!\n",
            "[nltk_data]    | Downloading package shakespeare to /root/nltk_data...\n",
            "[nltk_data]    |   Package shakespeare is already up-to-date!\n",
            "[nltk_data]    | Downloading package stopwords to /root/nltk_data...\n",
            "[nltk_data]    |   Package stopwords is already up-to-date!\n",
            "[nltk_data]    | Downloading package treebank to /root/nltk_data...\n",
            "[nltk_data]    |   Package treebank is already up-to-date!\n",
            "[nltk_data]    | Downloading package twitter_samples to\n",
            "[nltk_data]    |     /root/nltk_data...\n",
            "[nltk_data]    |   Package twitter_samples is already up-to-date!\n",
            "[nltk_data]    | Downloading package omw to /root/nltk_data...\n",
            "[nltk_data]    |   Package omw is already up-to-date!\n",
            "[nltk_data]    | Downloading package omw-1.4 to /root/nltk_data...\n",
            "[nltk_data]    |   Package omw-1.4 is already up-to-date!\n",
            "[nltk_data]    | Downloading package wordnet to /root/nltk_data...\n",
            "[nltk_data]    |   Package wordnet is already up-to-date!\n",
            "[nltk_data]    | Downloading package wordnet2021 to /root/nltk_data...\n",
            "[nltk_data]    |   Package wordnet2021 is already up-to-date!\n",
            "[nltk_data]    | Downloading package wordnet31 to /root/nltk_data...\n",
            "[nltk_data]    |   Package wordnet31 is already up-to-date!\n",
            "[nltk_data]    | Downloading package wordnet_ic to /root/nltk_data...\n",
            "[nltk_data]    |   Package wordnet_ic is already up-to-date!\n",
            "[nltk_data]    | Downloading package words to /root/nltk_data...\n",
            "[nltk_data]    |   Package words is already up-to-date!\n",
            "[nltk_data]    | Downloading package maxent_ne_chunker to\n",
            "[nltk_data]    |     /root/nltk_data...\n",
            "[nltk_data]    |   Package maxent_ne_chunker is already up-to-date!\n",
            "[nltk_data]    | Downloading package punkt to /root/nltk_data...\n",
            "[nltk_data]    |   Package punkt is already up-to-date!\n",
            "[nltk_data]    | Downloading package snowball_data to\n",
            "[nltk_data]    |     /root/nltk_data...\n",
            "[nltk_data]    |   Package snowball_data is already up-to-date!\n",
            "[nltk_data]    | Downloading package averaged_perceptron_tagger to\n",
            "[nltk_data]    |     /root/nltk_data...\n",
            "[nltk_data]    |   Package averaged_perceptron_tagger is already up-\n",
            "[nltk_data]    |       to-date!\n",
            "[nltk_data]    | \n",
            "[nltk_data]  Done downloading collection popular\n"
          ]
        },
        {
          "output_type": "stream",
          "name": "stdout",
          "text": [
            "Looking in indexes: https://pypi.org/simple, https://us-python.pkg.dev/colab-wheels/public/simple/\n",
            "Requirement already satisfied: stop_words in /usr/local/lib/python3.8/dist-packages (2018.7.23)\n",
            "Looking in indexes: https://pypi.org/simple, https://us-python.pkg.dev/colab-wheels/public/simple/\n",
            "Requirement already satisfied: pystempel in /usr/local/lib/python3.8/dist-packages (1.2.0)\n",
            "Requirement already satisfied: tqdm in /usr/local/lib/python3.8/dist-packages (from pystempel) (4.64.1)\n",
            "Requirement already satisfied: sortedcontainers in /usr/local/lib/python3.8/dist-packages (from pystempel) (2.4.0)\n"
          ]
        },
        {
          "output_type": "stream",
          "name": "stderr",
          "text": [
            "Loading: 100%|██████████| 11368252/11368252 [00:12<00:00, 911659.29bytes/s]\n"
          ]
        }
      ],
      "execution_count": 16,
      "metadata": {
        "id": "rbdm6cPoFYDe",
        "colab": {
          "base_uri": "https://localhost:8080/"
        },
        "outputId": "90463d22-7115-4cfb-9f4e-532ed22cb4c9"
      }
    },
    {
      "cell_type": "markdown",
      "source": [
        "Zdefinijuje funkcje potrzebne do wyczyszczenia setu danych.\n",
        "\n",
        "W secie mamy ponad 10km tweetow. Wszystkie zaczynaja sie nazwa uzytkownika ktora zostala zanonimizona wiec mozna ja spokojnie usunac.\n",
        "\n",
        "Usuwamy stopwords, czyli slowa ktore nie maja zadnego znaczenia i nie wnoszą nic do tekstu z punktu widzenia logiki i przekazu. np. a, aby, nigdy, wtedy, wy.\n",
        "\n",
        "Usuwamy znaki specjalne, czyli !\"#$%&'()*+,-./:;<=>?@[\\]^_`{|}~\n",
        "\n",
        "gdy juz mamy wyczyszczone dane przeprowadzamy stemming, czyli wydobywamy ze słowa jego podstawę, np. jechac, pojechac, jechalem, pojachalbym\n",
        " =zamienia sie na => \"jecha\""
      ],
      "metadata": {
        "id": "sziz6V4z9Ik9"
      }
    },
    {
      "cell_type": "markdown",
      "source": [],
      "metadata": {
        "id": "rqETiikn9Zo8"
      }
    },
    {
      "cell_type": "code",
      "source": [
        "def removeUserNames(text):\n",
        "    text['text'] = text['text'].str.replace('@anonymized_account', '')\n",
        "    return text\n",
        "\n",
        "def removeStopwords(text):\n",
        "    text = [word.lower() for word in text.split() if word.lower() not in stopWords]\n",
        "    return \" \".join(text)\n",
        "\n",
        "def removeSpecialChars(text):\n",
        "    translator = str.maketrans('', '', string.punctuation)\n",
        "    return text.translate(translator)\n",
        "\n",
        "def stem(text):\n",
        "    text = [stemmer.stem(word) for word in text.split()]\n",
        "    a = [i for i in text if i]\n",
        "    return \" \".join(a)"
      ],
      "outputs": [],
      "execution_count": 17,
      "metadata": {
        "id": "o-FA6bi4FisE"
      }
    },
    {
      "cell_type": "code",
      "source": [
        "y_train = pd.read_csv('http://77.55.209.58/inl/task1/training_set_clean_only_tags.txt', delimiter='\\t', names=['y'])\n",
        "X_train = pd.read_csv('http://77.55.209.58/inl/task1/training_set_clean_only_text.txt', delimiter='\\t', names=['text'])"
      ],
      "outputs": [],
      "execution_count": 18,
      "metadata": {
        "id": "NkJmI88QLQcj"
      }
    },
    {
      "cell_type": "code",
      "source": [
        "X_train"
      ],
      "metadata": {
        "colab": {
          "base_uri": "https://localhost:8080/",
          "height": 423
        },
        "id": "ucyoLd_oH5Bd",
        "outputId": "4b93ea52-b7ef-4167-9083-3ac95070c1ee"
      },
      "execution_count": 19,
      "outputs": [
        {
          "output_type": "execute_result",
          "data": {
            "text/plain": [
              "                                                    text\n",
              "0      Dla mnie faworytem do tytułu będzie Cracovia. ...\n",
              "1      @anonymized_account @anonymized_account Brawo ...\n",
              "2      @anonymized_account @anonymized_account Super,...\n",
              "3      @anonymized_account @anonymized_account Musi. ...\n",
              "4        Odrzut natychmiastowy, kwaśna mina, mam problem\n",
              "...                                                  ...\n",
              "10036   @anonymized_account Ty zagrasz? Nie wiedziałem 😉\n",
              "10037  @anonymized_account @anonymized_account A VAR ...\n",
              "10038  @anonymized_account @anonymized_account Szanow...\n",
              "10039  @anonymized_account @anonymized_account @anony...\n",
              "10040  @anonymized_account A wróżbita Maciej mówi że ...\n",
              "\n",
              "[10041 rows x 1 columns]"
            ],
            "text/html": [
              "\n",
              "  <div id=\"df-88b722b8-3411-4e3f-8181-35a44cf581dc\">\n",
              "    <div class=\"colab-df-container\">\n",
              "      <div>\n",
              "<style scoped>\n",
              "    .dataframe tbody tr th:only-of-type {\n",
              "        vertical-align: middle;\n",
              "    }\n",
              "\n",
              "    .dataframe tbody tr th {\n",
              "        vertical-align: top;\n",
              "    }\n",
              "\n",
              "    .dataframe thead th {\n",
              "        text-align: right;\n",
              "    }\n",
              "</style>\n",
              "<table border=\"1\" class=\"dataframe\">\n",
              "  <thead>\n",
              "    <tr style=\"text-align: right;\">\n",
              "      <th></th>\n",
              "      <th>text</th>\n",
              "    </tr>\n",
              "  </thead>\n",
              "  <tbody>\n",
              "    <tr>\n",
              "      <th>0</th>\n",
              "      <td>Dla mnie faworytem do tytułu będzie Cracovia. ...</td>\n",
              "    </tr>\n",
              "    <tr>\n",
              "      <th>1</th>\n",
              "      <td>@anonymized_account @anonymized_account Brawo ...</td>\n",
              "    </tr>\n",
              "    <tr>\n",
              "      <th>2</th>\n",
              "      <td>@anonymized_account @anonymized_account Super,...</td>\n",
              "    </tr>\n",
              "    <tr>\n",
              "      <th>3</th>\n",
              "      <td>@anonymized_account @anonymized_account Musi. ...</td>\n",
              "    </tr>\n",
              "    <tr>\n",
              "      <th>4</th>\n",
              "      <td>Odrzut natychmiastowy, kwaśna mina, mam problem</td>\n",
              "    </tr>\n",
              "    <tr>\n",
              "      <th>...</th>\n",
              "      <td>...</td>\n",
              "    </tr>\n",
              "    <tr>\n",
              "      <th>10036</th>\n",
              "      <td>@anonymized_account Ty zagrasz? Nie wiedziałem 😉</td>\n",
              "    </tr>\n",
              "    <tr>\n",
              "      <th>10037</th>\n",
              "      <td>@anonymized_account @anonymized_account A VAR ...</td>\n",
              "    </tr>\n",
              "    <tr>\n",
              "      <th>10038</th>\n",
              "      <td>@anonymized_account @anonymized_account Szanow...</td>\n",
              "    </tr>\n",
              "    <tr>\n",
              "      <th>10039</th>\n",
              "      <td>@anonymized_account @anonymized_account @anony...</td>\n",
              "    </tr>\n",
              "    <tr>\n",
              "      <th>10040</th>\n",
              "      <td>@anonymized_account A wróżbita Maciej mówi że ...</td>\n",
              "    </tr>\n",
              "  </tbody>\n",
              "</table>\n",
              "<p>10041 rows × 1 columns</p>\n",
              "</div>\n",
              "      <button class=\"colab-df-convert\" onclick=\"convertToInteractive('df-88b722b8-3411-4e3f-8181-35a44cf581dc')\"\n",
              "              title=\"Convert this dataframe to an interactive table.\"\n",
              "              style=\"display:none;\">\n",
              "        \n",
              "  <svg xmlns=\"http://www.w3.org/2000/svg\" height=\"24px\"viewBox=\"0 0 24 24\"\n",
              "       width=\"24px\">\n",
              "    <path d=\"M0 0h24v24H0V0z\" fill=\"none\"/>\n",
              "    <path d=\"M18.56 5.44l.94 2.06.94-2.06 2.06-.94-2.06-.94-.94-2.06-.94 2.06-2.06.94zm-11 1L8.5 8.5l.94-2.06 2.06-.94-2.06-.94L8.5 2.5l-.94 2.06-2.06.94zm10 10l.94 2.06.94-2.06 2.06-.94-2.06-.94-.94-2.06-.94 2.06-2.06.94z\"/><path d=\"M17.41 7.96l-1.37-1.37c-.4-.4-.92-.59-1.43-.59-.52 0-1.04.2-1.43.59L10.3 9.45l-7.72 7.72c-.78.78-.78 2.05 0 2.83L4 21.41c.39.39.9.59 1.41.59.51 0 1.02-.2 1.41-.59l7.78-7.78 2.81-2.81c.8-.78.8-2.07 0-2.86zM5.41 20L4 18.59l7.72-7.72 1.47 1.35L5.41 20z\"/>\n",
              "  </svg>\n",
              "      </button>\n",
              "      \n",
              "  <style>\n",
              "    .colab-df-container {\n",
              "      display:flex;\n",
              "      flex-wrap:wrap;\n",
              "      gap: 12px;\n",
              "    }\n",
              "\n",
              "    .colab-df-convert {\n",
              "      background-color: #E8F0FE;\n",
              "      border: none;\n",
              "      border-radius: 50%;\n",
              "      cursor: pointer;\n",
              "      display: none;\n",
              "      fill: #1967D2;\n",
              "      height: 32px;\n",
              "      padding: 0 0 0 0;\n",
              "      width: 32px;\n",
              "    }\n",
              "\n",
              "    .colab-df-convert:hover {\n",
              "      background-color: #E2EBFA;\n",
              "      box-shadow: 0px 1px 2px rgba(60, 64, 67, 0.3), 0px 1px 3px 1px rgba(60, 64, 67, 0.15);\n",
              "      fill: #174EA6;\n",
              "    }\n",
              "\n",
              "    [theme=dark] .colab-df-convert {\n",
              "      background-color: #3B4455;\n",
              "      fill: #D2E3FC;\n",
              "    }\n",
              "\n",
              "    [theme=dark] .colab-df-convert:hover {\n",
              "      background-color: #434B5C;\n",
              "      box-shadow: 0px 1px 3px 1px rgba(0, 0, 0, 0.15);\n",
              "      filter: drop-shadow(0px 1px 2px rgba(0, 0, 0, 0.3));\n",
              "      fill: #FFFFFF;\n",
              "    }\n",
              "  </style>\n",
              "\n",
              "      <script>\n",
              "        const buttonEl =\n",
              "          document.querySelector('#df-88b722b8-3411-4e3f-8181-35a44cf581dc button.colab-df-convert');\n",
              "        buttonEl.style.display =\n",
              "          google.colab.kernel.accessAllowed ? 'block' : 'none';\n",
              "\n",
              "        async function convertToInteractive(key) {\n",
              "          const element = document.querySelector('#df-88b722b8-3411-4e3f-8181-35a44cf581dc');\n",
              "          const dataTable =\n",
              "            await google.colab.kernel.invokeFunction('convertToInteractive',\n",
              "                                                     [key], {});\n",
              "          if (!dataTable) return;\n",
              "\n",
              "          const docLinkHtml = 'Like what you see? Visit the ' +\n",
              "            '<a target=\"_blank\" href=https://colab.research.google.com/notebooks/data_table.ipynb>data table notebook</a>'\n",
              "            + ' to learn more about interactive tables.';\n",
              "          element.innerHTML = '';\n",
              "          dataTable['output_type'] = 'display_data';\n",
              "          await google.colab.output.renderOutput(dataTable, element);\n",
              "          const docLink = document.createElement('div');\n",
              "          docLink.innerHTML = docLinkHtml;\n",
              "          element.appendChild(docLink);\n",
              "        }\n",
              "      </script>\n",
              "    </div>\n",
              "  </div>\n",
              "  "
            ]
          },
          "metadata": {},
          "execution_count": 19
        }
      ]
    },
    {
      "cell_type": "code",
      "source": [
        "len(y_train)"
      ],
      "outputs": [
        {
          "output_type": "execute_result",
          "data": {
            "text/plain": [
              "10041"
            ]
          },
          "metadata": {},
          "execution_count": 20
        }
      ],
      "execution_count": 20,
      "metadata": {
        "colab": {
          "base_uri": "https://localhost:8080/"
        },
        "id": "_N38wZNl9V0m",
        "outputId": "ca278706-fd12-4278-8de4-ad136b137f4f"
      }
    },
    {
      "cell_type": "code",
      "source": [
        "type(X_train)"
      ],
      "outputs": [
        {
          "output_type": "execute_result",
          "data": {
            "text/plain": [
              "pandas.core.frame.DataFrame"
            ]
          },
          "metadata": {},
          "execution_count": 21
        }
      ],
      "execution_count": 21,
      "metadata": {
        "colab": {
          "base_uri": "https://localhost:8080/"
        },
        "id": "aAILRkZB--gI",
        "outputId": "9e2703e5-aecc-42ea-9cac-a859b1840e41"
      }
    },
    {
      "cell_type": "code",
      "source": [
        "X_train = removeUserNames(X_train)\n",
        "X_train['text'] = X_train['text'].apply(removeSpecialChars).apply(removeStopwords).apply(stem)\n",
        "X_train = X_train['text'].values.tolist()"
      ],
      "outputs": [],
      "execution_count": 22,
      "metadata": {
        "id": "Ih2ckkfVcJ-S"
      }
    },
    {
      "cell_type": "code",
      "source": [
        "vectorizer = CountVectorizer()\n",
        "X_train = vectorizer.fit_transform(X_train)"
      ],
      "outputs": [],
      "execution_count": 23,
      "metadata": {
        "id": "zJsB-Q-Onjqa"
      }
    },
    {
      "cell_type": "code",
      "source": [
        "X_train[1]"
      ],
      "outputs": [
        {
          "output_type": "execute_result",
          "data": {
            "text/plain": [
              "<1x14382 sparse matrix of type '<class 'numpy.int64'>'\n",
              "\twith 5 stored elements in Compressed Sparse Row format>"
            ]
          },
          "metadata": {},
          "execution_count": 24
        }
      ],
      "execution_count": 24,
      "metadata": {
        "colab": {
          "base_uri": "https://localhost:8080/"
        },
        "id": "X-Fm_v_CBANj",
        "outputId": "c893f571-e12b-494e-a825-d0cb22a9439a"
      }
    },
    {
      "cell_type": "code",
      "source": [
        "transformer = TfidfTransformer()\n",
        "X_train = transformer.fit_transform(X_train)"
      ],
      "outputs": [],
      "execution_count": 25,
      "metadata": {
        "id": "lRfZgYkkA_tH"
      }
    },
    {
      "cell_type": "code",
      "source": [
        "X_train[1]"
      ],
      "outputs": [
        {
          "output_type": "execute_result",
          "data": {
            "text/plain": [
              "<1x14382 sparse matrix of type '<class 'numpy.float64'>'\n",
              "\twith 5 stored elements in Compressed Sparse Row format>"
            ]
          },
          "metadata": {},
          "execution_count": 26
        }
      ],
      "execution_count": 26,
      "metadata": {
        "colab": {
          "base_uri": "https://localhost:8080/"
        },
        "id": "Wobv5YycBCoF",
        "outputId": "18602f82-93ad-4140-c582-8f3358d6cade"
      }
    },
    {
      "cell_type": "markdown",
      "source": [
        "**MultinomialNB**\n",
        "\n",
        "Algorytm wielomianowego naiwnego Bayesa to podejście bayesowskie do uczenia się popularne w przetwarzaniu języka naturalnego (NLP). Program odgaduje znacznik tekstu, takiego jak e-mail lub artykuł w gazecie, korzystając z twierdzenia Bayesa. Oblicza prawdopodobieństwo każdego znacznika dla danej próbki i wyprowadza znacznik z największą szansą.\n"
      ],
      "metadata": {
        "id": "T9HWC-Y4LYRe"
      }
    },
    {
      "cell_type": "code",
      "source": [
        "model = MultinomialNB()\n",
        "model.fit(X_train, y_train)\n",
        "\n",
        "y_predict_train = model.predict(X_train)"
      ],
      "outputs": [
        {
          "output_type": "stream",
          "name": "stderr",
          "text": [
            "/usr/local/lib/python3.8/dist-packages/sklearn/utils/validation.py:993: DataConversionWarning: A column-vector y was passed when a 1d array was expected. Please change the shape of y to (n_samples, ), for example using ravel().\n",
            "  y = column_or_1d(y, warn=True)\n"
          ]
        }
      ],
      "execution_count": 27,
      "metadata": {
        "id": "YZXbeEvDpxg9",
        "outputId": "eec8b04b-2e23-4e0e-b66c-7b6a6db332ca",
        "colab": {
          "base_uri": "https://localhost:8080/"
        }
      }
    },
    {
      "cell_type": "code",
      "source": [
        "print('Acc: ', accuracy_score(y_train,  y_predict_train))"
      ],
      "outputs": [
        {
          "output_type": "stream",
          "name": "stdout",
          "text": [
            "Acc:  0.9168409520964047\n"
          ]
        }
      ],
      "execution_count": 28,
      "metadata": {
        "id": "3SIKYvC3qEss",
        "outputId": "16082abb-9692-4bed-a7b9-b3725efbbefa",
        "colab": {
          "base_uri": "https://localhost:8080/"
        }
      }
    },
    {
      "cell_type": "code",
      "source": [
        "print('F1:', f1_score(y_train,  y_predict_train, average = 'weighted'))"
      ],
      "outputs": [
        {
          "output_type": "stream",
          "name": "stdout",
          "text": [
            "F1: 0.8786029464134026\n"
          ]
        }
      ],
      "execution_count": 29,
      "metadata": {
        "colab": {
          "base_uri": "https://localhost:8080/"
        },
        "id": "E_8IULPuBJC8",
        "outputId": "e20b6867-901b-41e3-9f9f-8fb1b7833bcd"
      }
    },
    {
      "cell_type": "code",
      "source": [
        "y_test = pd.read_csv('http://77.55.209.58/inl/test1/test_set_clean_only_tags.txt', delimiter='\\t', names=['y'])\n",
        "X_test = pd.read_csv('http://77.55.209.58/inl/test1/test_set_clean_only_text.txt', delimiter='\\t', names=['text'])"
      ],
      "outputs": [],
      "execution_count": 30,
      "metadata": {
        "id": "pwg_EAjP7zDw"
      }
    },
    {
      "cell_type": "code",
      "source": [
        "len(y_test)"
      ],
      "outputs": [
        {
          "output_type": "execute_result",
          "data": {
            "text/plain": [
              "1000"
            ]
          },
          "metadata": {},
          "execution_count": 31
        }
      ],
      "execution_count": 31,
      "metadata": {
        "colab": {
          "base_uri": "https://localhost:8080/"
        },
        "id": "XaKYI_c1BTrP",
        "outputId": "a43b04d3-0adc-480b-eccd-dcaca5ad0d24"
      }
    },
    {
      "cell_type": "code",
      "source": [
        "len(X_test)"
      ],
      "outputs": [
        {
          "output_type": "execute_result",
          "data": {
            "text/plain": [
              "1000"
            ]
          },
          "metadata": {},
          "execution_count": 32
        }
      ],
      "execution_count": 32,
      "metadata": {
        "colab": {
          "base_uri": "https://localhost:8080/"
        },
        "id": "Sprm08GSBTlH",
        "outputId": "810c7e73-7bc2-4696-ed82-0b8fc52858a9"
      }
    },
    {
      "cell_type": "code",
      "source": [
        "X_test = removeUserNames(X_test)\n",
        "X_test['text'] = X_test['text'].apply(removeSpecialChars).apply(removeStopwords).apply(stem)\n",
        "X_test = X_test['text'].values.tolist()"
      ],
      "outputs": [],
      "execution_count": 33,
      "metadata": {
        "id": "nduB0UPqH0Tz"
      }
    },
    {
      "cell_type": "code",
      "source": [
        "X_test[1]"
      ],
      "outputs": [
        {
          "output_type": "execute_result",
          "data": {
            "text/plain": [
              "'ale mieć szansa zagranie ativus ten proba czysty prowizorka'"
            ],
            "application/vnd.google.colaboratory.intrinsic+json": {
              "type": "string"
            }
          },
          "metadata": {},
          "execution_count": 34
        }
      ],
      "execution_count": 34,
      "metadata": {
        "id": "jH9lEzF9H9rC",
        "colab": {
          "base_uri": "https://localhost:8080/",
          "height": 36
        },
        "outputId": "5cd2adbe-d5ab-444e-d08e-bbed07ce8037"
      }
    },
    {
      "cell_type": "code",
      "source": [
        "X_test = vectorizer.transform(X_test)\n",
        "X_test[1]"
      ],
      "outputs": [
        {
          "output_type": "execute_result",
          "data": {
            "text/plain": [
              "<1x14382 sparse matrix of type '<class 'numpy.int64'>'\n",
              "\twith 7 stored elements in Compressed Sparse Row format>"
            ]
          },
          "metadata": {},
          "execution_count": 35
        }
      ],
      "execution_count": 35,
      "metadata": {
        "id": "h1zhilGEH_Zn",
        "colab": {
          "base_uri": "https://localhost:8080/"
        },
        "outputId": "7e666bcc-d06b-49b8-9c8a-c5a7fe471c64"
      }
    },
    {
      "cell_type": "code",
      "source": [
        "X_test = transformer.transform(X_test)\n",
        "X_test[1]"
      ],
      "outputs": [
        {
          "output_type": "execute_result",
          "data": {
            "text/plain": [
              "<1x14382 sparse matrix of type '<class 'numpy.float64'>'\n",
              "\twith 7 stored elements in Compressed Sparse Row format>"
            ]
          },
          "metadata": {},
          "execution_count": 36
        }
      ],
      "execution_count": 36,
      "metadata": {
        "colab": {
          "base_uri": "https://localhost:8080/"
        },
        "id": "V-1VwGIIBdTn",
        "outputId": "9f7caf53-4141-4fff-9bf8-51f0d23242b3"
      }
    },
    {
      "cell_type": "code",
      "source": [
        "y_predict_test = model.predict(X_test)"
      ],
      "outputs": [],
      "execution_count": 37,
      "metadata": {
        "id": "FmiK-N4qBfsY"
      }
    },
    {
      "cell_type": "code",
      "source": [
        "print('Acc:', accuracy_score(y_test,  y_predict_test))"
      ],
      "outputs": [
        {
          "output_type": "stream",
          "name": "stdout",
          "text": [
            "Acc: 0.866\n"
          ]
        }
      ],
      "execution_count": 38,
      "metadata": {
        "id": "Tcld77viHz8l",
        "colab": {
          "base_uri": "https://localhost:8080/"
        },
        "outputId": "f60b45c1-b0cd-4ae5-948e-968dc4a80933"
      }
    },
    {
      "cell_type": "code",
      "source": [
        "print('F1:', f1_score(y_test,  y_predict_test, average = 'weighted'))"
      ],
      "outputs": [
        {
          "output_type": "stream",
          "name": "stdout",
          "text": [
            "F1: 0.8038113612004287\n"
          ]
        }
      ],
      "execution_count": 39,
      "metadata": {
        "colab": {
          "base_uri": "https://localhost:8080/"
        },
        "id": "r5FlDEstBi4D",
        "outputId": "e148b887-8c30-432b-f0e8-874678a8b5d9"
      }
    },
    {
      "cell_type": "markdown",
      "source": [
        "**BernoulliNB**\n",
        " BernoulliNB implementuje naiwne algorytmy uczenia i klasyfikacji Bayesa dla danych, które są dystrybuowane zgodnie z wielowymiarowymi rozkładami Bernoulliego; tzn. może istnieć wiele cech, ale zakłada się, że każda z nich jest zmienną o wartości binarnej (Bernoulli, boolean).\n",
        "\n",
        "\n"
      ],
      "metadata": {
        "id": "9A56rWgOC4U6"
      }
    },
    {
      "cell_type": "code",
      "source": [
        "model = BernoulliNB()\n",
        "model.fit(X_train, y_train)\n",
        "\n",
        "y_predict_train = model.predict(X_train)"
      ],
      "outputs": [
        {
          "output_type": "stream",
          "name": "stderr",
          "text": [
            "/usr/local/lib/python3.8/dist-packages/sklearn/utils/validation.py:993: DataConversionWarning: A column-vector y was passed when a 1d array was expected. Please change the shape of y to (n_samples, ), for example using ravel().\n",
            "  y = column_or_1d(y, warn=True)\n"
          ]
        }
      ],
      "execution_count": 40,
      "metadata": {
        "colab": {
          "base_uri": "https://localhost:8080/"
        },
        "id": "KT-jIBeeC4Hp",
        "outputId": "16983fc5-477b-43ee-9bb2-f46d140ebdf5"
      }
    },
    {
      "cell_type": "code",
      "source": [
        "print('Acc: ', accuracy_score(y_train,  y_predict_train))"
      ],
      "outputs": [
        {
          "output_type": "stream",
          "name": "stdout",
          "text": [
            "Acc:  0.9242107359824718\n"
          ]
        }
      ],
      "execution_count": 41,
      "metadata": {
        "colab": {
          "base_uri": "https://localhost:8080/"
        },
        "id": "XlFvY9J9C9c4",
        "outputId": "41226728-8824-46fc-fff2-d569cd98dc15"
      }
    },
    {
      "cell_type": "code",
      "source": [
        "print('F1:', f1_score(y_train,  y_predict_train, average = 'weighted'))"
      ],
      "outputs": [
        {
          "output_type": "stream",
          "name": "stdout",
          "text": [
            "F1: 0.8954942598431733\n"
          ]
        }
      ],
      "execution_count": 42,
      "metadata": {
        "colab": {
          "base_uri": "https://localhost:8080/"
        },
        "id": "C9kXbf0aDCcR",
        "outputId": "67256d35-2daf-4ed2-db52-506ad453f5ce"
      }
    },
    {
      "cell_type": "code",
      "source": [
        "y_predict_test = model.predict(X_test)"
      ],
      "outputs": [],
      "execution_count": 43,
      "metadata": {
        "id": "6g9879sFDFaf"
      }
    },
    {
      "cell_type": "code",
      "source": [
        "print('Acc:', accuracy_score(y_test,  y_predict_test))"
      ],
      "outputs": [
        {
          "output_type": "stream",
          "name": "stdout",
          "text": [
            "Acc: 0.866\n"
          ]
        }
      ],
      "execution_count": 44,
      "metadata": {
        "colab": {
          "base_uri": "https://localhost:8080/"
        },
        "id": "SEZOyLCnDL9z",
        "outputId": "8afc2901-5baf-4cbc-da88-c64bc8ddab06"
      }
    },
    {
      "cell_type": "code",
      "source": [
        "print('F1:', f1_score(y_test,  y_predict_test, average = 'weighted'))"
      ],
      "outputs": [
        {
          "output_type": "stream",
          "name": "stdout",
          "text": [
            "F1: 0.8038113612004287\n"
          ]
        }
      ],
      "execution_count": 45,
      "metadata": {
        "colab": {
          "base_uri": "https://localhost:8080/"
        },
        "id": "m99_sshEDOxm",
        "outputId": "f186126a-76d6-4651-d83d-a2bb4143ecc5"
      }
    },
    {
      "cell_type": "markdown",
      "source": [
        "\n",
        "**POLEVAL 2019 wzor Task 6: Automatic cyberbullying detection http://2019.poleval.pl/index.php/tasks/task6 - Subtask 6.2**"
      ],
      "metadata": {
        "id": "JTz4vgl0kC9G"
      }
    },
    {
      "cell_type": "markdown",
      "source": [
        "Task 6.2 - 10041 tweet´ow treningowych w 3 kategoriach:\n",
        "nieszkodliwe ,cyberprzemoc i mowa nienawiści, dane testowe 1000\n",
        "tweet´ow z zbiorów tagów do weryfikacji"
      ],
      "metadata": {
        "id": "TnjGEu0bGBH_"
      }
    },
    {
      "cell_type": "markdown",
      "source": [
        "W tym zadaniu uzyje **XGBoostClassifier**\n",
        "\n",
        "XGBoost to implementacja algorytmu drzewa gradientowego, który jest powszechnie uznawany ze wzgledu wydajność i dokładność predykcyjną. "
      ],
      "metadata": {
        "id": "xjpKZrH2kV8O"
      }
    },
    {
      "cell_type": "code",
      "source": [
        "!pip install xgboost\n",
        "from xgboost import XGBClassifier"
      ],
      "outputs": [
        {
          "output_type": "stream",
          "name": "stdout",
          "text": [
            "Looking in indexes: https://pypi.org/simple, https://us-python.pkg.dev/colab-wheels/public/simple/\n",
            "Requirement already satisfied: xgboost in /usr/local/lib/python3.8/dist-packages (0.90)\n",
            "Requirement already satisfied: scipy in /usr/local/lib/python3.8/dist-packages (from xgboost) (1.7.3)\n",
            "Requirement already satisfied: numpy in /usr/local/lib/python3.8/dist-packages (from xgboost) (1.21.6)\n"
          ]
        }
      ],
      "execution_count": 46,
      "metadata": {
        "id": "wptvlPVXkO38",
        "colab": {
          "base_uri": "https://localhost:8080/"
        },
        "outputId": "72918614-dae2-4095-8ad0-f478099bc8f1"
      }
    },
    {
      "cell_type": "code",
      "source": [
        "y_train = pd.read_csv('http://77.55.209.58/inl/task2/training_set_clean_only_tags.txt', delimiter='\\t', names=['y'])\n",
        "X_train = pd.read_csv('http://77.55.209.58/inl/task2/training_set_clean_only_text.txt', delimiter='\\t', names=['text'])\n",
        "y_test = pd.read_csv('http://77.55.209.58/inl/test2/test_set_only_tags.txt', delimiter='\\t', names=['y'])\n",
        "X_test = pd.read_csv('http://77.55.209.58/inl/test2/test_set_only_text.txt', delimiter='\\t', names=['text'])"
      ],
      "outputs": [],
      "execution_count": 49,
      "metadata": {
        "id": "OQ-hfdhdkaKm"
      }
    },
    {
      "cell_type": "code",
      "source": [
        "X_train = removeUserNames(X_train)\n",
        "X_train['text'] = X_train['text'].apply(removeSpecialChars).apply(removeStopwords).apply(stem)\n",
        "X_train = X_train['text'].values.tolist()"
      ],
      "outputs": [],
      "execution_count": 50,
      "metadata": {
        "id": "RQXmdhfPkcOX"
      }
    },
    {
      "cell_type": "code",
      "source": [
        "vectorizer = CountVectorizer()\n",
        "transformer = TfidfTransformer()\n",
        "\n",
        "X_train = vectorizer.fit_transform(X_train)\n",
        "X_train = transformer.fit_transform(X_train)"
      ],
      "outputs": [],
      "execution_count": 51,
      "metadata": {
        "id": "tjTsHq0KkeR2"
      }
    },
    {
      "cell_type": "code",
      "source": [
        "model = XGBClassifier()\n",
        "model.fit(X_train, y_train)"
      ],
      "outputs": [
        {
          "output_type": "stream",
          "name": "stderr",
          "text": [
            "/usr/local/lib/python3.8/dist-packages/sklearn/preprocessing/_label.py:98: DataConversionWarning: A column-vector y was passed when a 1d array was expected. Please change the shape of y to (n_samples, ), for example using ravel().\n",
            "  y = column_or_1d(y, warn=True)\n",
            "/usr/local/lib/python3.8/dist-packages/sklearn/preprocessing/_label.py:133: DataConversionWarning: A column-vector y was passed when a 1d array was expected. Please change the shape of y to (n_samples, ), for example using ravel().\n",
            "  y = column_or_1d(y, warn=True)\n"
          ]
        },
        {
          "output_type": "execute_result",
          "data": {
            "text/plain": [
              "XGBClassifier(objective='multi:softprob')"
            ]
          },
          "metadata": {},
          "execution_count": 52
        }
      ],
      "execution_count": 52,
      "metadata": {
        "id": "etDWY2znkf9s",
        "colab": {
          "base_uri": "https://localhost:8080/"
        },
        "outputId": "cf085d67-31d5-47c8-ed67-0ccb404da6f0"
      }
    },
    {
      "cell_type": "code",
      "source": [
        "y_predict_train = model.predict(X_train)\n",
        "print('Acc:', accuracy_score(y_train,  y_predict_train))"
      ],
      "outputs": [
        {
          "output_type": "stream",
          "name": "stdout",
          "text": [
            "Acc: 0.9180360521860372\n"
          ]
        }
      ],
      "execution_count": 53,
      "metadata": {
        "id": "lh7__j3Hkjmk",
        "colab": {
          "base_uri": "https://localhost:8080/"
        },
        "outputId": "610493d3-0ea0-4300-ee51-7784b34d510a"
      }
    },
    {
      "cell_type": "code",
      "source": [
        "print('F1:', f1_score(y_train,  y_predict_train, average='weighted'))"
      ],
      "outputs": [
        {
          "output_type": "stream",
          "name": "stdout",
          "text": [
            "F1: 0.8816011287626483\n"
          ]
        }
      ],
      "execution_count": 54,
      "metadata": {
        "id": "bfasRC_6kpNn",
        "colab": {
          "base_uri": "https://localhost:8080/"
        },
        "outputId": "4c5d64df-ac75-4702-9295-172d4d22b31b"
      }
    },
    {
      "cell_type": "code",
      "source": [
        "X_test = removeUserNames(X_test)\n",
        "X_test['text'] = X_test['text'].apply(removeSpecialChars).apply(removeStopwords).apply(stem)\n",
        "X_test = X_test['text'].values.tolist()"
      ],
      "outputs": [],
      "execution_count": 55,
      "metadata": {
        "id": "fhXwYgVGkq6l"
      }
    },
    {
      "cell_type": "code",
      "source": [
        "X_test = vectorizer.transform(X_test)\n",
        "X_test = transformer.transform(X_test)"
      ],
      "outputs": [],
      "execution_count": 56,
      "metadata": {
        "id": "TNwZrtCnksYc"
      }
    },
    {
      "cell_type": "code",
      "source": [
        "y_predict_test = model.predict(X_test)\n",
        "print('Acc:', accuracy_score(y_test,  y_predict_test))"
      ],
      "outputs": [
        {
          "output_type": "stream",
          "name": "stdout",
          "text": [
            "Acc: 0.868\n"
          ]
        }
      ],
      "execution_count": 57,
      "metadata": {
        "id": "8IWnabIwkuD9",
        "colab": {
          "base_uri": "https://localhost:8080/"
        },
        "outputId": "f065c50d-bd3a-408f-f8f1-0a62bc61691b"
      }
    },
    {
      "cell_type": "code",
      "source": [
        "print('F1:', f1_score(y_test, y_predict_test, average='weighted'))"
      ],
      "outputs": [
        {
          "output_type": "stream",
          "name": "stdout",
          "text": [
            "F1: 0.8086017476704171\n"
          ]
        }
      ],
      "execution_count": 58,
      "metadata": {
        "id": "-pc2_vhbkxGc",
        "colab": {
          "base_uri": "https://localhost:8080/"
        },
        "outputId": "bb7d6d3a-32ee-4ae3-dc8e-2fe5c2d855c8"
      }
    }
  ],
  "metadata": {
    "colab": {
      "provenance": [],
      "include_colab_link": true
    },
    "kernelspec": {
      "name": "python3",
      "display_name": "Python 3"
    },
    "nteract": {
      "version": "nteract-front-end@1.0.0"
    }
  },
  "nbformat": 4,
  "nbformat_minor": 0
}