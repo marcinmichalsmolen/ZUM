{
  "nbformat": 4,
  "nbformat_minor": 0,
  "metadata": {
    "colab": {
      "name": "WUM5_Obraz_MarcinSmolen_s23429_kompletne.ipynb",
      "provenance": [],
      "collapsed_sections": [],
      "toc_visible": true,
      "include_colab_link": true
    },
    "kernelspec": {
      "name": "python3",
      "display_name": "Python 3"
    },
    "accelerator": "GPU",
    "gpuClass": "standard"
  },
  "cells": [
    {
      "cell_type": "markdown",
      "metadata": {
        "id": "view-in-github",
        "colab_type": "text"
      },
      "source": [
        "<a href=\"https://colab.research.google.com/github/marcinmichalsmolen/zum_nlp/blob/main/WUM5_Obraz_MarcinSmolen_s23429.ipynb\" target=\"_parent\"><img src=\"https://colab.research.google.com/assets/colab-badge.svg\" alt=\"Open In Colab\"/></a>"
      ]
    },
    {
      "cell_type": "markdown",
      "metadata": {
        "id": "IImW6xGnwobW"
      },
      "source": [
        "# Praca domowa - obraz\n"
      ]
    },
    {
      "cell_type": "markdown",
      "metadata": {
        "id": "Eh7IOzAiR_00"
      },
      "source": [
        "Najpierw upewnijmy się, że pracujemy na GPU. \n",
        "\n",
        "* Włącz GPU (Runtime / Change runtime type)"
      ]
    },
    {
      "cell_type": "markdown",
      "metadata": {
        "id": "3qW-R-Zn3y5b"
      },
      "source": [
        "## MNIST\n",
        "\n"
      ]
    },
    {
      "cell_type": "markdown",
      "source": [
        "### Wczytanie i wizualizacja"
      ],
      "metadata": {
        "id": "725Tr9dOfTmr"
      }
    },
    {
      "cell_type": "markdown",
      "source": [
        "* Wczytaj dane mnist do zmiennych X_train, y_train, X_test, y_test.\n",
        "https://keras.io/datasets/"
      ],
      "metadata": {
        "id": "GlcBIlyQfPIM"
      }
    },
    {
      "cell_type": "code",
      "metadata": {
        "id": "j9NGgReMXoyK",
        "colab": {
          "base_uri": "https://localhost:8080/"
        },
        "outputId": "f6883427-96fb-40d8-bc7f-510a29c6122a"
      },
      "source": [
        "from keras.datasets import mnist as dataset\n",
        "import numpy as np\n",
        "(X_train, y_train), (X_test, y_test) = dataset.load_data()"
      ],
      "execution_count": 1,
      "outputs": [
        {
          "output_type": "stream",
          "name": "stdout",
          "text": [
            "Downloading data from https://storage.googleapis.com/tensorflow/tf-keras-datasets/mnist.npz\n",
            "11493376/11490434 [==============================] - 0s 0us/step\n",
            "11501568/11490434 [==============================] - 0s 0us/step\n"
          ]
        }
      ]
    },
    {
      "cell_type": "markdown",
      "source": [
        "Teraz sprawdź i napisz:\n",
        "* ile mamy instancji treningowych:\n",
        "* ile mamy instancji testowych:\n",
        "* jakie są wymiary w pixelach jednego obrazka:\n",
        "* ile kanałów ma jeden obrazek:\n",
        "* ile bajtów zajmuje jeden piksel:\n",
        "* jaka jest minimalna i maksymalna wartość piksela:\n",
        "\n"
      ],
      "metadata": {
        "id": "Qtam0UK3HM4t"
      }
    },
    {
      "cell_type": "code",
      "source": [
        "print(\"X_train: {}, y_train: {}\", X_train.shape, y_train.shape)\n",
        "print(\"X_test: {}, y_test: {}\", X_test.shape, y_test.shape)"
      ],
      "metadata": {
        "id": "H6HW57bUKHEu",
        "colab": {
          "base_uri": "https://localhost:8080/"
        },
        "outputId": "3d6e08de-3868-467f-abb7-3dcb9e61cc52"
      },
      "execution_count": 2,
      "outputs": [
        {
          "output_type": "stream",
          "name": "stdout",
          "text": [
            "X_train: {}, y_train: {} (60000, 28, 28) (60000,)\n",
            "X_test: {}, y_test: {} (10000, 28, 28) (10000,)\n"
          ]
        }
      ]
    },
    {
      "cell_type": "markdown",
      "source": [
        "\n",
        "*   Instancji treningowych mamy 60000, \n",
        "*   testowych 10000, \n",
        "*   wymiary w pixelach: 28 x 28, \n",
        "*   jeden obrazek ma jeden kanał (odcienie szarości), \n",
        "*   1 piksel zajmuje 1 bajt czyli 2^8 ,\n",
        "*   Minimalna wartość 0, maksymalna 255\n"
      ],
      "metadata": {
        "id": "k2GU9ofhkgcY"
      }
    },
    {
      "cell_type": "markdown",
      "metadata": {
        "id": "yZpZmpJpbr87"
      },
      "source": [
        "Świetnie, teraz: \n",
        "* Wyrysuj pierwsze 12 elementów zbioru treningowego.\n",
        "* Wypisz lub narysuj etykiety tych 12 elementów. \n",
        "\n",
        "[Tutaj są różne color mapy.](  \n",
        "https://matplotlib.org/examples/color/colormaps_reference.html), których możesz użyć w funkcji imshow.  "
      ]
    },
    {
      "cell_type": "code",
      "metadata": {
        "id": "nIh_CbLNcRLZ",
        "colab": {
          "base_uri": "https://localhost:8080/",
          "height": 281
        },
        "outputId": "a01a9fd5-d2c6-4f54-9d4b-a3a45d8e4ef1"
      },
      "source": [
        "# Rysowanie 12 elementów - etykiety na górze\n",
        "import matplotlib.pyplot as plt\n",
        "plt.imshow(X_train[0], cmap='gray')\n",
        "for i in range(12):\n",
        "  plt.subplot(3, 4, i+1)\n",
        "  plt.imshow(X_train[i], cmap='inferno')\n",
        "  plt.title(y_train[i])\n",
        "plt.show()"
      ],
      "execution_count": 3,
      "outputs": [
        {
          "output_type": "display_data",
          "data": {
            "text/plain": [
              "<Figure size 432x288 with 12 Axes>"
            ],
            "image/png": "[encoded data removed]"
          },
          "metadata": {
            "needs_background": "light"
          }
        }
      ]
    },
    {
      "cell_type": "code",
      "source": [
        "# Wypisanie samych 12 etykiet\n",
        "for i in range(12):\n",
        " print(y_train[i])\n"
      ],
      "metadata": {
        "colab": {
          "base_uri": "https://localhost:8080/"
        },
        "id": "kRTuaYR6u4gp",
        "outputId": "361a4907-792f-4d2a-ce6d-cacc13626699"
      },
      "execution_count": 4,
      "outputs": [
        {
          "output_type": "stream",
          "name": "stdout",
          "text": [
            "5\n",
            "0\n",
            "4\n",
            "1\n",
            "9\n",
            "2\n",
            "1\n",
            "3\n",
            "1\n",
            "4\n",
            "3\n",
            "5\n"
          ]
        }
      ]
    },
    {
      "cell_type": "markdown",
      "source": [
        "* Teraz narysuj swój numer studenta używając cyfr zbioru mnist. Jeśli Twój indeks to np. s12345, wyrysuj 5 obrazków z cyframi '1', '2', '3', '4' i '5' obok siebie. "
      ],
      "metadata": {
        "id": "Uu-4YcjdLt5g"
      }
    },
    {
      "cell_type": "code",
      "source": [
        ""
      ],
      "metadata": {
        "id": "nirtYlFgMgEY"
      },
      "execution_count": null,
      "outputs": []
    },
    {
      "cell_type": "markdown",
      "metadata": {
        "id": "0lOBeLJYcAGN"
      },
      "source": [
        "### Klasyfikacja CNN'em"
      ]
    },
    {
      "cell_type": "markdown",
      "metadata": {
        "id": "nlW4Jyg_A85O"
      },
      "source": [
        "####Przygotowanie danych"
      ]
    },
    {
      "cell_type": "markdown",
      "metadata": {
        "id": "s6hmMA0Tobxz"
      },
      "source": [
        "Przygotujmy nasze dane treningowe:\n",
        "* Przerób X_train i X_test tak, żeby wartości wszystkich pixeli były zawarte w przedziale <0,1>\n",
        "* Zmień typ naszych pixeli na 'float32'\n",
        "\n",
        "*Może się przydać metoda astype.*"
      ]
    },
    {
      "cell_type": "code",
      "metadata": {
        "id": "sVwm01xOoOBo"
      },
      "source": [
        "X_train = X_train / 255\n",
        "X_test = X_test / 255\n",
        "X_train = X_train.astype('float32')\n",
        "X_test = X_test.astype('float32')"
      ],
      "execution_count": 5,
      "outputs": []
    },
    {
      "cell_type": "markdown",
      "metadata": {
        "id": "HQJvnE8NeDgT"
      },
      "source": [
        "Przygotowaliśmy dane treningowe, teraz jeszcze etykiety.  W tej chwili jest to wektor liczb - dla każdej instancji mamy jedną liczbę. Nasza sieć będzie miała na wyjściu 10 wartości (wynik dla każdej klasy), więc musimy przerobić nasze liczby do postaci one-hot. Jeśli klasy trzech instancji to np. [0, 3, 5], w postaci one-hot będziemy mieć na przykład coś takiego:  \n",
        "[1000000000]  \n",
        "[0001000000]  \n",
        "[0000010000]\n",
        "\n",
        "Możesz do tego użyć funkcji [to_categorical](https://keras.io/api/utils/python_utils/).\n",
        "\n",
        "* Przekonwertuj etykiety do postaci one-hot i wpisz wyniki do zmiennych Y_train i Y_test. \n",
        "* Wypisz 10 pierwszych elementów Y_train oraz y_train. \n",
        "* Napisz, jak w nowej postaci będą zapisane etykiety cyfr: 1, 2 i 4. \n",
        "* Wypisz kolejne cyfry swojego numeru indeksu używając powyższego zapisu. "
      ]
    },
    {
      "cell_type": "code",
      "metadata": {
        "id": "xQUGyHL2cLBp"
      },
      "source": [
        "from keras.utils.np_utils import to_categorical as tk\n",
        "Y_train = tk(y_train)\n",
        "Y_test =tk(y_test)"
      ],
      "execution_count": 6,
      "outputs": []
    },
    {
      "cell_type": "code",
      "source": [
        "for i in range(10):\n",
        " print([i], Y_train[i], y_train[i])"
      ],
      "metadata": {
        "colab": {
          "base_uri": "https://localhost:8080/"
        },
        "id": "V9SkMvb9w49Z",
        "outputId": "fc36e30f-d332-4188-bee5-7ee8f48f1940"
      },
      "execution_count": 7,
      "outputs": [
        {
          "output_type": "stream",
          "name": "stdout",
          "text": [
            "[0] [0. 0. 0. 0. 0. 1. 0. 0. 0. 0.] 5\n",
            "[1] [1. 0. 0. 0. 0. 0. 0. 0. 0. 0.] 0\n",
            "[2] [0. 0. 0. 0. 1. 0. 0. 0. 0. 0.] 4\n",
            "[3] [0. 1. 0. 0. 0. 0. 0. 0. 0. 0.] 1\n",
            "[4] [0. 0. 0. 0. 0. 0. 0. 0. 0. 1.] 9\n",
            "[5] [0. 0. 1. 0. 0. 0. 0. 0. 0. 0.] 2\n",
            "[6] [0. 1. 0. 0. 0. 0. 0. 0. 0. 0.] 1\n",
            "[7] [0. 0. 0. 1. 0. 0. 0. 0. 0. 0.] 3\n",
            "[8] [0. 1. 0. 0. 0. 0. 0. 0. 0. 0.] 1\n",
            "[9] [0. 0. 0. 0. 1. 0. 0. 0. 0. 0.] 4\n"
          ]
        }
      ]
    },
    {
      "cell_type": "markdown",
      "source": [
        "\n",
        "*   1 to [0. 1. 0. 0. 0. 0. 0. 0. 0. 0.],\n",
        "*   2 to [0. 0. 1. 0. 0. 0. 0. 0. 0. 0.],\n",
        "*   4 to [0. 0. 0. 0. 1. 0. 0. 0. 0. 0.]\n"
      ],
      "metadata": {
        "id": "5mEEfORjx_SB"
      }
    },
    {
      "cell_type": "code",
      "source": [
        ""
      ],
      "metadata": {
        "id": "QYBss_GezIqN"
      },
      "execution_count": 7,
      "outputs": []
    },
    {
      "cell_type": "markdown",
      "source": [
        ""
      ],
      "metadata": {
        "id": "etslLOPuxzmi"
      }
    },
    {
      "cell_type": "markdown",
      "metadata": {
        "id": "x4s1Inr0BTaY"
      },
      "source": [
        "Pierwsze warstwy naszej sieci będą typu Conv2D. Przyjmują one dane instancji w postaci wielowymiarowych tablic. Nie spłaszczamy zatem danych do postaci wektora - jak musielibyśmy zrobić w przypatku SVM lub MLP. Zrobi to dopiero potem warstwa Flatten naszej sieci.  \n",
        "\n",
        "Przekazujemy sieci instancje w postaci szerokość x wysokość x liczba_kanałów (format 'channels_last', w przypdku formatu 'channels_first' tablica miałaby wymiary liczba_kanałów x szerokość x wysokość).\n",
        "\n",
        "* upewnij się, że działamy w trybie channels_last (keras.backend.image_data_format())\n",
        "* sprawdź jeszcze raz shape danych treningowych i testowych\n",
        "* jeśli brakuje nam ostatniego wymiaru, dodajmy go\n",
        "\n",
        "*np.expand_dims(X_train, -1) powinien nam dodać brakujący wymiar na końcu; opcjonalnie można użyć kodu z ćwiczeń*\n",
        "\n",
        " "
      ]
    },
    {
      "cell_type": "code",
      "source": [
        "from keras import backend as K\n",
        "print(K.image_data_format())\n",
        "print(\"X_train: {}, y_train: {}\", X_train.shape, y_train.shape)\n",
        "print(\"X_test: {}, y_test: {}\", X_test.shape, y_test.shape)"
      ],
      "metadata": {
        "id": "YKvRxllrQIFx",
        "colab": {
          "base_uri": "https://localhost:8080/"
        },
        "outputId": "ad6476e2-3d1c-4dce-837e-d8124ff0af05"
      },
      "execution_count": 8,
      "outputs": [
        {
          "output_type": "stream",
          "name": "stdout",
          "text": [
            "channels_last\n",
            "X_train: {}, y_train: {} (60000, 28, 28) (60000,)\n",
            "X_test: {}, y_test: {} (10000, 28, 28) (10000,)\n"
          ]
        }
      ]
    },
    {
      "cell_type": "markdown",
      "metadata": {
        "id": "C_wFFlj0gNpP"
      },
      "source": [
        "#### Przygotowanie sieci\n",
        "\n",
        "Prawdopodobnie przydadzą nam się poniższe importy. \n",
        "```python\n",
        "from keras.models import Sequential\n",
        "from keras.layers import Dense, Flatten\n",
        "from keras.layers.convolutional import Conv2D, MaxPooling2D\n",
        "```"
      ]
    },
    {
      "cell_type": "code",
      "source": [
        "from keras.models import Sequential\n",
        "from keras.layers import Dense, Flatten\n",
        "from keras.layers.convolutional import Conv2D, MaxPooling2D\n",
        "import tensorflow as tf\n",
        "insh = (28, 28, 1)"
      ],
      "metadata": {
        "id": "JLL64i0Ditf3"
      },
      "execution_count": 9,
      "outputs": []
    },
    {
      "cell_type": "markdown",
      "source": [
        "* Zbuduj sieć z takimi warstwami:\n",
        " * Na wejściu [Conv2D](https://keras.io/api/layers/convolution_layers/convolution2d/): 16 filtrów, kernel 3x3, padding 'same', activation [relu](https://cs-cheatsheet.readthedocs.io/en/latest/_images/activation_functions.png)\n",
        " * [MaxPooling2D](https://keras.io/api/layers/pooling_layers/max_pooling2d/): pool_size 2x2\n",
        " * Conv2D: 32 filtry, kernel 3x3, padding 'same', activation relu\n",
        " * MaxPooling2D: pool_size 2x2\n",
        " * [Flatten](https://keras.io/api/layers/reshaping_layers/flatten/) (spłaszczamy dane do 1-wymiarowego wektora)\n",
        " * Na wyjściu [Dense](https://keras.io/api/layers/core_layers/dense/), units tyle, co klas, [aktywacja softmax](https://qph.fs.quoracdn.net/main-qimg-fda2f008df90ed5d7b6aff89b881e1ac)\n",
        "\n",
        "Pierwsza warstwa będzie oczekiwać podania kształtu danych (input_shape). Czyli szerokość x wysokość x liczba kanałów. "
      ],
      "metadata": {
        "id": "b2rmxjLDVvoZ"
      }
    },
    {
      "cell_type": "code",
      "source": [
        "model = Sequential([\n",
        "  Conv2D(16, kernel_size=(3,3), padding='same',activation='relu', input_shape = insh),\n",
        "  MaxPooling2D(pool_size=(2,2)),\n",
        "  Conv2D(32, kernel_size=(3,3), activation='relu'),\n",
        "  MaxPooling2D(pool_size=(2,2)),\n",
        "  Flatten(),\n",
        "  Dense(10, activation='softmax')\n",
        "])\n",
        "\n",
        "model.compile(loss='categorical_crossentropy', optimizer='adam', metrics=['accuracy'])"
      ],
      "metadata": {
        "id": "dbQRBxQRVu1e"
      },
      "execution_count": 13,
      "outputs": []
    },
    {
      "cell_type": "markdown",
      "source": [
        "* Sprawdź, jak wygląda Twoja sieć  \n",
        "Przyda się metoda model.summary i ewentualnie funkcja keras.utils.vis_utils.plot_model"
      ],
      "metadata": {
        "id": "Wgy6vzB_smoT"
      }
    },
    {
      "cell_type": "code",
      "source": [
        "model.summary()"
      ],
      "metadata": {
        "id": "YMar0OmRtHfk",
        "colab": {
          "base_uri": "https://localhost:8080/"
        },
        "outputId": "00a03c76-bac1-468e-da01-934706f15b62"
      },
      "execution_count": 14,
      "outputs": [
        {
          "output_type": "stream",
          "name": "stdout",
          "text": [
            "Model: \"sequential_1\"\n",
            "_________________________________________________________________\n",
            " Layer (type)                Output Shape              Param #   \n",
            "=================================================================\n",
            " conv2d_2 (Conv2D)           (None, 28, 28, 16)        160       \n",
            "                                                                 \n",
            " max_pooling2d_2 (MaxPooling  (None, 14, 14, 16)       0         \n",
            " 2D)                                                             \n",
            "                                                                 \n",
            " conv2d_3 (Conv2D)           (None, 12, 12, 32)        4640      \n",
            "                                                                 \n",
            " max_pooling2d_3 (MaxPooling  (None, 6, 6, 32)         0         \n",
            " 2D)                                                             \n",
            "                                                                 \n",
            " flatten_1 (Flatten)         (None, 1152)              0         \n",
            "                                                                 \n",
            " dense_1 (Dense)             (None, 10)                11530     \n",
            "                                                                 \n",
            "=================================================================\n",
            "Total params: 16,330\n",
            "Trainable params: 16,330\n",
            "Non-trainable params: 0\n",
            "_________________________________________________________________\n"
          ]
        }
      ]
    },
    {
      "cell_type": "code",
      "source": [
        "import tensorflow as tf\n",
        "tf.keras.utils.plot_model(\n",
        "  model,\n",
        "  to_file='model.png',\n",
        "  show_shapes=False,\n",
        "  show_dtype=False,\n",
        "  show_layer_names=True,\n",
        "  rankdir='TB',\n",
        "  expand_nested=False,\n",
        "  dpi=96,\n",
        "  layer_range=None,\n",
        "  show_layer_activations=False\n",
        ")\n"
      ],
      "metadata": {
        "colab": {
          "base_uri": "https://localhost:8080/",
          "height": 661
        },
        "id": "Bz6L7hHT2IJy",
        "outputId": "e7d9a96f-9edc-4e60-c1bf-b9dadd9b635e"
      },
      "execution_count": 15,
      "outputs": [
        {
          "output_type": "execute_result",
          "data": {
            "text/plain": [
              "<IPython.core.display.Image object>"
            ],
            "image/png": "[encoded data removed]"
          },
          "metadata": {},
          "execution_count": 15
        }
      ]
    },
    {
      "cell_type": "markdown",
      "source": [
        "* Spróbuj usunąć argument padding i napisz, co się zmieniło. \n",
        "* Przywróć padding. "
      ],
      "metadata": {
        "id": "R8jgVpESuO2U"
      }
    },
    {
      "cell_type": "code",
      "source": [
        "model = Sequential([\n",
        "  Conv2D(16, kernel_size=(3,3), activation='relu', input_shape=insh),\n",
        "  MaxPooling2D(pool_size=(2,2)),\n",
        "  Conv2D(32, kernel_size=(3,3), activation='relu'),\n",
        "  MaxPooling2D(pool_size=(2,2)),\n",
        "  Flatten(),\n",
        "  Dense(10, activation='softmax')\n",
        "])\n",
        "\n",
        "model.compile(loss='categorical_crossentropy', optimizer='adam', metrics=['accuracy'])"
      ],
      "metadata": {
        "id": "Aex_PHkQ4n3j"
      },
      "execution_count": 16,
      "outputs": []
    },
    {
      "cell_type": "code",
      "source": [
        "model.summary()"
      ],
      "metadata": {
        "colab": {
          "base_uri": "https://localhost:8080/"
        },
        "id": "Sxq1iDca4tv5",
        "outputId": "60494709-7ebd-4de8-e2b9-37af1703580b"
      },
      "execution_count": null,
      "outputs": [
        {
          "output_type": "stream",
          "name": "stdout",
          "text": [
            "Model: \"sequential_3\"\n",
            "_________________________________________________________________\n",
            " Layer (type)                Output Shape              Param #   \n",
            "=================================================================\n",
            " conv2d_6 (Conv2D)           (None, 26, 26, 16)        160       \n",
            "                                                                 \n",
            " max_pooling2d_6 (MaxPooling  (None, 13, 13, 16)       0         \n",
            " 2D)                                                             \n",
            "                                                                 \n",
            " conv2d_7 (Conv2D)           (None, 11, 11, 32)        4640      \n",
            "                                                                 \n",
            " max_pooling2d_7 (MaxPooling  (None, 5, 5, 32)         0         \n",
            " 2D)                                                             \n",
            "                                                                 \n",
            " flatten_3 (Flatten)         (None, 800)               0         \n",
            "                                                                 \n",
            " dense_3 (Dense)             (None, 10)                8010      \n",
            "                                                                 \n",
            "=================================================================\n",
            "Total params: 12,810\n",
            "Trainable params: 12,810\n",
            "Non-trainable params: 0\n",
            "_________________________________________________________________\n"
          ]
        }
      ]
    },
    {
      "cell_type": "code",
      "source": [
        "import tensorflow as tf\n",
        "tf.keras.utils.plot_model(\n",
        "  model,\n",
        "  to_file='model.png',\n",
        "  show_shapes=False,\n",
        "  show_dtype=False,\n",
        "  show_layer_names=True,\n",
        "  rankdir='TB',\n",
        "  expand_nested=False,\n",
        "  dpi=96,\n",
        "  layer_range=None,\n",
        "  show_layer_activations=False\n",
        ")\n"
      ],
      "metadata": {
        "colab": {
          "base_uri": "https://localhost:8080/",
          "height": 661
        },
        "id": "oq2BmivZ4uQD",
        "outputId": "bf8fdb6a-19de-401e-b147-ce1a0a364a24"
      },
      "execution_count": 17,
      "outputs": [
        {
          "output_type": "execute_result",
          "data": {
            "text/plain": [
              "<IPython.core.display.Image object>"
            ],
            "image/png": "[encoded data removed]"
          },
          "metadata": {},
          "execution_count": 17
        }
      ]
    },
    {
      "cell_type": "markdown",
      "source": [
        "Po usunięciu argumentu padding mamy mnie parametrów sieci"
      ],
      "metadata": {
        "id": "JYA9ew9D6WEY"
      }
    },
    {
      "cell_type": "code",
      "source": [
        "model = Sequential([\n",
        "  Conv2D(16, kernel_size=(3,3), padding='same',activation='relu', input_shape = insh),\n",
        "  MaxPooling2D(pool_size=(2,2)),\n",
        "  Conv2D(32, kernel_size=(3,3), activation='relu'),\n",
        "  MaxPooling2D(pool_size=(2,2)),\n",
        "  Flatten(),\n",
        "  Dense(10, activation='softmax')\n",
        "])\n",
        "\n",
        "model.compile(loss='categorical_crossentropy', optimizer='adam', metrics=['accuracy'])"
      ],
      "metadata": {
        "id": "0VoldI7s6rHN"
      },
      "execution_count": 18,
      "outputs": []
    },
    {
      "cell_type": "markdown",
      "source": [
        ""
      ],
      "metadata": {
        "id": "3GZgwr6b6w0T"
      }
    },
    {
      "cell_type": "markdown",
      "source": [
        "Odpowiedz na poniższe pytania: \n",
        "* Czy warstwa Conv2D się uczy w trakcie treningu?: \n",
        "* Czy warstwa MaxPooling2D się uczy w trakcie treningu?:\n",
        "* Dlaczego przed warstwą / warstwami Dense umieszczamy warstwę Flatten?:\n",
        "* Ile będziemy mieć kanałów / map aktywacji po przepuszczeniu obrazka przez pierwszą warstwę Conv2D naszej sieci?:\n"
      ],
      "metadata": {
        "id": "WQtBGHl-FYKj"
      }
    },
    {
      "cell_type": "markdown",
      "metadata": {
        "id": "m4w8gGsElbVG"
      },
      "source": [
        "Teraz:\n",
        "* Uruchom metodę compile: loss 'categorical_crossentropy', optimizer 'adam'. Argument metrics przyjmuje tablicę stringów, możemy tam np. śledzić 'accuracy'. "
      ]
    },
    {
      "cell_type": "code",
      "metadata": {
        "id": "3ki1a29Zl65r"
      },
      "source": [
        "model.compile(\n",
        "  optimizer='adam',\n",
        "  loss='categorical_crossentropy',\n",
        "  metrics=['accuracy'],\n",
        ")"
      ],
      "execution_count": 19,
      "outputs": []
    },
    {
      "cell_type": "code",
      "source": [
        "from matplotlib import pyplot\n",
        "from google.colab import drive\n",
        "drive.mount('/content/drive/')"
      ],
      "metadata": {
        "colab": {
          "base_uri": "https://localhost:8080/"
        },
        "id": "UlLWcmhLCETK",
        "outputId": "c9dda63d-80e4-4df1-913a-9e6ab1bb1264"
      },
      "execution_count": 20,
      "outputs": [
        {
          "output_type": "stream",
          "name": "stdout",
          "text": [
            "Mounted at /content/drive/\n"
          ]
        }
      ]
    },
    {
      "cell_type": "code",
      "source": [
        "def summarize_diagnostics(history):\n",
        "  pyplot.title('Dokładność klasyfikacji')\n",
        "  pyplot.plot(history.history['accuracy'], color='orange', label='train')\n",
        "  pyplot.subplots_adjust (right=2)\n",
        "  pyplot.show()"
      ],
      "metadata": {
        "id": "aoHLXixSCK4-"
      },
      "execution_count": 21,
      "outputs": []
    },
    {
      "cell_type": "markdown",
      "metadata": {
        "id": "7DEM-xKbmFNO"
      },
      "source": [
        "#### Trening\n",
        "* Wytrenuj sieć. 100 epok, batch_size 256."
      ]
    },
    {
      "cell_type": "code",
      "metadata": {
        "id": "m1DvkEW2JOA5",
        "colab": {
          "base_uri": "https://localhost:8080/",
          "height": 1000
        },
        "outputId": "6bb8767d-6012-4d78-9f2a-68a2eea53dce"
      },
      "source": [
        "history = model.fit(\n",
        "    x=X_train,\n",
        "    y=Y_train,\n",
        "    batch_size=256,\n",
        "    epochs=100,\n",
        "    verbose=\"auto\",\n",
        "    callbacks=None,\n",
        "    validation_split=0.0,\n",
        "    )\n",
        "summarize_diagnostics(history)\n",
        "\n"
      ],
      "execution_count": 22,
      "outputs": [
        {
          "output_type": "stream",
          "name": "stdout",
          "text": [
            "Epoch 1/100\n",
            "235/235 [==============================] - 12s 6ms/step - loss: 0.4888 - accuracy: 0.8643\n",
            "Epoch 2/100\n",
            "235/235 [==============================] - 1s 5ms/step - loss: 0.1117 - accuracy: 0.9675\n",
            "Epoch 3/100\n",
            "235/235 [==============================] - 1s 5ms/step - loss: 0.0777 - accuracy: 0.9768\n",
            "Epoch 4/100\n",
            "235/235 [==============================] - 1s 5ms/step - loss: 0.0630 - accuracy: 0.9811\n",
            "Epoch 5/100\n",
            "235/235 [==============================] - 1s 5ms/step - loss: 0.0548 - accuracy: 0.9833\n",
            "Epoch 6/100\n",
            "235/235 [==============================] - 1s 5ms/step - loss: 0.0488 - accuracy: 0.9851\n",
            "Epoch 7/100\n",
            "235/235 [==============================] - 1s 5ms/step - loss: 0.0447 - accuracy: 0.9863\n",
            "Epoch 8/100\n",
            "235/235 [==============================] - 1s 5ms/step - loss: 0.0397 - accuracy: 0.9880\n",
            "Epoch 9/100\n",
            "235/235 [==============================] - 1s 5ms/step - loss: 0.0380 - accuracy: 0.9886\n",
            "Epoch 10/100\n",
            "235/235 [==============================] - 1s 5ms/step - loss: 0.0338 - accuracy: 0.9900\n",
            "Epoch 11/100\n",
            "235/235 [==============================] - 1s 5ms/step - loss: 0.0319 - accuracy: 0.9901\n",
            "Epoch 12/100\n",
            "235/235 [==============================] - 1s 5ms/step - loss: 0.0310 - accuracy: 0.9905\n",
            "Epoch 13/100\n",
            "235/235 [==============================] - 1s 5ms/step - loss: 0.0281 - accuracy: 0.9915\n",
            "Epoch 14/100\n",
            "235/235 [==============================] - 1s 5ms/step - loss: 0.0261 - accuracy: 0.9917\n",
            "Epoch 15/100\n",
            "235/235 [==============================] - 1s 5ms/step - loss: 0.0245 - accuracy: 0.9922\n",
            "Epoch 16/100\n",
            "235/235 [==============================] - 1s 5ms/step - loss: 0.0224 - accuracy: 0.9931\n",
            "Epoch 17/100\n",
            "235/235 [==============================] - 1s 5ms/step - loss: 0.0214 - accuracy: 0.9933\n",
            "Epoch 18/100\n",
            "235/235 [==============================] - 1s 5ms/step - loss: 0.0199 - accuracy: 0.9938\n",
            "Epoch 19/100\n",
            "235/235 [==============================] - 1s 5ms/step - loss: 0.0172 - accuracy: 0.9952\n",
            "Epoch 20/100\n",
            "235/235 [==============================] - 1s 5ms/step - loss: 0.0170 - accuracy: 0.9948\n",
            "Epoch 21/100\n",
            "235/235 [==============================] - 1s 5ms/step - loss: 0.0161 - accuracy: 0.9953\n",
            "Epoch 22/100\n",
            "235/235 [==============================] - 1s 5ms/step - loss: 0.0148 - accuracy: 0.9959\n",
            "Epoch 23/100\n",
            "235/235 [==============================] - 1s 5ms/step - loss: 0.0134 - accuracy: 0.9961\n",
            "Epoch 24/100\n",
            "235/235 [==============================] - 1s 5ms/step - loss: 0.0134 - accuracy: 0.9960\n",
            "Epoch 25/100\n",
            "235/235 [==============================] - 1s 5ms/step - loss: 0.0127 - accuracy: 0.9962\n",
            "Epoch 26/100\n",
            "235/235 [==============================] - 1s 5ms/step - loss: 0.0129 - accuracy: 0.9959\n",
            "Epoch 27/100\n",
            "235/235 [==============================] - 1s 5ms/step - loss: 0.0107 - accuracy: 0.9971\n",
            "Epoch 28/100\n",
            "235/235 [==============================] - 1s 5ms/step - loss: 0.0100 - accuracy: 0.9972\n",
            "Epoch 29/100\n",
            "235/235 [==============================] - 1s 5ms/step - loss: 0.0104 - accuracy: 0.9966\n",
            "Epoch 30/100\n",
            "235/235 [==============================] - 1s 5ms/step - loss: 0.0090 - accuracy: 0.9973\n",
            "Epoch 31/100\n",
            "235/235 [==============================] - 1s 5ms/step - loss: 0.0072 - accuracy: 0.9980\n",
            "Epoch 32/100\n",
            "235/235 [==============================] - 1s 5ms/step - loss: 0.0070 - accuracy: 0.9980\n",
            "Epoch 33/100\n",
            "235/235 [==============================] - 1s 5ms/step - loss: 0.0076 - accuracy: 0.9978\n",
            "Epoch 34/100\n",
            "235/235 [==============================] - 1s 5ms/step - loss: 0.0065 - accuracy: 0.9980\n",
            "Epoch 35/100\n",
            "235/235 [==============================] - 1s 5ms/step - loss: 0.0060 - accuracy: 0.9984\n",
            "Epoch 36/100\n",
            "235/235 [==============================] - 1s 5ms/step - loss: 0.0055 - accuracy: 0.9984\n",
            "Epoch 37/100\n",
            "235/235 [==============================] - 1s 5ms/step - loss: 0.0058 - accuracy: 0.9982\n",
            "Epoch 38/100\n",
            "235/235 [==============================] - 1s 5ms/step - loss: 0.0050 - accuracy: 0.9986\n",
            "Epoch 39/100\n",
            "235/235 [==============================] - 1s 5ms/step - loss: 0.0053 - accuracy: 0.9984\n",
            "Epoch 40/100\n",
            "235/235 [==============================] - 1s 5ms/step - loss: 0.0042 - accuracy: 0.9988\n",
            "Epoch 41/100\n",
            "235/235 [==============================] - 1s 5ms/step - loss: 0.0037 - accuracy: 0.9989\n",
            "Epoch 42/100\n",
            "235/235 [==============================] - 1s 5ms/step - loss: 0.0031 - accuracy: 0.9992\n",
            "Epoch 43/100\n",
            "235/235 [==============================] - 1s 5ms/step - loss: 0.0027 - accuracy: 0.9995\n",
            "Epoch 44/100\n",
            "235/235 [==============================] - 1s 5ms/step - loss: 0.0033 - accuracy: 0.9991\n",
            "Epoch 45/100\n",
            "235/235 [==============================] - 1s 5ms/step - loss: 0.0045 - accuracy: 0.9986\n",
            "Epoch 46/100\n",
            "235/235 [==============================] - 1s 5ms/step - loss: 0.0059 - accuracy: 0.9980\n",
            "Epoch 47/100\n",
            "235/235 [==============================] - 1s 5ms/step - loss: 0.0031 - accuracy: 0.9991\n",
            "Epoch 48/100\n",
            "235/235 [==============================] - 1s 5ms/step - loss: 0.0019 - accuracy: 0.9995\n",
            "Epoch 49/100\n",
            "235/235 [==============================] - 1s 5ms/step - loss: 0.0015 - accuracy: 0.9997\n",
            "Epoch 50/100\n",
            "235/235 [==============================] - 1s 5ms/step - loss: 0.0017 - accuracy: 0.9996\n",
            "Epoch 51/100\n",
            "235/235 [==============================] - 1s 5ms/step - loss: 9.5312e-04 - accuracy: 0.9999\n",
            "Epoch 52/100\n",
            "235/235 [==============================] - 1s 5ms/step - loss: 9.9373e-04 - accuracy: 0.9998\n",
            "Epoch 53/100\n",
            "235/235 [==============================] - 1s 5ms/step - loss: 0.0081 - accuracy: 0.9971\n",
            "Epoch 54/100\n",
            "235/235 [==============================] - 1s 5ms/step - loss: 0.0054 - accuracy: 0.9982\n",
            "Epoch 55/100\n",
            "235/235 [==============================] - 1s 5ms/step - loss: 0.0028 - accuracy: 0.9993\n",
            "Epoch 56/100\n",
            "235/235 [==============================] - 1s 5ms/step - loss: 0.0011 - accuracy: 0.9998\n",
            "Epoch 57/100\n",
            "235/235 [==============================] - 1s 5ms/step - loss: 7.6254e-04 - accuracy: 0.9999\n",
            "Epoch 58/100\n",
            "235/235 [==============================] - 1s 5ms/step - loss: 3.9426e-04 - accuracy: 1.0000\n",
            "Epoch 59/100\n",
            "235/235 [==============================] - 1s 5ms/step - loss: 4.3814e-04 - accuracy: 1.0000\n",
            "Epoch 60/100\n",
            "235/235 [==============================] - 1s 5ms/step - loss: 3.3629e-04 - accuracy: 1.0000\n",
            "Epoch 61/100\n",
            "235/235 [==============================] - 1s 5ms/step - loss: 0.0013 - accuracy: 0.9997\n",
            "Epoch 62/100\n",
            "235/235 [==============================] - 1s 5ms/step - loss: 0.0104 - accuracy: 0.9965\n",
            "Epoch 63/100\n",
            "235/235 [==============================] - 1s 5ms/step - loss: 0.0042 - accuracy: 0.9986\n",
            "Epoch 64/100\n",
            "235/235 [==============================] - 1s 5ms/step - loss: 0.0017 - accuracy: 0.9995\n",
            "Epoch 65/100\n",
            "235/235 [==============================] - 1s 5ms/step - loss: 7.1808e-04 - accuracy: 0.9999\n",
            "Epoch 66/100\n",
            "235/235 [==============================] - 1s 5ms/step - loss: 4.3908e-04 - accuracy: 1.0000\n",
            "Epoch 67/100\n",
            "235/235 [==============================] - 1s 5ms/step - loss: 3.0016e-04 - accuracy: 1.0000\n",
            "Epoch 68/100\n",
            "235/235 [==============================] - 1s 5ms/step - loss: 1.8574e-04 - accuracy: 1.0000\n",
            "Epoch 69/100\n",
            "235/235 [==============================] - 1s 5ms/step - loss: 1.6253e-04 - accuracy: 1.0000\n",
            "Epoch 70/100\n",
            "235/235 [==============================] - 1s 5ms/step - loss: 1.6652e-04 - accuracy: 1.0000\n",
            "Epoch 71/100\n",
            "235/235 [==============================] - 1s 5ms/step - loss: 1.2933e-04 - accuracy: 1.0000\n",
            "Epoch 72/100\n",
            "235/235 [==============================] - 1s 5ms/step - loss: 1.2288e-04 - accuracy: 1.0000\n",
            "Epoch 73/100\n",
            "235/235 [==============================] - 1s 5ms/step - loss: 1.1018e-04 - accuracy: 1.0000\n",
            "Epoch 74/100\n",
            "235/235 [==============================] - 1s 5ms/step - loss: 9.8771e-05 - accuracy: 1.0000\n",
            "Epoch 75/100\n",
            "235/235 [==============================] - 1s 5ms/step - loss: 1.0052e-04 - accuracy: 1.0000\n",
            "Epoch 76/100\n",
            "235/235 [==============================] - 1s 5ms/step - loss: 9.2628e-05 - accuracy: 1.0000\n",
            "Epoch 77/100\n",
            "235/235 [==============================] - 1s 5ms/step - loss: 8.0300e-05 - accuracy: 1.0000\n",
            "Epoch 78/100\n",
            "235/235 [==============================] - 1s 5ms/step - loss: 0.0097 - accuracy: 0.9975\n",
            "Epoch 79/100\n",
            "235/235 [==============================] - 1s 5ms/step - loss: 0.0101 - accuracy: 0.9963\n",
            "Epoch 80/100\n",
            "235/235 [==============================] - 1s 5ms/step - loss: 0.0022 - accuracy: 0.9994\n",
            "Epoch 81/100\n",
            "235/235 [==============================] - 1s 5ms/step - loss: 7.3921e-04 - accuracy: 0.9998\n",
            "Epoch 82/100\n",
            "235/235 [==============================] - 1s 5ms/step - loss: 2.4334e-04 - accuracy: 1.0000\n",
            "Epoch 83/100\n",
            "235/235 [==============================] - 1s 5ms/step - loss: 1.8156e-04 - accuracy: 1.0000\n",
            "Epoch 84/100\n",
            "235/235 [==============================] - 1s 5ms/step - loss: 1.4811e-04 - accuracy: 1.0000\n",
            "Epoch 85/100\n",
            "235/235 [==============================] - 1s 5ms/step - loss: 1.2602e-04 - accuracy: 1.0000\n",
            "Epoch 86/100\n",
            "235/235 [==============================] - 1s 5ms/step - loss: 1.1153e-04 - accuracy: 1.0000\n",
            "Epoch 87/100\n",
            "235/235 [==============================] - 1s 5ms/step - loss: 9.8983e-05 - accuracy: 1.0000\n",
            "Epoch 88/100\n",
            "235/235 [==============================] - 1s 5ms/step - loss: 9.0008e-05 - accuracy: 1.0000\n",
            "Epoch 89/100\n",
            "235/235 [==============================] - 1s 5ms/step - loss: 8.3443e-05 - accuracy: 1.0000\n",
            "Epoch 90/100\n",
            "235/235 [==============================] - 1s 5ms/step - loss: 7.3637e-05 - accuracy: 1.0000\n",
            "Epoch 91/100\n",
            "235/235 [==============================] - 1s 5ms/step - loss: 6.5178e-05 - accuracy: 1.0000\n",
            "Epoch 92/100\n",
            "235/235 [==============================] - 1s 5ms/step - loss: 6.2118e-05 - accuracy: 1.0000\n",
            "Epoch 93/100\n",
            "235/235 [==============================] - 1s 5ms/step - loss: 7.7933e-05 - accuracy: 1.0000\n",
            "Epoch 94/100\n",
            "235/235 [==============================] - 1s 5ms/step - loss: 0.0134 - accuracy: 0.9962\n",
            "Epoch 95/100\n",
            "235/235 [==============================] - 1s 5ms/step - loss: 0.0029 - accuracy: 0.9991\n",
            "Epoch 96/100\n",
            "235/235 [==============================] - 1s 5ms/step - loss: 0.0012 - accuracy: 0.9996\n",
            "Epoch 97/100\n",
            "235/235 [==============================] - 1s 5ms/step - loss: 5.5534e-04 - accuracy: 0.9999\n",
            "Epoch 98/100\n",
            "235/235 [==============================] - 1s 5ms/step - loss: 1.8344e-04 - accuracy: 1.0000\n",
            "Epoch 99/100\n",
            "235/235 [==============================] - 1s 5ms/step - loss: 1.1385e-04 - accuracy: 1.0000\n",
            "Epoch 100/100\n",
            "235/235 [==============================] - 1s 5ms/step - loss: 9.6099e-05 - accuracy: 1.0000\n"
          ]
        },
        {
          "output_type": "display_data",
          "data": {
            "text/plain": [
              "<Figure size 432x288 with 1 Axes>"
            ],
            "image/png": "[encoded data removed]"
          },
          "metadata": {
            "needs_background": "light"
          }
        }
      ]
    },
    {
      "cell_type": "markdown",
      "metadata": {
        "id": "fgxalzmim4Hl"
      },
      "source": [
        "#### Ewaluacja\n",
        "* Zrób ewaluację naszego modelu na zbiorze treningowym i testowym (metoda evaluate). \n",
        "* Podaj wyniki dla obu zbiorów: \n",
        "* Czy wyniki się różnią? Dlaczego? "
      ]
    },
    {
      "cell_type": "code",
      "metadata": {
        "id": "HDCHLqc4m4qX",
        "colab": {
          "base_uri": "https://localhost:8080/"
        },
        "outputId": "a6ac91d9-8605-4a40-c43a-a03261adf55f"
      },
      "source": [
        "#model.evaluate(X_train, Y_train)\n",
        "#model.evaluate(X_test, Y_test)\n",
        "train_accuracy = model.evaluate(X_train, Y_train)\n",
        "test_accuracy = model.evaluate(X_test, Y_test)\n",
        "print('Dokładności klasyfikacji na materiale treningowym  = ',train_accuracy)\n",
        "print('dokładności klasyfikacji na materiale testowym  = ',test_accuracy)"
      ],
      "execution_count": 23,
      "outputs": [
        {
          "output_type": "stream",
          "name": "stdout",
          "text": [
            "1875/1875 [==============================] - 4s 2ms/step - loss: 8.0990e-05 - accuracy: 1.0000\n",
            "313/313 [==============================] - 1s 3ms/step - loss: 0.0673 - accuracy: 0.9898\n",
            "Dokładności klasyfikacji na materiale treningowym  =  [8.099036494968459e-05, 1.0]\n",
            "dokładności klasyfikacji na materiale testowym  =  [0.06729859858751297, 0.989799976348877]\n"
          ]
        }
      ]
    },
    {
      "cell_type": "markdown",
      "source": [
        "## FASHION MNIST \n",
        "Teraz powtórzymy eksperyment na innym, ale bardzo podobnym zbiorze danych. "
      ],
      "metadata": {
        "id": "KpYN73AvzHP-"
      }
    },
    {
      "cell_type": "markdown",
      "source": [
        "### Wczytanie i przygotowanie danych\n",
        "* Wczytaj zbiór fashion_mnist analogicznie do mnist'a\n",
        "* Przygotuj dane treningowe/testowe oraz etykiety analogicznie do mnista'a"
      ],
      "metadata": {
        "id": "ARZBHpQzzScV"
      }
    },
    {
      "cell_type": "code",
      "source": [
        "from keras.datasets import fashion_mnist as dataset\n",
        "import numpy as np\n",
        "(X_train, y_train), (X_test, y_test) = dataset.load_data()\n",
        "print(\"X_train: {}, y_train: {}\", X_train.shape, y_train.shape)\n",
        "print(\"X_test: {}, y_test: {}\", X_test.shape, y_test.shape)"
      ],
      "metadata": {
        "id": "rGXwp8ISzXUX",
        "colab": {
          "base_uri": "https://localhost:8080/"
        },
        "outputId": "8beb9420-b6ab-4edf-ca36-3f097966c3b2"
      },
      "execution_count": 24,
      "outputs": [
        {
          "output_type": "stream",
          "name": "stdout",
          "text": [
            "Downloading data from https://storage.googleapis.com/tensorflow/tf-keras-datasets/train-labels-idx1-ubyte.gz\n",
            "32768/29515 [=================================] - 0s 0us/step\n",
            "40960/29515 [=========================================] - 0s 0us/step\n",
            "Downloading data from https://storage.googleapis.com/tensorflow/tf-keras-datasets/train-images-idx3-ubyte.gz\n",
            "26427392/26421880 [==============================] - 0s 0us/step\n",
            "26435584/26421880 [==============================] - 0s 0us/step\n",
            "Downloading data from https://storage.googleapis.com/tensorflow/tf-keras-datasets/t10k-labels-idx1-ubyte.gz\n",
            "16384/5148 [===============================================================================================] - 0s 0us/step\n",
            "Downloading data from https://storage.googleapis.com/tensorflow/tf-keras-datasets/t10k-images-idx3-ubyte.gz\n",
            "4423680/4422102 [==============================] - 0s 0us/step\n",
            "4431872/4422102 [==============================] - 0s 0us/step\n",
            "X_train: {}, y_train: {} (60000, 28, 28) (60000,)\n",
            "X_test: {}, y_test: {} (10000, 28, 28) (10000,)\n"
          ]
        }
      ]
    },
    {
      "cell_type": "markdown",
      "metadata": {
        "id": "dUYwh9zjrp6-"
      },
      "source": [
        "* Wyświetl 12 pierwszych instancji treningowych"
      ]
    },
    {
      "cell_type": "code",
      "metadata": {
        "id": "dvck7YSXpUbk",
        "colab": {
          "base_uri": "https://localhost:8080/",
          "height": 281
        },
        "outputId": "b65be330-b3b1-4831-b342-fb99df9d4617"
      },
      "source": [
        "# Rysowanie 12 elementów - etykiety na górze\n",
        "import matplotlib.pyplot as plt\n",
        "plt.imshow(X_train[0], cmap='gray')\n",
        "for i in range(12):\n",
        "  plt.subplot(3, 4, i+1)\n",
        "  plt.imshow(X_train[i], cmap='inferno')\n",
        "  plt.title(y_train[i])\n",
        "plt.show()"
      ],
      "execution_count": 25,
      "outputs": [
        {
          "output_type": "display_data",
          "data": {
            "text/plain": [
              "<Figure size 432x288 with 12 Axes>"
            ],
            "image/png": "[encoded data removed]"
          },
          "metadata": {
            "needs_background": "light"
          }
        }
      ]
    },
    {
      "cell_type": "markdown",
      "metadata": {
        "id": "3psthgTBsqq5"
      },
      "source": [
        "* Przygotuj dane i etykiety do treningu (tak samo jak w mnist)"
      ]
    },
    {
      "cell_type": "code",
      "metadata": {
        "id": "PRCzkluipzN9"
      },
      "source": [
        "X_train = X_train / 255\n",
        "X_test = X_test / 255\n",
        "X_train = X_train.astype('float32')\n",
        "X_test = X_test.astype('float32')\n",
        "from keras.utils.np_utils import to_categorical as tk\n",
        "Y_train = tk(y_train)\n",
        "Y_test =tk(y_test)"
      ],
      "execution_count": 26,
      "outputs": []
    },
    {
      "cell_type": "markdown",
      "source": [
        "### Przygotowanie sieci i trening"
      ],
      "metadata": {
        "id": "iLeo5SeS9IcG"
      }
    },
    {
      "cell_type": "markdown",
      "source": [
        "* Stwórz identyczną sieć jak przy mnist i przeprowadź trening. "
      ],
      "metadata": {
        "id": "Rk9UYbxy7HS4"
      }
    },
    {
      "cell_type": "code",
      "source": [
        "model = Sequential([\n",
        "  Conv2D(16, kernel_size=(3,3), padding='same',activation='relu', input_shape = insh),\n",
        "  MaxPooling2D(pool_size=(2,2)),\n",
        "  Conv2D(32, kernel_size=(3,3), activation='relu'),\n",
        "  MaxPooling2D(pool_size=(2,2)),\n",
        "  Flatten(),\n",
        "  Dense(10, activation='softmax')\n",
        "])\n",
        "\n",
        "model.compile(loss='categorical_crossentropy', optimizer='adam', metrics=['accuracy'])"
      ],
      "metadata": {
        "id": "NiaOEpty8cmq"
      },
      "execution_count": 27,
      "outputs": []
    },
    {
      "cell_type": "code",
      "source": [
        "model.compile(\n",
        "  optimizer='adam',\n",
        "  loss='categorical_crossentropy',\n",
        "  metrics=['accuracy'],\n",
        ")"
      ],
      "metadata": {
        "id": "wY4iSXyp8WUc"
      },
      "execution_count": 28,
      "outputs": []
    },
    {
      "cell_type": "code",
      "source": [
        "history2 = model.fit(\n",
        "    x=X_train,\n",
        "    y=Y_train,\n",
        "    batch_size=256,\n",
        "    epochs=100,\n",
        "    verbose=\"auto\",\n",
        "    callbacks=None,\n",
        "    validation_split=0.0,\n",
        "    )\n",
        "summarize_diagnostics(history2)"
      ],
      "metadata": {
        "colab": {
          "base_uri": "https://localhost:8080/",
          "height": 1000
        },
        "id": "AhWaq0k58XKY",
        "outputId": "a2d42ab1-34db-4c5a-f542-a81bea5bbfe1"
      },
      "execution_count": 29,
      "outputs": [
        {
          "output_type": "stream",
          "name": "stdout",
          "text": [
            "Epoch 1/100\n",
            "235/235 [==============================] - 2s 5ms/step - loss: 0.7457 - accuracy: 0.7410\n",
            "Epoch 2/100\n",
            "235/235 [==============================] - 1s 5ms/step - loss: 0.4244 - accuracy: 0.8499\n",
            "Epoch 3/100\n",
            "235/235 [==============================] - 1s 5ms/step - loss: 0.3721 - accuracy: 0.8691\n",
            "Epoch 4/100\n",
            "235/235 [==============================] - 1s 5ms/step - loss: 0.3454 - accuracy: 0.8781\n",
            "Epoch 5/100\n",
            "235/235 [==============================] - 1s 5ms/step - loss: 0.3288 - accuracy: 0.8830\n",
            "Epoch 6/100\n",
            "235/235 [==============================] - 1s 5ms/step - loss: 0.3118 - accuracy: 0.8898\n",
            "Epoch 7/100\n",
            "235/235 [==============================] - 1s 5ms/step - loss: 0.3029 - accuracy: 0.8930\n",
            "Epoch 8/100\n",
            "235/235 [==============================] - 1s 5ms/step - loss: 0.2926 - accuracy: 0.8960\n",
            "Epoch 9/100\n",
            "235/235 [==============================] - 1s 5ms/step - loss: 0.2808 - accuracy: 0.9004\n",
            "Epoch 10/100\n",
            "235/235 [==============================] - 1s 5ms/step - loss: 0.2729 - accuracy: 0.9033\n",
            "Epoch 11/100\n",
            "235/235 [==============================] - 1s 5ms/step - loss: 0.2656 - accuracy: 0.9059\n",
            "Epoch 12/100\n",
            "235/235 [==============================] - 1s 5ms/step - loss: 0.2581 - accuracy: 0.9073\n",
            "Epoch 13/100\n",
            "235/235 [==============================] - 1s 5ms/step - loss: 0.2524 - accuracy: 0.9101\n",
            "Epoch 14/100\n",
            "235/235 [==============================] - 1s 5ms/step - loss: 0.2474 - accuracy: 0.9117\n",
            "Epoch 15/100\n",
            "235/235 [==============================] - 1s 5ms/step - loss: 0.2430 - accuracy: 0.9131\n",
            "Epoch 16/100\n",
            "235/235 [==============================] - 1s 5ms/step - loss: 0.2373 - accuracy: 0.9141\n",
            "Epoch 17/100\n",
            "235/235 [==============================] - 1s 5ms/step - loss: 0.2319 - accuracy: 0.9171\n",
            "Epoch 18/100\n",
            "235/235 [==============================] - 1s 5ms/step - loss: 0.2293 - accuracy: 0.9178\n",
            "Epoch 19/100\n",
            "235/235 [==============================] - 1s 5ms/step - loss: 0.2245 - accuracy: 0.9194\n",
            "Epoch 20/100\n",
            "235/235 [==============================] - 1s 5ms/step - loss: 0.2205 - accuracy: 0.9208\n",
            "Epoch 21/100\n",
            "235/235 [==============================] - 1s 5ms/step - loss: 0.2163 - accuracy: 0.9226\n",
            "Epoch 22/100\n",
            "235/235 [==============================] - 1s 5ms/step - loss: 0.2161 - accuracy: 0.9218\n",
            "Epoch 23/100\n",
            "235/235 [==============================] - 1s 5ms/step - loss: 0.2103 - accuracy: 0.9244\n",
            "Epoch 24/100\n",
            "235/235 [==============================] - 1s 5ms/step - loss: 0.2077 - accuracy: 0.9254\n",
            "Epoch 25/100\n",
            "235/235 [==============================] - 1s 5ms/step - loss: 0.2049 - accuracy: 0.9267\n",
            "Epoch 26/100\n",
            "235/235 [==============================] - 1s 5ms/step - loss: 0.2018 - accuracy: 0.9269\n",
            "Epoch 27/100\n",
            "235/235 [==============================] - 1s 5ms/step - loss: 0.1992 - accuracy: 0.9278\n",
            "Epoch 28/100\n",
            "235/235 [==============================] - 1s 5ms/step - loss: 0.1950 - accuracy: 0.9292\n",
            "Epoch 29/100\n",
            "235/235 [==============================] - 1s 5ms/step - loss: 0.1923 - accuracy: 0.9305\n",
            "Epoch 30/100\n",
            "235/235 [==============================] - 1s 5ms/step - loss: 0.1889 - accuracy: 0.9319\n",
            "Epoch 31/100\n",
            "235/235 [==============================] - 1s 5ms/step - loss: 0.1883 - accuracy: 0.9322\n",
            "Epoch 32/100\n",
            "235/235 [==============================] - 1s 5ms/step - loss: 0.1832 - accuracy: 0.9337\n",
            "Epoch 33/100\n",
            "235/235 [==============================] - 1s 5ms/step - loss: 0.1828 - accuracy: 0.9337\n",
            "Epoch 34/100\n",
            "235/235 [==============================] - 1s 5ms/step - loss: 0.1803 - accuracy: 0.9348\n",
            "Epoch 35/100\n",
            "235/235 [==============================] - 1s 5ms/step - loss: 0.1779 - accuracy: 0.9357\n",
            "Epoch 36/100\n",
            "235/235 [==============================] - 1s 5ms/step - loss: 0.1748 - accuracy: 0.9366\n",
            "Epoch 37/100\n",
            "235/235 [==============================] - 1s 5ms/step - loss: 0.1731 - accuracy: 0.9372\n",
            "Epoch 38/100\n",
            "235/235 [==============================] - 1s 5ms/step - loss: 0.1724 - accuracy: 0.9378\n",
            "Epoch 39/100\n",
            "235/235 [==============================] - 1s 5ms/step - loss: 0.1692 - accuracy: 0.9390\n",
            "Epoch 40/100\n",
            "235/235 [==============================] - 1s 5ms/step - loss: 0.1688 - accuracy: 0.9390\n",
            "Epoch 41/100\n",
            "235/235 [==============================] - 1s 5ms/step - loss: 0.1647 - accuracy: 0.9408\n",
            "Epoch 42/100\n",
            "235/235 [==============================] - 1s 5ms/step - loss: 0.1626 - accuracy: 0.9412\n",
            "Epoch 43/100\n",
            "235/235 [==============================] - 1s 5ms/step - loss: 0.1627 - accuracy: 0.9413\n",
            "Epoch 44/100\n",
            "235/235 [==============================] - 1s 5ms/step - loss: 0.1619 - accuracy: 0.9416\n",
            "Epoch 45/100\n",
            "235/235 [==============================] - 1s 5ms/step - loss: 0.1591 - accuracy: 0.9434\n",
            "Epoch 46/100\n",
            "235/235 [==============================] - 1s 5ms/step - loss: 0.1582 - accuracy: 0.9427\n",
            "Epoch 47/100\n",
            "235/235 [==============================] - 1s 5ms/step - loss: 0.1577 - accuracy: 0.9428\n",
            "Epoch 48/100\n",
            "235/235 [==============================] - 1s 5ms/step - loss: 0.1551 - accuracy: 0.9441\n",
            "Epoch 49/100\n",
            "235/235 [==============================] - 1s 5ms/step - loss: 0.1525 - accuracy: 0.9460\n",
            "Epoch 50/100\n",
            "235/235 [==============================] - 1s 5ms/step - loss: 0.1517 - accuracy: 0.9452\n",
            "Epoch 51/100\n",
            "235/235 [==============================] - 1s 5ms/step - loss: 0.1494 - accuracy: 0.9462\n",
            "Epoch 52/100\n",
            "235/235 [==============================] - 1s 5ms/step - loss: 0.1490 - accuracy: 0.9469\n",
            "Epoch 53/100\n",
            "235/235 [==============================] - 1s 5ms/step - loss: 0.1476 - accuracy: 0.9466\n",
            "Epoch 54/100\n",
            "235/235 [==============================] - 1s 5ms/step - loss: 0.1473 - accuracy: 0.9467\n",
            "Epoch 55/100\n",
            "235/235 [==============================] - 1s 5ms/step - loss: 0.1444 - accuracy: 0.9475\n",
            "Epoch 56/100\n",
            "235/235 [==============================] - 1s 5ms/step - loss: 0.1436 - accuracy: 0.9482\n",
            "Epoch 57/100\n",
            "235/235 [==============================] - 1s 5ms/step - loss: 0.1426 - accuracy: 0.9489\n",
            "Epoch 58/100\n",
            "235/235 [==============================] - 1s 5ms/step - loss: 0.1420 - accuracy: 0.9493\n",
            "Epoch 59/100\n",
            "235/235 [==============================] - 1s 5ms/step - loss: 0.1402 - accuracy: 0.9489\n",
            "Epoch 60/100\n",
            "235/235 [==============================] - 1s 5ms/step - loss: 0.1385 - accuracy: 0.9506\n",
            "Epoch 61/100\n",
            "235/235 [==============================] - 1s 5ms/step - loss: 0.1384 - accuracy: 0.9505\n",
            "Epoch 62/100\n",
            "235/235 [==============================] - 1s 5ms/step - loss: 0.1369 - accuracy: 0.9513\n",
            "Epoch 63/100\n",
            "235/235 [==============================] - 1s 5ms/step - loss: 0.1346 - accuracy: 0.9517\n",
            "Epoch 64/100\n",
            "235/235 [==============================] - 1s 5ms/step - loss: 0.1326 - accuracy: 0.9527\n",
            "Epoch 65/100\n",
            "235/235 [==============================] - 1s 5ms/step - loss: 0.1335 - accuracy: 0.9524\n",
            "Epoch 66/100\n",
            "235/235 [==============================] - 1s 5ms/step - loss: 0.1321 - accuracy: 0.9525\n",
            "Epoch 67/100\n",
            "235/235 [==============================] - 1s 5ms/step - loss: 0.1313 - accuracy: 0.9530\n",
            "Epoch 68/100\n",
            "235/235 [==============================] - 1s 5ms/step - loss: 0.1322 - accuracy: 0.9516\n",
            "Epoch 69/100\n",
            "235/235 [==============================] - 1s 5ms/step - loss: 0.1293 - accuracy: 0.9544\n",
            "Epoch 70/100\n",
            "235/235 [==============================] - 1s 5ms/step - loss: 0.1286 - accuracy: 0.9539\n",
            "Epoch 71/100\n",
            "235/235 [==============================] - 1s 5ms/step - loss: 0.1258 - accuracy: 0.9546\n",
            "Epoch 72/100\n",
            "235/235 [==============================] - 1s 5ms/step - loss: 0.1284 - accuracy: 0.9538\n",
            "Epoch 73/100\n",
            "235/235 [==============================] - 1s 5ms/step - loss: 0.1283 - accuracy: 0.9539\n",
            "Epoch 74/100\n",
            "235/235 [==============================] - 1s 5ms/step - loss: 0.1230 - accuracy: 0.9556\n",
            "Epoch 75/100\n",
            "235/235 [==============================] - 1s 5ms/step - loss: 0.1232 - accuracy: 0.9553\n",
            "Epoch 76/100\n",
            "235/235 [==============================] - 1s 5ms/step - loss: 0.1246 - accuracy: 0.9552\n",
            "Epoch 77/100\n",
            "235/235 [==============================] - 1s 5ms/step - loss: 0.1209 - accuracy: 0.9561\n",
            "Epoch 78/100\n",
            "235/235 [==============================] - 1s 5ms/step - loss: 0.1197 - accuracy: 0.9566\n",
            "Epoch 79/100\n",
            "235/235 [==============================] - 1s 5ms/step - loss: 0.1187 - accuracy: 0.9584\n",
            "Epoch 80/100\n",
            "235/235 [==============================] - 1s 5ms/step - loss: 0.1198 - accuracy: 0.9564\n",
            "Epoch 81/100\n",
            "235/235 [==============================] - 1s 5ms/step - loss: 0.1167 - accuracy: 0.9591\n",
            "Epoch 82/100\n",
            "235/235 [==============================] - 1s 5ms/step - loss: 0.1180 - accuracy: 0.9575\n",
            "Epoch 83/100\n",
            "235/235 [==============================] - 1s 5ms/step - loss: 0.1157 - accuracy: 0.9586\n",
            "Epoch 84/100\n",
            "235/235 [==============================] - 1s 5ms/step - loss: 0.1164 - accuracy: 0.9584\n",
            "Epoch 85/100\n",
            "235/235 [==============================] - 1s 5ms/step - loss: 0.1165 - accuracy: 0.9580\n",
            "Epoch 86/100\n",
            "235/235 [==============================] - 1s 5ms/step - loss: 0.1122 - accuracy: 0.9607\n",
            "Epoch 87/100\n",
            "235/235 [==============================] - 1s 5ms/step - loss: 0.1123 - accuracy: 0.9596\n",
            "Epoch 88/100\n",
            "235/235 [==============================] - 1s 5ms/step - loss: 0.1121 - accuracy: 0.9594\n",
            "Epoch 89/100\n",
            "235/235 [==============================] - 1s 5ms/step - loss: 0.1118 - accuracy: 0.9598\n",
            "Epoch 90/100\n",
            "235/235 [==============================] - 1s 5ms/step - loss: 0.1113 - accuracy: 0.9597\n",
            "Epoch 91/100\n",
            "235/235 [==============================] - 1s 5ms/step - loss: 0.1092 - accuracy: 0.9604\n",
            "Epoch 92/100\n",
            "235/235 [==============================] - 1s 5ms/step - loss: 0.1099 - accuracy: 0.9606\n",
            "Epoch 93/100\n",
            "235/235 [==============================] - 1s 5ms/step - loss: 0.1082 - accuracy: 0.9615\n",
            "Epoch 94/100\n",
            "235/235 [==============================] - 1s 5ms/step - loss: 0.1100 - accuracy: 0.9600\n",
            "Epoch 95/100\n",
            "235/235 [==============================] - 1s 5ms/step - loss: 0.1079 - accuracy: 0.9611\n",
            "Epoch 96/100\n",
            "235/235 [==============================] - 1s 5ms/step - loss: 0.1062 - accuracy: 0.9615\n",
            "Epoch 97/100\n",
            "235/235 [==============================] - 1s 5ms/step - loss: 0.1050 - accuracy: 0.9628\n",
            "Epoch 98/100\n",
            "235/235 [==============================] - 1s 5ms/step - loss: 0.1042 - accuracy: 0.9627\n",
            "Epoch 99/100\n",
            "235/235 [==============================] - 1s 6ms/step - loss: 0.1042 - accuracy: 0.9628\n",
            "Epoch 100/100\n",
            "235/235 [==============================] - 1s 6ms/step - loss: 0.1058 - accuracy: 0.9614\n"
          ]
        },
        {
          "output_type": "display_data",
          "data": {
            "text/plain": [
              "<Figure size 432x288 with 1 Axes>"
            ],
            "image/png": "[encoded data removed]"
          },
          "metadata": {
            "needs_background": "light"
          }
        }
      ]
    },
    {
      "cell_type": "markdown",
      "source": [
        "### Ewaluacja\n",
        "* Zrób ewaluację naszego modelu na zbiorze treningowym i testowym (metoda evaluate).\n",
        "* Podaj wyniki dla obu zbiorów:"
      ],
      "metadata": {
        "id": "8cb5C4zQ80dF"
      }
    },
    {
      "cell_type": "code",
      "source": [
        "train_accuracy = model.evaluate(X_train, Y_train)\n",
        "test_accuracy = model.evaluate(X_test, Y_test)\n",
        "print('Dokładności klasyfikacji na materiale treningowym  = ',train_accuracy)\n",
        "print('dokładności klasyfikacji na materiale testowym  = ',test_accuracy)\n"
      ],
      "metadata": {
        "id": "JRHj84dz9mmh",
        "colab": {
          "base_uri": "https://localhost:8080/"
        },
        "outputId": "e15823fb-c4b8-4db1-e135-fbc9a75c5ce0"
      },
      "execution_count": 30,
      "outputs": [
        {
          "output_type": "stream",
          "name": "stdout",
          "text": [
            "1875/1875 [==============================] - 4s 2ms/step - loss: 0.1041 - accuracy: 0.9616\n",
            "313/313 [==============================] - 1s 3ms/step - loss: 0.3446 - accuracy: 0.9048\n",
            "Dokładności klasyfikacji na materiale treningowym  =  [0.10409162938594818, 0.9615833163261414]\n",
            "dokładności klasyfikacji na materiale testowym  =  [0.34458133578300476, 0.9047999978065491]\n"
          ]
        }
      ]
    },
    {
      "cell_type": "markdown",
      "source": [
        "### Early stopping\n",
        "* Dodajmy do treningu zbiór walidacyjny - możesz do tego użyć argumentu 'validation_split' metody [fit](https://keras.io/api/models/model_training_apis/). Zróbmy 10%. \n",
        "* Dodaj [early stopping](https://keras.io/api/callbacks/early_stopping/), patience 5. \n",
        "* Przeprowadź dwa treningi - najpierw monitorując w early stopping 'loss' a potem 'val_loss'. Jaka jest różnica? \n",
        "\n",
        "Jeśli early stopping nie miał okazji zadziałać, zwiększ liczbę epok. "
      ],
      "metadata": {
        "id": "Btt8b3Ve9rew"
      }
    },
    {
      "cell_type": "code",
      "source": [
        "from tensorflow import keras\n",
        "from keras.callbacks import EarlyStopping\n",
        "from keras.callbacks import ModelCheckpoint\n",
        "from keras.models import load_model\n",
        "from matplotlib import pyplot"
      ],
      "metadata": {
        "id": "bNFBJcEe9tCC"
      },
      "execution_count": 31,
      "outputs": []
    },
    {
      "cell_type": "code",
      "source": [
        "f1 = tf.keras.callbacks.EarlyStopping(monitor='loss', verbose=0, patience=5, mode=\"auto\")\n",
        "f2 = tf.keras.callbacks.ModelCheckpoint(filepath='modelx', save_weights_only = False, monitor = 'accuracy', mode='max', save_best_only = True)\n",
        "f3 = tf.keras.callbacks.TensorBoard(log_dir='./logs')"
      ],
      "metadata": {
        "id": "mBGQEFPvDWUs"
      },
      "execution_count": 32,
      "outputs": []
    },
    {
      "cell_type": "code",
      "source": [
        "history3 = model.fit(\n",
        "    x=X_train,\n",
        "    y=Y_train,\n",
        "    batch_size=256,\n",
        "    epochs=100,\n",
        "    verbose=\"auto\",\n",
        "    callbacks= [f1,f2,f3],\n",
        "    validation_split=0.1,\n",
        "    )\n",
        "trained_model = keras.models.load_model('modelx')\n",
        "train_accuracy = trained_model.evaluate(X_train, Y_train)\n",
        "test_accuracy = trained_model.evaluate(X_test, Y_test)\n",
        "print(train_accuracy + test_accuracy)\n",
        "print('Dokładności klasyfikacji na materiale treningowym  = ',train_accuracy)\n",
        "print('dokładności klasyfikacji na materiale testowym  = ',test_accuracy)\n",
        "summarize_diagnostics(history3)"
      ],
      "metadata": {
        "colab": {
          "base_uri": "https://localhost:8080/",
          "height": 1000
        },
        "id": "SJNAxSyjDsq4",
        "outputId": "30c63f6d-3a92-4f34-8780-545f6c4a8615"
      },
      "execution_count": 33,
      "outputs": [
        {
          "output_type": "stream",
          "name": "stdout",
          "text": [
            "Epoch 1/100\n",
            "211/211 [==============================] - ETA: 0s - loss: 0.1018 - accuracy: 0.9639INFO:tensorflow:Assets written to: modelx/assets\n",
            "211/211 [==============================] - 2s 10ms/step - loss: 0.1018 - accuracy: 0.9639 - val_loss: 0.0945 - val_accuracy: 0.9673\n",
            "Epoch 2/100\n",
            "202/211 [===========================>..] - ETA: 0s - loss: 0.0995 - accuracy: 0.9654INFO:tensorflow:Assets written to: modelx/assets\n",
            "211/211 [==============================] - 2s 8ms/step - loss: 0.0991 - accuracy: 0.9655 - val_loss: 0.0991 - val_accuracy: 0.9638\n",
            "Epoch 3/100\n",
            "211/211 [==============================] - 1s 6ms/step - loss: 0.1010 - accuracy: 0.9641 - val_loss: 0.1205 - val_accuracy: 0.9568\n",
            "Epoch 4/100\n",
            "211/211 [==============================] - 1s 5ms/step - loss: 0.1024 - accuracy: 0.9635 - val_loss: 0.1113 - val_accuracy: 0.9552\n",
            "Epoch 5/100\n",
            "211/211 [==============================] - 1s 5ms/step - loss: 0.0987 - accuracy: 0.9642 - val_loss: 0.1296 - val_accuracy: 0.9513\n",
            "Epoch 6/100\n",
            "211/211 [==============================] - 1s 5ms/step - loss: 0.1008 - accuracy: 0.9642 - val_loss: 0.1138 - val_accuracy: 0.9568\n",
            "Epoch 7/100\n",
            "204/211 [============================>.] - ETA: 0s - loss: 0.0957 - accuracy: 0.9659INFO:tensorflow:Assets written to: modelx/assets\n",
            "211/211 [==============================] - 2s 8ms/step - loss: 0.0964 - accuracy: 0.9656 - val_loss: 0.1146 - val_accuracy: 0.9568\n",
            "Epoch 8/100\n",
            "204/211 [============================>.] - ETA: 0s - loss: 0.0977 - accuracy: 0.9656INFO:tensorflow:Assets written to: modelx/assets\n",
            "211/211 [==============================] - 2s 8ms/step - loss: 0.0973 - accuracy: 0.9658 - val_loss: 0.1416 - val_accuracy: 0.9453\n",
            "Epoch 9/100\n",
            "206/211 [============================>.] - ETA: 0s - loss: 0.0945 - accuracy: 0.9661INFO:tensorflow:Assets written to: modelx/assets\n",
            "211/211 [==============================] - 2s 8ms/step - loss: 0.0947 - accuracy: 0.9659 - val_loss: 0.1143 - val_accuracy: 0.9578\n",
            "Epoch 10/100\n",
            "211/211 [==============================] - 1s 6ms/step - loss: 0.0958 - accuracy: 0.9655 - val_loss: 0.1187 - val_accuracy: 0.9535\n",
            "Epoch 11/100\n",
            "207/211 [============================>.] - ETA: 0s - loss: 0.0963 - accuracy: 0.9661INFO:tensorflow:Assets written to: modelx/assets\n",
            "211/211 [==============================] - 2s 9ms/step - loss: 0.0963 - accuracy: 0.9662 - val_loss: 0.1253 - val_accuracy: 0.9515\n",
            "Epoch 12/100\n",
            "206/211 [============================>.] - ETA: 0s - loss: 0.0927 - accuracy: 0.9676INFO:tensorflow:Assets written to: modelx/assets\n",
            "211/211 [==============================] - 2s 8ms/step - loss: 0.0929 - accuracy: 0.9673 - val_loss: 0.1298 - val_accuracy: 0.9495\n",
            "Epoch 13/100\n",
            "211/211 [==============================] - 1s 5ms/step - loss: 0.0930 - accuracy: 0.9671 - val_loss: 0.1262 - val_accuracy: 0.9502\n",
            "Epoch 14/100\n",
            "211/211 [==============================] - 1s 5ms/step - loss: 0.0930 - accuracy: 0.9664 - val_loss: 0.1299 - val_accuracy: 0.9510\n",
            "Epoch 15/100\n",
            "211/211 [==============================] - 1s 6ms/step - loss: 0.0922 - accuracy: 0.9667 - val_loss: 0.1419 - val_accuracy: 0.9435\n",
            "Epoch 16/100\n",
            "211/211 [==============================] - 1s 5ms/step - loss: 0.0936 - accuracy: 0.9665 - val_loss: 0.1475 - val_accuracy: 0.9428\n",
            "Epoch 17/100\n",
            "206/211 [============================>.] - ETA: 0s - loss: 0.0905 - accuracy: 0.9683INFO:tensorflow:Assets written to: modelx/assets\n",
            "211/211 [==============================] - 2s 8ms/step - loss: 0.0911 - accuracy: 0.9679 - val_loss: 0.1470 - val_accuracy: 0.9437\n",
            "Epoch 18/100\n",
            "204/211 [============================>.] - ETA: 0s - loss: 0.0882 - accuracy: 0.9685INFO:tensorflow:Assets written to: modelx/assets\n",
            "211/211 [==============================] - 2s 8ms/step - loss: 0.0883 - accuracy: 0.9685 - val_loss: 0.1377 - val_accuracy: 0.9480\n",
            "Epoch 19/100\n",
            "204/211 [============================>.] - ETA: 0s - loss: 0.0885 - accuracy: 0.9688INFO:tensorflow:Assets written to: modelx/assets\n",
            "211/211 [==============================] - 2s 8ms/step - loss: 0.0889 - accuracy: 0.9686 - val_loss: 0.1429 - val_accuracy: 0.9437\n",
            "Epoch 20/100\n",
            "211/211 [==============================] - 1s 5ms/step - loss: 0.0891 - accuracy: 0.9684 - val_loss: 0.1390 - val_accuracy: 0.9467\n",
            "Epoch 21/100\n",
            "205/211 [============================>.] - ETA: 0s - loss: 0.0874 - accuracy: 0.9691INFO:tensorflow:Assets written to: modelx/assets\n",
            "211/211 [==============================] - 2s 8ms/step - loss: 0.0876 - accuracy: 0.9692 - val_loss: 0.1392 - val_accuracy: 0.9477\n",
            "Epoch 22/100\n",
            "211/211 [==============================] - 1s 5ms/step - loss: 0.0880 - accuracy: 0.9683 - val_loss: 0.1457 - val_accuracy: 0.9438\n",
            "Epoch 23/100\n",
            "211/211 [==============================] - 1s 5ms/step - loss: 0.0876 - accuracy: 0.9688 - val_loss: 0.1462 - val_accuracy: 0.9438\n",
            "Epoch 24/100\n",
            "204/211 [============================>.] - ETA: 0s - loss: 0.0853 - accuracy: 0.9700INFO:tensorflow:Assets written to: modelx/assets\n",
            "211/211 [==============================] - 2s 8ms/step - loss: 0.0848 - accuracy: 0.9701 - val_loss: 0.1558 - val_accuracy: 0.9397\n",
            "Epoch 25/100\n",
            "211/211 [==============================] - 1s 5ms/step - loss: 0.0883 - accuracy: 0.9681 - val_loss: 0.1514 - val_accuracy: 0.9458\n",
            "Epoch 26/100\n",
            "211/211 [==============================] - 1s 5ms/step - loss: 0.0859 - accuracy: 0.9696 - val_loss: 0.1642 - val_accuracy: 0.9383\n",
            "Epoch 27/100\n",
            "202/211 [===========================>..] - ETA: 0s - loss: 0.0838 - accuracy: 0.9712INFO:tensorflow:Assets written to: modelx/assets\n",
            "211/211 [==============================] - 2s 9ms/step - loss: 0.0836 - accuracy: 0.9711 - val_loss: 0.1601 - val_accuracy: 0.9393\n",
            "Epoch 28/100\n",
            "211/211 [==============================] - 1s 6ms/step - loss: 0.0836 - accuracy: 0.9699 - val_loss: 0.1806 - val_accuracy: 0.9367\n",
            "Epoch 29/100\n",
            "211/211 [==============================] - 1s 5ms/step - loss: 0.0835 - accuracy: 0.9705 - val_loss: 0.1652 - val_accuracy: 0.9410\n",
            "Epoch 30/100\n",
            "211/211 [==============================] - 1s 6ms/step - loss: 0.0852 - accuracy: 0.9696 - val_loss: 0.1688 - val_accuracy: 0.9380\n",
            "Epoch 31/100\n",
            "211/211 [==============================] - 1s 6ms/step - loss: 0.0845 - accuracy: 0.9701 - val_loss: 0.1654 - val_accuracy: 0.9395\n",
            "Epoch 32/100\n",
            "202/211 [===========================>..] - ETA: 0s - loss: 0.0806 - accuracy: 0.9721INFO:tensorflow:Assets written to: modelx/assets\n",
            "211/211 [==============================] - 2s 8ms/step - loss: 0.0808 - accuracy: 0.9720 - val_loss: 0.1598 - val_accuracy: 0.9425\n",
            "Epoch 33/100\n",
            "211/211 [==============================] - 1s 6ms/step - loss: 0.0804 - accuracy: 0.9716 - val_loss: 0.1689 - val_accuracy: 0.9377\n",
            "Epoch 34/100\n",
            "211/211 [==============================] - 1s 5ms/step - loss: 0.0799 - accuracy: 0.9715 - val_loss: 0.1851 - val_accuracy: 0.9325\n",
            "Epoch 35/100\n",
            "211/211 [==============================] - 1s 6ms/step - loss: 0.0817 - accuracy: 0.9716 - val_loss: 0.1689 - val_accuracy: 0.9397\n",
            "Epoch 36/100\n",
            "211/211 [==============================] - 1s 5ms/step - loss: 0.0800 - accuracy: 0.9719 - val_loss: 0.1741 - val_accuracy: 0.9368\n",
            "Epoch 37/100\n",
            "211/211 [==============================] - 1s 6ms/step - loss: 0.0802 - accuracy: 0.9718 - val_loss: 0.1781 - val_accuracy: 0.9378\n",
            "Epoch 38/100\n",
            "210/211 [============================>.] - ETA: 0s - loss: 0.0775 - accuracy: 0.9734INFO:tensorflow:Assets written to: modelx/assets\n",
            "211/211 [==============================] - 2s 8ms/step - loss: 0.0776 - accuracy: 0.9734 - val_loss: 0.1874 - val_accuracy: 0.9350\n",
            "Epoch 39/100\n",
            "211/211 [==============================] - 1s 5ms/step - loss: 0.0791 - accuracy: 0.9722 - val_loss: 0.1716 - val_accuracy: 0.9378\n",
            "Epoch 40/100\n",
            "211/211 [==============================] - 1s 5ms/step - loss: 0.0768 - accuracy: 0.9733 - val_loss: 0.1912 - val_accuracy: 0.9332\n",
            "Epoch 41/100\n",
            "203/211 [===========================>..] - ETA: 0s - loss: 0.0758 - accuracy: 0.9737INFO:tensorflow:Assets written to: modelx/assets\n",
            "211/211 [==============================] - 2s 8ms/step - loss: 0.0762 - accuracy: 0.9736 - val_loss: 0.1885 - val_accuracy: 0.9337\n",
            "Epoch 42/100\n",
            "211/211 [==============================] - 1s 6ms/step - loss: 0.0785 - accuracy: 0.9720 - val_loss: 0.2114 - val_accuracy: 0.9302\n",
            "Epoch 43/100\n",
            "211/211 [==============================] - 1s 6ms/step - loss: 0.0779 - accuracy: 0.9725 - val_loss: 0.1967 - val_accuracy: 0.9338\n",
            "Epoch 44/100\n",
            "211/211 [==============================] - 1s 6ms/step - loss: 0.0785 - accuracy: 0.9716 - val_loss: 0.1861 - val_accuracy: 0.9360\n",
            "Epoch 45/100\n",
            "204/211 [============================>.] - ETA: 0s - loss: 0.0734 - accuracy: 0.9741INFO:tensorflow:Assets written to: modelx/assets\n",
            "211/211 [==============================] - 2s 8ms/step - loss: 0.0737 - accuracy: 0.9740 - val_loss: 0.1832 - val_accuracy: 0.9372\n",
            "Epoch 46/100\n",
            "211/211 [==============================] - 1s 6ms/step - loss: 0.0746 - accuracy: 0.9739 - val_loss: 0.1986 - val_accuracy: 0.9278\n",
            "Epoch 47/100\n",
            "211/211 [==============================] - 1s 5ms/step - loss: 0.0764 - accuracy: 0.9727 - val_loss: 0.1941 - val_accuracy: 0.9345\n",
            "Epoch 48/100\n",
            "211/211 [==============================] - ETA: 0s - loss: 0.0740 - accuracy: 0.9748INFO:tensorflow:Assets written to: modelx/assets\n",
            "211/211 [==============================] - 2s 8ms/step - loss: 0.0740 - accuracy: 0.9748 - val_loss: 0.1920 - val_accuracy: 0.9362\n",
            "Epoch 49/100\n",
            "201/211 [===========================>..] - ETA: 0s - loss: 0.0706 - accuracy: 0.9758INFO:tensorflow:Assets written to: modelx/assets\n",
            "211/211 [==============================] - 2s 8ms/step - loss: 0.0712 - accuracy: 0.9755 - val_loss: 0.1970 - val_accuracy: 0.9317\n",
            "Epoch 50/100\n",
            "211/211 [==============================] - 1s 5ms/step - loss: 0.0722 - accuracy: 0.9748 - val_loss: 0.1919 - val_accuracy: 0.9358\n",
            "Epoch 51/100\n",
            "211/211 [==============================] - ETA: 0s - loss: 0.0707 - accuracy: 0.9756INFO:tensorflow:Assets written to: modelx/assets\n",
            "211/211 [==============================] - 2s 9ms/step - loss: 0.0707 - accuracy: 0.9756 - val_loss: 0.1976 - val_accuracy: 0.9337\n",
            "Epoch 52/100\n",
            "211/211 [==============================] - 1s 5ms/step - loss: 0.0733 - accuracy: 0.9745 - val_loss: 0.1970 - val_accuracy: 0.9328\n",
            "Epoch 53/100\n",
            "211/211 [==============================] - 1s 6ms/step - loss: 0.0711 - accuracy: 0.9755 - val_loss: 0.2018 - val_accuracy: 0.9313\n",
            "Epoch 54/100\n",
            "211/211 [==============================] - 1s 6ms/step - loss: 0.0754 - accuracy: 0.9739 - val_loss: 0.1958 - val_accuracy: 0.9347\n",
            "Epoch 55/100\n",
            "204/211 [============================>.] - ETA: 0s - loss: 0.0680 - accuracy: 0.9764INFO:tensorflow:Assets written to: modelx/assets\n",
            "211/211 [==============================] - 2s 8ms/step - loss: 0.0682 - accuracy: 0.9762 - val_loss: 0.2140 - val_accuracy: 0.9308\n",
            "Epoch 56/100\n",
            "211/211 [==============================] - 1s 6ms/step - loss: 0.0708 - accuracy: 0.9752 - val_loss: 0.2317 - val_accuracy: 0.9248\n",
            "Epoch 57/100\n",
            "211/211 [==============================] - 1s 6ms/step - loss: 0.0703 - accuracy: 0.9747 - val_loss: 0.2020 - val_accuracy: 0.9338\n",
            "Epoch 58/100\n",
            "210/211 [============================>.] - ETA: 0s - loss: 0.0668 - accuracy: 0.9771INFO:tensorflow:Assets written to: modelx/assets\n",
            "211/211 [==============================] - 2s 8ms/step - loss: 0.0671 - accuracy: 0.9771 - val_loss: 0.2126 - val_accuracy: 0.9330\n",
            "Epoch 59/100\n",
            "211/211 [==============================] - 1s 6ms/step - loss: 0.0682 - accuracy: 0.9762 - val_loss: 0.2164 - val_accuracy: 0.9323\n",
            "Epoch 60/100\n",
            "211/211 [==============================] - 1s 6ms/step - loss: 0.0683 - accuracy: 0.9769 - val_loss: 0.2367 - val_accuracy: 0.9290\n",
            "Epoch 61/100\n",
            "211/211 [==============================] - 1s 5ms/step - loss: 0.0677 - accuracy: 0.9762 - val_loss: 0.2165 - val_accuracy: 0.9333\n",
            "Epoch 62/100\n",
            "211/211 [==============================] - 1s 6ms/step - loss: 0.0677 - accuracy: 0.9769 - val_loss: 0.2372 - val_accuracy: 0.9267\n",
            "Epoch 63/100\n",
            "211/211 [==============================] - 1s 5ms/step - loss: 0.0702 - accuracy: 0.9752 - val_loss: 0.2377 - val_accuracy: 0.9268\n",
            "1875/1875 [==============================] - 5s 2ms/step - loss: 0.0766 - accuracy: 0.9745\n",
            "313/313 [==============================] - 1s 3ms/step - loss: 0.4457 - accuracy: 0.9051\n",
            "[0.0765945315361023, 0.9745333194732666, 0.4457113742828369, 0.9050999879837036]\n",
            "Dokładności klasyfikacji na materiale treningowym  =  [0.0765945315361023, 0.9745333194732666]\n",
            "dokładności klasyfikacji na materiale testowym  =  [0.4457113742828369, 0.9050999879837036]\n"
          ]
        },
        {
          "output_type": "display_data",
          "data": {
            "text/plain": [
              "<Figure size 432x288 with 1 Axes>"
            ],
            "image/png": "[encoded data removed]"
          },
          "metadata": {
            "needs_background": "light"
          }
        }
      ]
    },
    {
      "cell_type": "markdown",
      "source": [
        "### Poprawa wyniku\n",
        "* Spróbuj stworzyć 3 sieci, które uzyskają lepszy wynik na zbiorze fashion_mnist. Możesz zmodyfikować naszą prostą sieć lub zaprojektować zupełnie nową. \n",
        "* Poeksperymentuj z modyfikacjami warstw Conv2D (np. zmiana liczby filtrów), dodawaniem warstw Conv2D i Dense. Możesz też dodać Dropout. \n",
        "* Dla każdej z tych sieci przeprowadź ewaluację i wypisz wyniki. "
      ],
      "metadata": {
        "id": "EZr1nupSBcYP"
      }
    },
    {
      "cell_type": "code",
      "source": [
        ""
      ],
      "metadata": {
        "id": "xkUVjs5FBfSo"
      },
      "execution_count": null,
      "outputs": []
    },
    {
      "cell_type": "markdown",
      "source": [
        "To wszystko. Dziękuję! "
      ],
      "metadata": {
        "id": "PdTBNmC4JBWv"
      }
    }
  ]
}