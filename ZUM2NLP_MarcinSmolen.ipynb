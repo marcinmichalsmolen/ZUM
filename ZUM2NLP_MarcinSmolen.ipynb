{
  "cells": [
    {
      "cell_type": "markdown",
      "metadata": {
        "id": "view-in-github",
        "colab_type": "text"
      },
      "source": [
        "<a href=\"https://colab.research.google.com/github/marcinmichalsmolen/zum_nlp/blob/main/ZUM2NLP_MarcinSmolen.ipynb\" target=\"_parent\"><img src=\"https://colab.research.google.com/assets/colab-badge.svg\" alt=\"Open In Colab\"/></a>"
      ]
    },
    {
      "cell_type": "markdown",
      "metadata": {
        "id": "3K65N56cyr21"
      },
      "source": [
        "ZUM_NLP Marcin Smoleń s23429"
      ]
    },
    {
      "cell_type": "code",
      "execution_count": 1,
      "metadata": {
        "id": "goy-iNWae57e",
        "colab": {
          "base_uri": "https://localhost:8080/",
          "height": 380
        },
        "outputId": "96425946-4d18-4678-9295-7e185cab9f65"
      },
      "outputs": [
        {
          "output_type": "error",
          "ename": "MessageError",
          "evalue": "ignored",
          "traceback": [
            "\u001b[0;31m---------------------------------------------------------------------------\u001b[0m",
            "\u001b[0;31mMessageError\u001b[0m                              Traceback (most recent call last)",
            "\u001b[0;32m<ipython-input-1-b4e22097cc54>\u001b[0m in \u001b[0;36m<module>\u001b[0;34m()\u001b[0m\n\u001b[1;32m      1\u001b[0m \u001b[0;32mfrom\u001b[0m \u001b[0mgoogle\u001b[0m\u001b[0;34m.\u001b[0m\u001b[0mcolab\u001b[0m \u001b[0;32mimport\u001b[0m \u001b[0mdrive\u001b[0m\u001b[0;34m\u001b[0m\u001b[0;34m\u001b[0m\u001b[0m\n\u001b[0;32m----> 2\u001b[0;31m \u001b[0mdrive\u001b[0m\u001b[0;34m.\u001b[0m\u001b[0mmount\u001b[0m\u001b[0;34m(\u001b[0m\u001b[0;34m'/content/drive/'\u001b[0m\u001b[0;34m)\u001b[0m\u001b[0;34m\u001b[0m\u001b[0;34m\u001b[0m\u001b[0m\n\u001b[0m\u001b[1;32m      3\u001b[0m \u001b[0;34m\u001b[0m\u001b[0m\n\u001b[1;32m      4\u001b[0m \u001b[0mget_ipython\u001b[0m\u001b[0;34m(\u001b[0m\u001b[0;34m)\u001b[0m\u001b[0;34m.\u001b[0m\u001b[0msystem\u001b[0m\u001b[0;34m(\u001b[0m\u001b[0;34m'python -m pip install spacy==3.2.0 -q'\u001b[0m\u001b[0;34m)\u001b[0m\u001b[0;34m\u001b[0m\u001b[0;34m\u001b[0m\u001b[0m\n\u001b[1;32m      5\u001b[0m \u001b[0mget_ipython\u001b[0m\u001b[0;34m(\u001b[0m\u001b[0;34m)\u001b[0m\u001b[0;34m.\u001b[0m\u001b[0msystem\u001b[0m\u001b[0;34m(\u001b[0m\u001b[0;34m'python -m spacy download pl_core_news_md'\u001b[0m\u001b[0;34m)\u001b[0m\u001b[0;34m\u001b[0m\u001b[0;34m\u001b[0m\u001b[0m\n",
            "\u001b[0;32m/usr/local/lib/python3.7/dist-packages/google/colab/drive.py\u001b[0m in \u001b[0;36mmount\u001b[0;34m(mountpoint, force_remount, timeout_ms, use_metadata_server)\u001b[0m\n\u001b[1;32m    111\u001b[0m       \u001b[0mtimeout_ms\u001b[0m\u001b[0;34m=\u001b[0m\u001b[0mtimeout_ms\u001b[0m\u001b[0;34m,\u001b[0m\u001b[0;34m\u001b[0m\u001b[0;34m\u001b[0m\u001b[0m\n\u001b[1;32m    112\u001b[0m       \u001b[0muse_metadata_server\u001b[0m\u001b[0;34m=\u001b[0m\u001b[0muse_metadata_server\u001b[0m\u001b[0;34m,\u001b[0m\u001b[0;34m\u001b[0m\u001b[0;34m\u001b[0m\u001b[0m\n\u001b[0;32m--> 113\u001b[0;31m       ephemeral=ephemeral)\n\u001b[0m\u001b[1;32m    114\u001b[0m \u001b[0;34m\u001b[0m\u001b[0m\n\u001b[1;32m    115\u001b[0m \u001b[0;34m\u001b[0m\u001b[0m\n",
            "\u001b[0;32m/usr/local/lib/python3.7/dist-packages/google/colab/drive.py\u001b[0m in \u001b[0;36m_mount\u001b[0;34m(mountpoint, force_remount, timeout_ms, use_metadata_server, ephemeral)\u001b[0m\n\u001b[1;32m    134\u001b[0m   \u001b[0;32mif\u001b[0m \u001b[0mephemeral\u001b[0m\u001b[0;34m:\u001b[0m\u001b[0;34m\u001b[0m\u001b[0;34m\u001b[0m\u001b[0m\n\u001b[1;32m    135\u001b[0m     _message.blocking_request(\n\u001b[0;32m--> 136\u001b[0;31m         'request_auth', request={'authType': 'dfs_ephemeral'}, timeout_sec=None)\n\u001b[0m\u001b[1;32m    137\u001b[0m \u001b[0;34m\u001b[0m\u001b[0m\n\u001b[1;32m    138\u001b[0m   \u001b[0mmountpoint\u001b[0m \u001b[0;34m=\u001b[0m \u001b[0m_os\u001b[0m\u001b[0;34m.\u001b[0m\u001b[0mpath\u001b[0m\u001b[0;34m.\u001b[0m\u001b[0mexpanduser\u001b[0m\u001b[0;34m(\u001b[0m\u001b[0mmountpoint\u001b[0m\u001b[0;34m)\u001b[0m\u001b[0;34m\u001b[0m\u001b[0;34m\u001b[0m\u001b[0m\n",
            "\u001b[0;32m/usr/local/lib/python3.7/dist-packages/google/colab/_message.py\u001b[0m in \u001b[0;36mblocking_request\u001b[0;34m(request_type, request, timeout_sec, parent)\u001b[0m\n\u001b[1;32m    173\u001b[0m   request_id = send_request(\n\u001b[1;32m    174\u001b[0m       request_type, request, parent=parent, expect_reply=True)\n\u001b[0;32m--> 175\u001b[0;31m   \u001b[0;32mreturn\u001b[0m \u001b[0mread_reply_from_input\u001b[0m\u001b[0;34m(\u001b[0m\u001b[0mrequest_id\u001b[0m\u001b[0;34m,\u001b[0m \u001b[0mtimeout_sec\u001b[0m\u001b[0;34m)\u001b[0m\u001b[0;34m\u001b[0m\u001b[0;34m\u001b[0m\u001b[0m\n\u001b[0m",
            "\u001b[0;32m/usr/local/lib/python3.7/dist-packages/google/colab/_message.py\u001b[0m in \u001b[0;36mread_reply_from_input\u001b[0;34m(message_id, timeout_sec)\u001b[0m\n\u001b[1;32m    104\u001b[0m         reply.get('colab_msg_id') == message_id):\n\u001b[1;32m    105\u001b[0m       \u001b[0;32mif\u001b[0m \u001b[0;34m'error'\u001b[0m \u001b[0;32min\u001b[0m \u001b[0mreply\u001b[0m\u001b[0;34m:\u001b[0m\u001b[0;34m\u001b[0m\u001b[0;34m\u001b[0m\u001b[0m\n\u001b[0;32m--> 106\u001b[0;31m         \u001b[0;32mraise\u001b[0m \u001b[0mMessageError\u001b[0m\u001b[0;34m(\u001b[0m\u001b[0mreply\u001b[0m\u001b[0;34m[\u001b[0m\u001b[0;34m'error'\u001b[0m\u001b[0;34m]\u001b[0m\u001b[0;34m)\u001b[0m\u001b[0;34m\u001b[0m\u001b[0;34m\u001b[0m\u001b[0m\n\u001b[0m\u001b[1;32m    107\u001b[0m       \u001b[0;32mreturn\u001b[0m \u001b[0mreply\u001b[0m\u001b[0;34m.\u001b[0m\u001b[0mget\u001b[0m\u001b[0;34m(\u001b[0m\u001b[0;34m'data'\u001b[0m\u001b[0;34m,\u001b[0m \u001b[0;32mNone\u001b[0m\u001b[0;34m)\u001b[0m\u001b[0;34m\u001b[0m\u001b[0;34m\u001b[0m\u001b[0m\n\u001b[1;32m    108\u001b[0m \u001b[0;34m\u001b[0m\u001b[0m\n",
            "\u001b[0;31mMessageError\u001b[0m: Error: credential propagation was unsuccessful"
          ]
        }
      ],
      "source": [
        "from google.colab import drive\n",
        "drive.mount('/content/drive/')\n",
        "\n",
        "!python -m pip install spacy==3.2.0 -q\n",
        "!python -m spacy download pl_core_news_md"
      ]
    },
    {
      "cell_type": "markdown",
      "metadata": {
        "id": "WZzyZxdGAlIP"
      },
      "source": [
        "Import bibliotek i wczytanie zbioru tweetów z mojego serwera"
      ]
    },
    {
      "cell_type": "code",
      "execution_count": null,
      "metadata": {
        "id": "8AJ12CSRttnB"
      },
      "outputs": [],
      "source": [
        "import numpy as np\n",
        "import pandas as pd\n",
        "import string\n",
        "import json\n",
        "import re\n",
        "\n",
        "DATASET_COLUMNS=['Id', 'text',]\n",
        "DATASET_ENCODING = \"UTF-8\"\n",
        "from pandas.core import frame\n",
        "df=pd.read_json(path_or_buf='http://77.55.209.58/zum2/tweets.json',encoding=DATASET_ENCODING,typ=frame)\n",
        "df"
      ]
    },
    {
      "cell_type": "code",
      "execution_count": null,
      "metadata": {
        "id": "NGaAYtAbyX_1"
      },
      "outputs": [],
      "source": [
        "from pandas.io.formats.info import DataFrameInfo\n",
        "N = 10\n",
        "df.sample(N) \n",
        "# Konwertuje dane do formatu Dataframe\n",
        "data=pd.DataFrame(data=df)\n",
        "data.index=pd.to_numeric(data.index)\n",
        "data['label'] = None\n",
        "data.columns=['text','label']\n",
        "data.index.unique()\n",
        "data"
      ]
    },
    {
      "cell_type": "code",
      "execution_count": null,
      "metadata": {
        "id": "mio4QG2Z-Wl5"
      },
      "outputs": [],
      "source": [
        "# wizualizacja\n",
        "import seaborn as sns\n",
        "from wordcloud import WordCloud\n",
        "import matplotlib.pyplot as plt\n",
        "# nltk - do preprocessingu\n",
        "import nltk\n",
        "from nltk.stem import WordNetLemmatizer\n",
        "import spacy\n",
        "# sklearn - modele do ML\n",
        "from sklearn.svm import LinearSVC\n",
        "from sklearn.naive_bayes import BernoulliNB\n",
        "from sklearn.linear_model import LogisticRegression\n",
        "from sklearn.model_selection import train_test_split\n",
        "from sklearn.feature_extraction.text import TfidfVectorizer\n",
        "from sklearn.metrics import confusion_matrix, classification_report\n",
        "\n",
        "# do polaryzacji\n",
        "from textblob import TextBlob"
      ]
    },
    {
      "cell_type": "code",
      "execution_count": null,
      "metadata": {
        "id": "r9kL1PwR_Ako"
      },
      "outputs": [],
      "source": [
        "def get_tweet_sentiment(tweet):\n",
        "        '''\n",
        "        Utility function to classify sentiment of passed tweet\n",
        "        using textblob's sentiment method\n",
        "        '''\n",
        "        # create TextBlob object of passed tweet text\n",
        "        analysis = TextBlob(tweet)\n",
        "        # Ustawienie sentymentu\n",
        "        if analysis.sentiment.polarity > 0:\n",
        "            return 'pozytywny'\n",
        "        else:\n",
        "            return 'negatywny'"
      ]
    },
    {
      "cell_type": "code",
      "execution_count": null,
      "metadata": {
        "colab": {
          "background_save": true
        },
        "id": "TBUsmaCT_BB3"
      },
      "outputs": [],
      "source": [
        "for ind in data.index:\n",
        "     data['label'][ind] = get_tweet_sentiment(data['text'][ind])"
      ]
    },
    {
      "cell_type": "code",
      "execution_count": null,
      "metadata": {
        "id": "DFbV1IoaHKnN"
      },
      "outputs": [],
      "source": [
        "ax.set_xticklabels(['pozytywny','negatywny'], rotation=0)\n",
        "sns.countplot(x='label', data=df)"
      ]
    },
    {
      "cell_type": "code",
      "execution_count": null,
      "metadata": {
        "id": "1Z-Gb8QoJndl"
      },
      "outputs": [],
      "source": [
        "data=data[['text','label']] \n",
        "pd.options.mode.chained_assignment = None\n",
        "data_pos = df[df['label'].isin(['pozytywny'])]\n",
        "data_neg = df[df['label'].isin(['negatywny'])]\n",
        "print(data_neg)\n",
        "print(data_pos)\n",
        "dataset = pd.concat([data_pos, data_neg])\n",
        "dataset= dataset.applymap(lambda s:s.lower() if type(s) == str else s)\n",
        "dataset.sample(100)"
      ]
    },
    {
      "cell_type": "markdown",
      "metadata": {
        "id": "p16Rs36aIzFC"
      },
      "source": [
        "Wczytywanie zbioru stopwords do odszumienia danych i wyświetlenie jego zawartości"
      ]
    },
    {
      "cell_type": "code",
      "execution_count": null,
      "metadata": {
        "id": "hRR7qSrrIfwD"
      },
      "outputs": [],
      "source": [
        "nlp = spacy.load('pl_core_news_md')\n",
        "stopwordlist = nlp.Defaults.stop_words\n",
        "print(stopwordlist)"
      ]
    },
    {
      "cell_type": "code",
      "execution_count": null,
      "metadata": {
        "id": "7SAJfJhaKC1z"
      },
      "outputs": [],
      "source": [
        "def cleaning_stopwords(text):\n",
        "    return \" \".join([word for word in str(text).split() if word not in stopwordlist])\n",
        "for ind in dataset.index:\n",
        "     dataset['text'][ind] = cleaning_stopwords(dataset['text'][ind])\n",
        "dataset.sample(10)\n",
        "  "
      ]
    },
    {
      "cell_type": "code",
      "execution_count": null,
      "metadata": {
        "id": "9Pu49AU0KOk7"
      },
      "outputs": [],
      "source": [
        "dataset['text'].head()\n"
      ]
    },
    {
      "cell_type": "code",
      "execution_count": null,
      "metadata": {
        "id": "HNHYJlxNKPvz"
      },
      "outputs": [],
      "source": [
        "punctuations_list = string.punctuation\n",
        "def cleaning_punctuations(text):\n",
        "    translator = str.maketrans('', '', punctuations_list)\n",
        "    return text.translate(translator)\n",
        "\n",
        "for ind in dataset.index:\n",
        "     dataset['text'][ind] = cleaning_punctuations(dataset['text'][ind])\n",
        "\n",
        "dataset.sample(10)"
      ]
    },
    {
      "cell_type": "code",
      "execution_count": null,
      "metadata": {
        "id": "SUKWEanLKZ5K"
      },
      "outputs": [],
      "source": [
        "def cleaning_repeating_char(text):\n",
        "    return re.sub(r'(.)1+', r'1', text)\n",
        "for ind in dataset.index:\n",
        "     dataset['text'][ind] = cleaning_repeating_char(dataset['text'][ind])\n",
        "dataset.sample(10)"
      ]
    },
    {
      "cell_type": "code",
      "execution_count": null,
      "metadata": {
        "id": "IdnqzxizKf-C"
      },
      "outputs": [],
      "source": [
        "def cleaning_URLs(data):\n",
        "    return re.sub('((www.[^s]+)|(https[^s]+))',' ',data)\n",
        "\n",
        "for ind in dataset.index:\n",
        "     dataset['text'][ind] = cleaning_URLs(dataset['text'][ind])\n",
        "\n",
        "dataset.sample(10)"
      ]
    },
    {
      "cell_type": "code",
      "execution_count": null,
      "metadata": {
        "id": "di9-il1YKkCh"
      },
      "outputs": [],
      "source": [
        "def cleaning_numbers(data):\n",
        "    return re.sub('[0-9]+', '', data)\n",
        "    \n",
        "for ind in dataset.index:\n",
        "     dataset['text'][ind] = cleaning_numbers(dataset['text'][ind])\n",
        "\n",
        "dataset.sample(10)"
      ]
    },
    {
      "cell_type": "markdown",
      "metadata": {
        "id": "Pu7URp5DKpzT"
      },
      "source": [
        "Tokenizacja"
      ]
    },
    {
      "cell_type": "code",
      "execution_count": null,
      "metadata": {
        "id": "oTZwOBaCKrch"
      },
      "outputs": [],
      "source": [
        "from nltk.tokenize import RegexpTokenizer\n",
        "tokenizer = RegexpTokenizer(r'w+')\n",
        "dataset['text'] = dataset['text'].apply(tokenizer.tokenize)\n",
        "dataset['text'].head()"
      ]
    },
    {
      "cell_type": "code",
      "execution_count": null,
      "metadata": {
        "id": "cq_ftSBIKx-J"
      },
      "outputs": [],
      "source": [
        "X_train, X_test, y_train, y_test = train_test_split(X,y,test_size = 0.05, random_state =42)"
      ]
    },
    {
      "cell_type": "code",
      "execution_count": null,
      "metadata": {
        "id": "VvgzvSzOK3Ea"
      },
      "outputs": [],
      "source": [
        "vectorizer = TfidfVectorizer(ngram_range=(1,2), max_features=500000)\n",
        "vectorizer.fit(X_train)\n",
        "print('No. of feature_words: ', len(vectorizer.get_feature_names()))"
      ]
    },
    {
      "cell_type": "code",
      "execution_count": null,
      "metadata": {
        "id": "ueOS5jwbK67p"
      },
      "outputs": [],
      "source": [
        "X_train = vectorizer.transform(X_train)\n",
        "X_test  = vectorizer.transform(X_test)\n"
      ]
    },
    {
      "cell_type": "code",
      "execution_count": null,
      "metadata": {
        "id": "AJhe2RisK8yy"
      },
      "outputs": [],
      "source": [
        "def model_Evaluate(model):\n",
        "  # Predykcja danych na danych testowych\n",
        "  y_pred = model.predict(X_test)\n",
        "\n",
        "  # Wyświetlenie metryk ewaluacji na podstawie predykcji i ground truth (faktycznych etykiet)\n",
        "  print(classification_report(y_test, y_pred))\n",
        "\n",
        "  # Obliczamy i wyświetlamy confusion matrix\n",
        "  cf_matrix = confusion_matrix(y_test, y_pred)\n",
        "  categories = ['negatywny','pozytywny']\n",
        "  group_names n= ['True Neg','False Pos', 'False Neg','True Pos']\n",
        "  group_percentages = ['{0:.2%}'.format(value) for value in cf_matrix.flatten() / np.sum(cf_matrix)]\n",
        "  labels = [f'{v1}n{v2}' for v1, v2 in zip(group_names, group_percentages)]\n",
        "  labels = np.asarray(labels).reshape(2,2)\n",
        "  sns.heatmap(cf_matrix, annot = labels, cmap = 'Blues',fmt = '',\n",
        "  xticklabels = categories, yticklabels = categories)\n",
        "  plt.xlabel(\"Predicted values\", fontdict = {'size':14}, labelpad = 10)\n",
        "  plt.ylabel(\"Actual values\" , fontdict = {'size':14}, labelpad = 10)\n",
        "  plt.title (\"Confusion Matrix\", fontdict = {'size':18}, pad = 20)\n",
        "  return y_pred"
      ]
    },
    {
      "cell_type": "code",
      "execution_count": null,
      "metadata": {
        "id": "e44vuO_0K-Kj"
      },
      "outputs": [],
      "source": [
        "BNBmodel = BernoulliNB()\n",
        "BNBmodel.fit(X_train, y_train)\n",
        "y_pred1 = BNBmodel.predict(X_test)\n",
        "print(y_pred1)"
      ]
    },
    {
      "cell_type": "code",
      "execution_count": null,
      "metadata": {
        "id": "5KFyAyQ8LCXa"
      },
      "outputs": [],
      "source": [
        "from sklearn.metrics import roc_curve, auc\n",
        "\n",
        "fpr, tpr, thresholds = roc_curve(y_test, y_pred1)\n",
        "roc_auc = auc(fpr, tpr)\n",
        "plt.figure()\n",
        "plt.plot(fpr, tpr, color='darkorange', lw=1, label='ROC curve (area = %0.2f)' % roc_auc)\n",
        "plt.xlim([0.0, 1.0])\n",
        "plt.ylim([0.0, 1.05])\n",
        "plt.xlabel('False Positive Rate')\n",
        "plt.ylabel('True Positive Rate')\n",
        "plt.title('ROC CURVE')\n",
        "plt.legend(loc=\"lower right\")\n",
        "plt.show()"
      ]
    },
    {
      "cell_type": "code",
      "execution_count": null,
      "metadata": {
        "id": "Y75k6hmULDy5"
      },
      "outputs": [],
      "source": [
        "SVCmodel = LinearSVC()\n",
        "SVCmodel.fit(X_train, y_train)\n",
        "model_Evaluate(SVCmodel)\n",
        "y_pred2 = SVCmodel.predict(X_test)"
      ]
    },
    {
      "cell_type": "code",
      "execution_count": null,
      "metadata": {
        "id": "2Pv0YbwQLFjy"
      },
      "outputs": [],
      "source": [
        "fpr, tpr, thresholds = roc_curve(y_test, y_pred2)\n",
        "roc_auc = auc(fpr, tpr)\n",
        "plt.figure()\n",
        "plt.plot(fpr, tpr, color='darkorange', lw=1, label='ROC curve (area = %0.2f)' % roc_auc)\n",
        "plt.xlim([0.0, 1.0])\n",
        "plt.ylim([0.0, 1.05])\n",
        "plt.xlabel('False Positive Rate')\n",
        "plt.ylabel('True Positive Rate')\n",
        "plt.title('ROC CURVE')\n",
        "plt.legend(loc=\"lower right\")\n",
        "plt.show()"
      ]
    },
    {
      "cell_type": "code",
      "execution_count": null,
      "metadata": {
        "id": "9fb-6ILBLGry"
      },
      "outputs": [],
      "source": [
        "LRmodel = LogisticRegression(max_iter = 1000)\n",
        "LRmodel.fit(X_train, y_train)\n",
        "model_Evaluate(LRmodel)\n",
        "y_pred3 = LRmodel.predict(X_test)"
      ]
    },
    {
      "cell_type": "code",
      "execution_count": null,
      "metadata": {
        "id": "M3h_BIbELIR6"
      },
      "outputs": [],
      "source": [
        "fpr, tpr, thresholds = roc_curve(y_test, y_pred3)\n",
        "roc_auc = auc(fpr, tpr)\n",
        "plt.figure()\n",
        "plt.plot(fpr, tpr, color='darkorange', lw=1, label='ROC curve (area = %0.2f)' % roc_auc)\n",
        "plt.xlim([0.0, 1.0])\n",
        "plt.ylim([0.0, 1.05])\n",
        "plt.xlabel('False Positive Rate')\n",
        "plt.ylabel('True Positive Rate')\n",
        "plt.title('ROC CURVE')\n",
        "plt.legend(loc=\"lower right\")\n",
        "plt.show()"
      ]
    }
  ],
  "metadata": {
    "colab": {
      "collapsed_sections": [],
      "name": "ZUM2NLP_MarcinSmolen.ipynb",
      "provenance": [],
      "authorship_tag": "ABX9TyOUkqEsJuP+7otL4cH888/m",
      "include_colab_link": true
    },
    "kernelspec": {
      "display_name": "Python 3",
      "name": "python3"
    },
    "language_info": {
      "name": "python"
    }
  },
  "nbformat": 4,
  "nbformat_minor": 0
}